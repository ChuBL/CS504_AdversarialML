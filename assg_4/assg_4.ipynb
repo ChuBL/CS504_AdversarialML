{
  "nbformat": 4,
  "nbformat_minor": 0,
  "metadata": {
    "colab": {
      "provenance": [],
      "collapsed_sections": [
        "3BfyDH6QZW6o",
        "fgGgnwDqe2ii",
        "K62sKCQ4ptfc"
      ],
      "machine_shape": "hm",
      "gpuType": "T4"
    },
    "kernelspec": {
      "name": "python3",
      "display_name": "Python 3"
    },
    "language_info": {
      "name": "python"
    },
    "accelerator": "GPU",
    "gpuClass": "standard",
    "widgets": {
      "application/vnd.jupyter.widget-state+json": {
        "0fffe00fc51e49f4a15b85adb0f0bd7b": {
          "model_module": "@jupyter-widgets/controls",
          "model_name": "HBoxModel",
          "model_module_version": "1.5.0",
          "state": {
            "_dom_classes": [],
            "_model_module": "@jupyter-widgets/controls",
            "_model_module_version": "1.5.0",
            "_model_name": "HBoxModel",
            "_view_count": null,
            "_view_module": "@jupyter-widgets/controls",
            "_view_module_version": "1.5.0",
            "_view_name": "HBoxView",
            "box_style": "",
            "children": [
              "IPY_MODEL_f1627435e9e54d31aceabde7f891111e",
              "IPY_MODEL_56183f403af04e9b81292560ccf54068",
              "IPY_MODEL_4b96633219a3469d944d8e0837f2565f"
            ],
            "layout": "IPY_MODEL_e0f286fabd6243dbbca495756c760995"
          }
        },
        "f1627435e9e54d31aceabde7f891111e": {
          "model_module": "@jupyter-widgets/controls",
          "model_name": "HTMLModel",
          "model_module_version": "1.5.0",
          "state": {
            "_dom_classes": [],
            "_model_module": "@jupyter-widgets/controls",
            "_model_module_version": "1.5.0",
            "_model_name": "HTMLModel",
            "_view_count": null,
            "_view_module": "@jupyter-widgets/controls",
            "_view_module_version": "1.5.0",
            "_view_name": "HTMLView",
            "description": "",
            "description_tooltip": null,
            "layout": "IPY_MODEL_96f96ca64e0249aeb33abb28bc43f7a9",
            "placeholder": "​",
            "style": "IPY_MODEL_142a0fc418974f1c9ac75afe22e334c9",
            "value": "JSMA: 100%"
          }
        },
        "56183f403af04e9b81292560ccf54068": {
          "model_module": "@jupyter-widgets/controls",
          "model_name": "FloatProgressModel",
          "model_module_version": "1.5.0",
          "state": {
            "_dom_classes": [],
            "_model_module": "@jupyter-widgets/controls",
            "_model_module_version": "1.5.0",
            "_model_name": "FloatProgressModel",
            "_view_count": null,
            "_view_module": "@jupyter-widgets/controls",
            "_view_module_version": "1.5.0",
            "_view_name": "ProgressView",
            "bar_style": "success",
            "description": "",
            "description_tooltip": null,
            "layout": "IPY_MODEL_79e8aa1228e04a1cb4668d4af2ac9d87",
            "max": 1000,
            "min": 0,
            "orientation": "horizontal",
            "style": "IPY_MODEL_85831b34a6524553acea89f16f2abeef",
            "value": 1000
          }
        },
        "4b96633219a3469d944d8e0837f2565f": {
          "model_module": "@jupyter-widgets/controls",
          "model_name": "HTMLModel",
          "model_module_version": "1.5.0",
          "state": {
            "_dom_classes": [],
            "_model_module": "@jupyter-widgets/controls",
            "_model_module_version": "1.5.0",
            "_model_name": "HTMLModel",
            "_view_count": null,
            "_view_module": "@jupyter-widgets/controls",
            "_view_module_version": "1.5.0",
            "_view_name": "HTMLView",
            "description": "",
            "description_tooltip": null,
            "layout": "IPY_MODEL_2b3e424723564d0d93c30d8cfa0d336f",
            "placeholder": "​",
            "style": "IPY_MODEL_25df8957d46c47f4a88c334009ada67f",
            "value": " 1000/1000 [00:05&lt;00:00, 205.15it/s]"
          }
        },
        "e0f286fabd6243dbbca495756c760995": {
          "model_module": "@jupyter-widgets/base",
          "model_name": "LayoutModel",
          "model_module_version": "1.2.0",
          "state": {
            "_model_module": "@jupyter-widgets/base",
            "_model_module_version": "1.2.0",
            "_model_name": "LayoutModel",
            "_view_count": null,
            "_view_module": "@jupyter-widgets/base",
            "_view_module_version": "1.2.0",
            "_view_name": "LayoutView",
            "align_content": null,
            "align_items": null,
            "align_self": null,
            "border": null,
            "bottom": null,
            "display": null,
            "flex": null,
            "flex_flow": null,
            "grid_area": null,
            "grid_auto_columns": null,
            "grid_auto_flow": null,
            "grid_auto_rows": null,
            "grid_column": null,
            "grid_gap": null,
            "grid_row": null,
            "grid_template_areas": null,
            "grid_template_columns": null,
            "grid_template_rows": null,
            "height": null,
            "justify_content": null,
            "justify_items": null,
            "left": null,
            "margin": null,
            "max_height": null,
            "max_width": null,
            "min_height": null,
            "min_width": null,
            "object_fit": null,
            "object_position": null,
            "order": null,
            "overflow": null,
            "overflow_x": null,
            "overflow_y": null,
            "padding": null,
            "right": null,
            "top": null,
            "visibility": null,
            "width": null
          }
        },
        "96f96ca64e0249aeb33abb28bc43f7a9": {
          "model_module": "@jupyter-widgets/base",
          "model_name": "LayoutModel",
          "model_module_version": "1.2.0",
          "state": {
            "_model_module": "@jupyter-widgets/base",
            "_model_module_version": "1.2.0",
            "_model_name": "LayoutModel",
            "_view_count": null,
            "_view_module": "@jupyter-widgets/base",
            "_view_module_version": "1.2.0",
            "_view_name": "LayoutView",
            "align_content": null,
            "align_items": null,
            "align_self": null,
            "border": null,
            "bottom": null,
            "display": null,
            "flex": null,
            "flex_flow": null,
            "grid_area": null,
            "grid_auto_columns": null,
            "grid_auto_flow": null,
            "grid_auto_rows": null,
            "grid_column": null,
            "grid_gap": null,
            "grid_row": null,
            "grid_template_areas": null,
            "grid_template_columns": null,
            "grid_template_rows": null,
            "height": null,
            "justify_content": null,
            "justify_items": null,
            "left": null,
            "margin": null,
            "max_height": null,
            "max_width": null,
            "min_height": null,
            "min_width": null,
            "object_fit": null,
            "object_position": null,
            "order": null,
            "overflow": null,
            "overflow_x": null,
            "overflow_y": null,
            "padding": null,
            "right": null,
            "top": null,
            "visibility": null,
            "width": null
          }
        },
        "142a0fc418974f1c9ac75afe22e334c9": {
          "model_module": "@jupyter-widgets/controls",
          "model_name": "DescriptionStyleModel",
          "model_module_version": "1.5.0",
          "state": {
            "_model_module": "@jupyter-widgets/controls",
            "_model_module_version": "1.5.0",
            "_model_name": "DescriptionStyleModel",
            "_view_count": null,
            "_view_module": "@jupyter-widgets/base",
            "_view_module_version": "1.2.0",
            "_view_name": "StyleView",
            "description_width": ""
          }
        },
        "79e8aa1228e04a1cb4668d4af2ac9d87": {
          "model_module": "@jupyter-widgets/base",
          "model_name": "LayoutModel",
          "model_module_version": "1.2.0",
          "state": {
            "_model_module": "@jupyter-widgets/base",
            "_model_module_version": "1.2.0",
            "_model_name": "LayoutModel",
            "_view_count": null,
            "_view_module": "@jupyter-widgets/base",
            "_view_module_version": "1.2.0",
            "_view_name": "LayoutView",
            "align_content": null,
            "align_items": null,
            "align_self": null,
            "border": null,
            "bottom": null,
            "display": null,
            "flex": null,
            "flex_flow": null,
            "grid_area": null,
            "grid_auto_columns": null,
            "grid_auto_flow": null,
            "grid_auto_rows": null,
            "grid_column": null,
            "grid_gap": null,
            "grid_row": null,
            "grid_template_areas": null,
            "grid_template_columns": null,
            "grid_template_rows": null,
            "height": null,
            "justify_content": null,
            "justify_items": null,
            "left": null,
            "margin": null,
            "max_height": null,
            "max_width": null,
            "min_height": null,
            "min_width": null,
            "object_fit": null,
            "object_position": null,
            "order": null,
            "overflow": null,
            "overflow_x": null,
            "overflow_y": null,
            "padding": null,
            "right": null,
            "top": null,
            "visibility": null,
            "width": null
          }
        },
        "85831b34a6524553acea89f16f2abeef": {
          "model_module": "@jupyter-widgets/controls",
          "model_name": "ProgressStyleModel",
          "model_module_version": "1.5.0",
          "state": {
            "_model_module": "@jupyter-widgets/controls",
            "_model_module_version": "1.5.0",
            "_model_name": "ProgressStyleModel",
            "_view_count": null,
            "_view_module": "@jupyter-widgets/base",
            "_view_module_version": "1.2.0",
            "_view_name": "StyleView",
            "bar_color": null,
            "description_width": ""
          }
        },
        "2b3e424723564d0d93c30d8cfa0d336f": {
          "model_module": "@jupyter-widgets/base",
          "model_name": "LayoutModel",
          "model_module_version": "1.2.0",
          "state": {
            "_model_module": "@jupyter-widgets/base",
            "_model_module_version": "1.2.0",
            "_model_name": "LayoutModel",
            "_view_count": null,
            "_view_module": "@jupyter-widgets/base",
            "_view_module_version": "1.2.0",
            "_view_name": "LayoutView",
            "align_content": null,
            "align_items": null,
            "align_self": null,
            "border": null,
            "bottom": null,
            "display": null,
            "flex": null,
            "flex_flow": null,
            "grid_area": null,
            "grid_auto_columns": null,
            "grid_auto_flow": null,
            "grid_auto_rows": null,
            "grid_column": null,
            "grid_gap": null,
            "grid_row": null,
            "grid_template_areas": null,
            "grid_template_columns": null,
            "grid_template_rows": null,
            "height": null,
            "justify_content": null,
            "justify_items": null,
            "left": null,
            "margin": null,
            "max_height": null,
            "max_width": null,
            "min_height": null,
            "min_width": null,
            "object_fit": null,
            "object_position": null,
            "order": null,
            "overflow": null,
            "overflow_x": null,
            "overflow_y": null,
            "padding": null,
            "right": null,
            "top": null,
            "visibility": null,
            "width": null
          }
        },
        "25df8957d46c47f4a88c334009ada67f": {
          "model_module": "@jupyter-widgets/controls",
          "model_name": "DescriptionStyleModel",
          "model_module_version": "1.5.0",
          "state": {
            "_model_module": "@jupyter-widgets/controls",
            "_model_module_version": "1.5.0",
            "_model_name": "DescriptionStyleModel",
            "_view_count": null,
            "_view_module": "@jupyter-widgets/base",
            "_view_module_version": "1.2.0",
            "_view_name": "StyleView",
            "description_width": ""
          }
        },
        "6584771ddf8742909b47c41ffc3a3d73": {
          "model_module": "@jupyter-widgets/controls",
          "model_name": "HBoxModel",
          "model_module_version": "1.5.0",
          "state": {
            "_dom_classes": [],
            "_model_module": "@jupyter-widgets/controls",
            "_model_module_version": "1.5.0",
            "_model_name": "HBoxModel",
            "_view_count": null,
            "_view_module": "@jupyter-widgets/controls",
            "_view_module_version": "1.5.0",
            "_view_name": "HBoxView",
            "box_style": "",
            "children": [
              "IPY_MODEL_55f0757780d9436dae94e64d86c07eac",
              "IPY_MODEL_5c3ee6eef5b54a5fac51c21dee7858e9",
              "IPY_MODEL_829dd885cc10458c96b171e52fd7d930"
            ],
            "layout": "IPY_MODEL_00678c1138a0497cbfa1f1c8328b2212"
          }
        },
        "55f0757780d9436dae94e64d86c07eac": {
          "model_module": "@jupyter-widgets/controls",
          "model_name": "HTMLModel",
          "model_module_version": "1.5.0",
          "state": {
            "_dom_classes": [],
            "_model_module": "@jupyter-widgets/controls",
            "_model_module_version": "1.5.0",
            "_model_name": "HTMLModel",
            "_view_count": null,
            "_view_module": "@jupyter-widgets/controls",
            "_view_module_version": "1.5.0",
            "_view_name": "HTMLView",
            "description": "",
            "description_tooltip": null,
            "layout": "IPY_MODEL_c0e71f2bbb3a4ad483a61ba0868f49d9",
            "placeholder": "​",
            "style": "IPY_MODEL_785b5b95a67d49e8ae83b31c2d61f485",
            "value": "JSMA: 100%"
          }
        },
        "5c3ee6eef5b54a5fac51c21dee7858e9": {
          "model_module": "@jupyter-widgets/controls",
          "model_name": "FloatProgressModel",
          "model_module_version": "1.5.0",
          "state": {
            "_dom_classes": [],
            "_model_module": "@jupyter-widgets/controls",
            "_model_module_version": "1.5.0",
            "_model_name": "FloatProgressModel",
            "_view_count": null,
            "_view_module": "@jupyter-widgets/controls",
            "_view_module_version": "1.5.0",
            "_view_name": "ProgressView",
            "bar_style": "success",
            "description": "",
            "description_tooltip": null,
            "layout": "IPY_MODEL_de15830f571d46cf99e6708393cfbf27",
            "max": 1000,
            "min": 0,
            "orientation": "horizontal",
            "style": "IPY_MODEL_76c0820d9c2f4e958c05d279a945d55d",
            "value": 1000
          }
        },
        "829dd885cc10458c96b171e52fd7d930": {
          "model_module": "@jupyter-widgets/controls",
          "model_name": "HTMLModel",
          "model_module_version": "1.5.0",
          "state": {
            "_dom_classes": [],
            "_model_module": "@jupyter-widgets/controls",
            "_model_module_version": "1.5.0",
            "_model_name": "HTMLModel",
            "_view_count": null,
            "_view_module": "@jupyter-widgets/controls",
            "_view_module_version": "1.5.0",
            "_view_name": "HTMLView",
            "description": "",
            "description_tooltip": null,
            "layout": "IPY_MODEL_6e7895f4589142fc980eb761b8c94497",
            "placeholder": "​",
            "style": "IPY_MODEL_bec8e807c811491ba94fe60ffa1d52be",
            "value": " 1000/1000 [00:03&lt;00:00, 298.54it/s]"
          }
        },
        "00678c1138a0497cbfa1f1c8328b2212": {
          "model_module": "@jupyter-widgets/base",
          "model_name": "LayoutModel",
          "model_module_version": "1.2.0",
          "state": {
            "_model_module": "@jupyter-widgets/base",
            "_model_module_version": "1.2.0",
            "_model_name": "LayoutModel",
            "_view_count": null,
            "_view_module": "@jupyter-widgets/base",
            "_view_module_version": "1.2.0",
            "_view_name": "LayoutView",
            "align_content": null,
            "align_items": null,
            "align_self": null,
            "border": null,
            "bottom": null,
            "display": null,
            "flex": null,
            "flex_flow": null,
            "grid_area": null,
            "grid_auto_columns": null,
            "grid_auto_flow": null,
            "grid_auto_rows": null,
            "grid_column": null,
            "grid_gap": null,
            "grid_row": null,
            "grid_template_areas": null,
            "grid_template_columns": null,
            "grid_template_rows": null,
            "height": null,
            "justify_content": null,
            "justify_items": null,
            "left": null,
            "margin": null,
            "max_height": null,
            "max_width": null,
            "min_height": null,
            "min_width": null,
            "object_fit": null,
            "object_position": null,
            "order": null,
            "overflow": null,
            "overflow_x": null,
            "overflow_y": null,
            "padding": null,
            "right": null,
            "top": null,
            "visibility": null,
            "width": null
          }
        },
        "c0e71f2bbb3a4ad483a61ba0868f49d9": {
          "model_module": "@jupyter-widgets/base",
          "model_name": "LayoutModel",
          "model_module_version": "1.2.0",
          "state": {
            "_model_module": "@jupyter-widgets/base",
            "_model_module_version": "1.2.0",
            "_model_name": "LayoutModel",
            "_view_count": null,
            "_view_module": "@jupyter-widgets/base",
            "_view_module_version": "1.2.0",
            "_view_name": "LayoutView",
            "align_content": null,
            "align_items": null,
            "align_self": null,
            "border": null,
            "bottom": null,
            "display": null,
            "flex": null,
            "flex_flow": null,
            "grid_area": null,
            "grid_auto_columns": null,
            "grid_auto_flow": null,
            "grid_auto_rows": null,
            "grid_column": null,
            "grid_gap": null,
            "grid_row": null,
            "grid_template_areas": null,
            "grid_template_columns": null,
            "grid_template_rows": null,
            "height": null,
            "justify_content": null,
            "justify_items": null,
            "left": null,
            "margin": null,
            "max_height": null,
            "max_width": null,
            "min_height": null,
            "min_width": null,
            "object_fit": null,
            "object_position": null,
            "order": null,
            "overflow": null,
            "overflow_x": null,
            "overflow_y": null,
            "padding": null,
            "right": null,
            "top": null,
            "visibility": null,
            "width": null
          }
        },
        "785b5b95a67d49e8ae83b31c2d61f485": {
          "model_module": "@jupyter-widgets/controls",
          "model_name": "DescriptionStyleModel",
          "model_module_version": "1.5.0",
          "state": {
            "_model_module": "@jupyter-widgets/controls",
            "_model_module_version": "1.5.0",
            "_model_name": "DescriptionStyleModel",
            "_view_count": null,
            "_view_module": "@jupyter-widgets/base",
            "_view_module_version": "1.2.0",
            "_view_name": "StyleView",
            "description_width": ""
          }
        },
        "de15830f571d46cf99e6708393cfbf27": {
          "model_module": "@jupyter-widgets/base",
          "model_name": "LayoutModel",
          "model_module_version": "1.2.0",
          "state": {
            "_model_module": "@jupyter-widgets/base",
            "_model_module_version": "1.2.0",
            "_model_name": "LayoutModel",
            "_view_count": null,
            "_view_module": "@jupyter-widgets/base",
            "_view_module_version": "1.2.0",
            "_view_name": "LayoutView",
            "align_content": null,
            "align_items": null,
            "align_self": null,
            "border": null,
            "bottom": null,
            "display": null,
            "flex": null,
            "flex_flow": null,
            "grid_area": null,
            "grid_auto_columns": null,
            "grid_auto_flow": null,
            "grid_auto_rows": null,
            "grid_column": null,
            "grid_gap": null,
            "grid_row": null,
            "grid_template_areas": null,
            "grid_template_columns": null,
            "grid_template_rows": null,
            "height": null,
            "justify_content": null,
            "justify_items": null,
            "left": null,
            "margin": null,
            "max_height": null,
            "max_width": null,
            "min_height": null,
            "min_width": null,
            "object_fit": null,
            "object_position": null,
            "order": null,
            "overflow": null,
            "overflow_x": null,
            "overflow_y": null,
            "padding": null,
            "right": null,
            "top": null,
            "visibility": null,
            "width": null
          }
        },
        "76c0820d9c2f4e958c05d279a945d55d": {
          "model_module": "@jupyter-widgets/controls",
          "model_name": "ProgressStyleModel",
          "model_module_version": "1.5.0",
          "state": {
            "_model_module": "@jupyter-widgets/controls",
            "_model_module_version": "1.5.0",
            "_model_name": "ProgressStyleModel",
            "_view_count": null,
            "_view_module": "@jupyter-widgets/base",
            "_view_module_version": "1.2.0",
            "_view_name": "StyleView",
            "bar_color": null,
            "description_width": ""
          }
        },
        "6e7895f4589142fc980eb761b8c94497": {
          "model_module": "@jupyter-widgets/base",
          "model_name": "LayoutModel",
          "model_module_version": "1.2.0",
          "state": {
            "_model_module": "@jupyter-widgets/base",
            "_model_module_version": "1.2.0",
            "_model_name": "LayoutModel",
            "_view_count": null,
            "_view_module": "@jupyter-widgets/base",
            "_view_module_version": "1.2.0",
            "_view_name": "LayoutView",
            "align_content": null,
            "align_items": null,
            "align_self": null,
            "border": null,
            "bottom": null,
            "display": null,
            "flex": null,
            "flex_flow": null,
            "grid_area": null,
            "grid_auto_columns": null,
            "grid_auto_flow": null,
            "grid_auto_rows": null,
            "grid_column": null,
            "grid_gap": null,
            "grid_row": null,
            "grid_template_areas": null,
            "grid_template_columns": null,
            "grid_template_rows": null,
            "height": null,
            "justify_content": null,
            "justify_items": null,
            "left": null,
            "margin": null,
            "max_height": null,
            "max_width": null,
            "min_height": null,
            "min_width": null,
            "object_fit": null,
            "object_position": null,
            "order": null,
            "overflow": null,
            "overflow_x": null,
            "overflow_y": null,
            "padding": null,
            "right": null,
            "top": null,
            "visibility": null,
            "width": null
          }
        },
        "bec8e807c811491ba94fe60ffa1d52be": {
          "model_module": "@jupyter-widgets/controls",
          "model_name": "DescriptionStyleModel",
          "model_module_version": "1.5.0",
          "state": {
            "_model_module": "@jupyter-widgets/controls",
            "_model_module_version": "1.5.0",
            "_model_name": "DescriptionStyleModel",
            "_view_count": null,
            "_view_module": "@jupyter-widgets/base",
            "_view_module_version": "1.2.0",
            "_view_name": "StyleView",
            "description_width": ""
          }
        },
        "c6b4d418396845d2b9fa74de2848bb94": {
          "model_module": "@jupyter-widgets/controls",
          "model_name": "HBoxModel",
          "model_module_version": "1.5.0",
          "state": {
            "_dom_classes": [],
            "_model_module": "@jupyter-widgets/controls",
            "_model_module_version": "1.5.0",
            "_model_name": "HBoxModel",
            "_view_count": null,
            "_view_module": "@jupyter-widgets/controls",
            "_view_module_version": "1.5.0",
            "_view_name": "HBoxView",
            "box_style": "",
            "children": [
              "IPY_MODEL_ebedcde28e3a4e849313dd370d25e1f0",
              "IPY_MODEL_4b99ba6b013e4576a5402fce2d8ef6a5",
              "IPY_MODEL_7d4094ddf1d24c68a3866cbae7bd62a0"
            ],
            "layout": "IPY_MODEL_068b52cd897d475786cbc399e6da88a6"
          }
        },
        "ebedcde28e3a4e849313dd370d25e1f0": {
          "model_module": "@jupyter-widgets/controls",
          "model_name": "HTMLModel",
          "model_module_version": "1.5.0",
          "state": {
            "_dom_classes": [],
            "_model_module": "@jupyter-widgets/controls",
            "_model_module_version": "1.5.0",
            "_model_name": "HTMLModel",
            "_view_count": null,
            "_view_module": "@jupyter-widgets/controls",
            "_view_module_version": "1.5.0",
            "_view_name": "HTMLView",
            "description": "",
            "description_tooltip": null,
            "layout": "IPY_MODEL_253c34cb067e460fa000d4a046e9a516",
            "placeholder": "​",
            "style": "IPY_MODEL_5154d8c1fb8d442889f2a73aabc9f489",
            "value": "JSMA: 100%"
          }
        },
        "4b99ba6b013e4576a5402fce2d8ef6a5": {
          "model_module": "@jupyter-widgets/controls",
          "model_name": "FloatProgressModel",
          "model_module_version": "1.5.0",
          "state": {
            "_dom_classes": [],
            "_model_module": "@jupyter-widgets/controls",
            "_model_module_version": "1.5.0",
            "_model_name": "FloatProgressModel",
            "_view_count": null,
            "_view_module": "@jupyter-widgets/controls",
            "_view_module_version": "1.5.0",
            "_view_name": "ProgressView",
            "bar_style": "success",
            "description": "",
            "description_tooltip": null,
            "layout": "IPY_MODEL_ddea41f38ac5493eb222378bfbb71e6f",
            "max": 1000,
            "min": 0,
            "orientation": "horizontal",
            "style": "IPY_MODEL_67e59e236fc24420adf349da696109d4",
            "value": 1000
          }
        },
        "7d4094ddf1d24c68a3866cbae7bd62a0": {
          "model_module": "@jupyter-widgets/controls",
          "model_name": "HTMLModel",
          "model_module_version": "1.5.0",
          "state": {
            "_dom_classes": [],
            "_model_module": "@jupyter-widgets/controls",
            "_model_module_version": "1.5.0",
            "_model_name": "HTMLModel",
            "_view_count": null,
            "_view_module": "@jupyter-widgets/controls",
            "_view_module_version": "1.5.0",
            "_view_name": "HTMLView",
            "description": "",
            "description_tooltip": null,
            "layout": "IPY_MODEL_acf20c8b199947dba8afd42608350338",
            "placeholder": "​",
            "style": "IPY_MODEL_92ed6d12a72146648f41137236afa279",
            "value": " 1000/1000 [00:03&lt;00:00, 304.44it/s]"
          }
        },
        "068b52cd897d475786cbc399e6da88a6": {
          "model_module": "@jupyter-widgets/base",
          "model_name": "LayoutModel",
          "model_module_version": "1.2.0",
          "state": {
            "_model_module": "@jupyter-widgets/base",
            "_model_module_version": "1.2.0",
            "_model_name": "LayoutModel",
            "_view_count": null,
            "_view_module": "@jupyter-widgets/base",
            "_view_module_version": "1.2.0",
            "_view_name": "LayoutView",
            "align_content": null,
            "align_items": null,
            "align_self": null,
            "border": null,
            "bottom": null,
            "display": null,
            "flex": null,
            "flex_flow": null,
            "grid_area": null,
            "grid_auto_columns": null,
            "grid_auto_flow": null,
            "grid_auto_rows": null,
            "grid_column": null,
            "grid_gap": null,
            "grid_row": null,
            "grid_template_areas": null,
            "grid_template_columns": null,
            "grid_template_rows": null,
            "height": null,
            "justify_content": null,
            "justify_items": null,
            "left": null,
            "margin": null,
            "max_height": null,
            "max_width": null,
            "min_height": null,
            "min_width": null,
            "object_fit": null,
            "object_position": null,
            "order": null,
            "overflow": null,
            "overflow_x": null,
            "overflow_y": null,
            "padding": null,
            "right": null,
            "top": null,
            "visibility": null,
            "width": null
          }
        },
        "253c34cb067e460fa000d4a046e9a516": {
          "model_module": "@jupyter-widgets/base",
          "model_name": "LayoutModel",
          "model_module_version": "1.2.0",
          "state": {
            "_model_module": "@jupyter-widgets/base",
            "_model_module_version": "1.2.0",
            "_model_name": "LayoutModel",
            "_view_count": null,
            "_view_module": "@jupyter-widgets/base",
            "_view_module_version": "1.2.0",
            "_view_name": "LayoutView",
            "align_content": null,
            "align_items": null,
            "align_self": null,
            "border": null,
            "bottom": null,
            "display": null,
            "flex": null,
            "flex_flow": null,
            "grid_area": null,
            "grid_auto_columns": null,
            "grid_auto_flow": null,
            "grid_auto_rows": null,
            "grid_column": null,
            "grid_gap": null,
            "grid_row": null,
            "grid_template_areas": null,
            "grid_template_columns": null,
            "grid_template_rows": null,
            "height": null,
            "justify_content": null,
            "justify_items": null,
            "left": null,
            "margin": null,
            "max_height": null,
            "max_width": null,
            "min_height": null,
            "min_width": null,
            "object_fit": null,
            "object_position": null,
            "order": null,
            "overflow": null,
            "overflow_x": null,
            "overflow_y": null,
            "padding": null,
            "right": null,
            "top": null,
            "visibility": null,
            "width": null
          }
        },
        "5154d8c1fb8d442889f2a73aabc9f489": {
          "model_module": "@jupyter-widgets/controls",
          "model_name": "DescriptionStyleModel",
          "model_module_version": "1.5.0",
          "state": {
            "_model_module": "@jupyter-widgets/controls",
            "_model_module_version": "1.5.0",
            "_model_name": "DescriptionStyleModel",
            "_view_count": null,
            "_view_module": "@jupyter-widgets/base",
            "_view_module_version": "1.2.0",
            "_view_name": "StyleView",
            "description_width": ""
          }
        },
        "ddea41f38ac5493eb222378bfbb71e6f": {
          "model_module": "@jupyter-widgets/base",
          "model_name": "LayoutModel",
          "model_module_version": "1.2.0",
          "state": {
            "_model_module": "@jupyter-widgets/base",
            "_model_module_version": "1.2.0",
            "_model_name": "LayoutModel",
            "_view_count": null,
            "_view_module": "@jupyter-widgets/base",
            "_view_module_version": "1.2.0",
            "_view_name": "LayoutView",
            "align_content": null,
            "align_items": null,
            "align_self": null,
            "border": null,
            "bottom": null,
            "display": null,
            "flex": null,
            "flex_flow": null,
            "grid_area": null,
            "grid_auto_columns": null,
            "grid_auto_flow": null,
            "grid_auto_rows": null,
            "grid_column": null,
            "grid_gap": null,
            "grid_row": null,
            "grid_template_areas": null,
            "grid_template_columns": null,
            "grid_template_rows": null,
            "height": null,
            "justify_content": null,
            "justify_items": null,
            "left": null,
            "margin": null,
            "max_height": null,
            "max_width": null,
            "min_height": null,
            "min_width": null,
            "object_fit": null,
            "object_position": null,
            "order": null,
            "overflow": null,
            "overflow_x": null,
            "overflow_y": null,
            "padding": null,
            "right": null,
            "top": null,
            "visibility": null,
            "width": null
          }
        },
        "67e59e236fc24420adf349da696109d4": {
          "model_module": "@jupyter-widgets/controls",
          "model_name": "ProgressStyleModel",
          "model_module_version": "1.5.0",
          "state": {
            "_model_module": "@jupyter-widgets/controls",
            "_model_module_version": "1.5.0",
            "_model_name": "ProgressStyleModel",
            "_view_count": null,
            "_view_module": "@jupyter-widgets/base",
            "_view_module_version": "1.2.0",
            "_view_name": "StyleView",
            "bar_color": null,
            "description_width": ""
          }
        },
        "acf20c8b199947dba8afd42608350338": {
          "model_module": "@jupyter-widgets/base",
          "model_name": "LayoutModel",
          "model_module_version": "1.2.0",
          "state": {
            "_model_module": "@jupyter-widgets/base",
            "_model_module_version": "1.2.0",
            "_model_name": "LayoutModel",
            "_view_count": null,
            "_view_module": "@jupyter-widgets/base",
            "_view_module_version": "1.2.0",
            "_view_name": "LayoutView",
            "align_content": null,
            "align_items": null,
            "align_self": null,
            "border": null,
            "bottom": null,
            "display": null,
            "flex": null,
            "flex_flow": null,
            "grid_area": null,
            "grid_auto_columns": null,
            "grid_auto_flow": null,
            "grid_auto_rows": null,
            "grid_column": null,
            "grid_gap": null,
            "grid_row": null,
            "grid_template_areas": null,
            "grid_template_columns": null,
            "grid_template_rows": null,
            "height": null,
            "justify_content": null,
            "justify_items": null,
            "left": null,
            "margin": null,
            "max_height": null,
            "max_width": null,
            "min_height": null,
            "min_width": null,
            "object_fit": null,
            "object_position": null,
            "order": null,
            "overflow": null,
            "overflow_x": null,
            "overflow_y": null,
            "padding": null,
            "right": null,
            "top": null,
            "visibility": null,
            "width": null
          }
        },
        "92ed6d12a72146648f41137236afa279": {
          "model_module": "@jupyter-widgets/controls",
          "model_name": "DescriptionStyleModel",
          "model_module_version": "1.5.0",
          "state": {
            "_model_module": "@jupyter-widgets/controls",
            "_model_module_version": "1.5.0",
            "_model_name": "DescriptionStyleModel",
            "_view_count": null,
            "_view_module": "@jupyter-widgets/base",
            "_view_module_version": "1.2.0",
            "_view_name": "StyleView",
            "description_width": ""
          }
        },
        "0ab31ed088bb47e79553dd80243d5a51": {
          "model_module": "@jupyter-widgets/controls",
          "model_name": "HBoxModel",
          "model_module_version": "1.5.0",
          "state": {
            "_dom_classes": [],
            "_model_module": "@jupyter-widgets/controls",
            "_model_module_version": "1.5.0",
            "_model_name": "HBoxModel",
            "_view_count": null,
            "_view_module": "@jupyter-widgets/controls",
            "_view_module_version": "1.5.0",
            "_view_name": "HBoxView",
            "box_style": "",
            "children": [
              "IPY_MODEL_45c90948329b4c47978c6704d8fd9b4d",
              "IPY_MODEL_a4384fdbf297438bb346fdc139685300",
              "IPY_MODEL_f2904a804c084a92bedd0eb801813231"
            ],
            "layout": "IPY_MODEL_0a1a2e6ea51348cba5866e84e3985c63"
          }
        },
        "45c90948329b4c47978c6704d8fd9b4d": {
          "model_module": "@jupyter-widgets/controls",
          "model_name": "HTMLModel",
          "model_module_version": "1.5.0",
          "state": {
            "_dom_classes": [],
            "_model_module": "@jupyter-widgets/controls",
            "_model_module_version": "1.5.0",
            "_model_name": "HTMLModel",
            "_view_count": null,
            "_view_module": "@jupyter-widgets/controls",
            "_view_module_version": "1.5.0",
            "_view_name": "HTMLView",
            "description": "",
            "description_tooltip": null,
            "layout": "IPY_MODEL_f314c2a6f85949e9b820f2de1ebdfd0b",
            "placeholder": "​",
            "style": "IPY_MODEL_6d40ec53f40847e9b88f512dcfbe81ee",
            "value": "C&amp;W L_2: 100%"
          }
        },
        "a4384fdbf297438bb346fdc139685300": {
          "model_module": "@jupyter-widgets/controls",
          "model_name": "FloatProgressModel",
          "model_module_version": "1.5.0",
          "state": {
            "_dom_classes": [],
            "_model_module": "@jupyter-widgets/controls",
            "_model_module_version": "1.5.0",
            "_model_name": "FloatProgressModel",
            "_view_count": null,
            "_view_module": "@jupyter-widgets/controls",
            "_view_module_version": "1.5.0",
            "_view_name": "ProgressView",
            "bar_style": "success",
            "description": "",
            "description_tooltip": null,
            "layout": "IPY_MODEL_9c5872f538b544b293c65da76f9dc794",
            "max": 100,
            "min": 0,
            "orientation": "horizontal",
            "style": "IPY_MODEL_afb0e6a43955442ab4241ec6336e45e9",
            "value": 100
          }
        },
        "f2904a804c084a92bedd0eb801813231": {
          "model_module": "@jupyter-widgets/controls",
          "model_name": "HTMLModel",
          "model_module_version": "1.5.0",
          "state": {
            "_dom_classes": [],
            "_model_module": "@jupyter-widgets/controls",
            "_model_module_version": "1.5.0",
            "_model_name": "HTMLModel",
            "_view_count": null,
            "_view_module": "@jupyter-widgets/controls",
            "_view_module_version": "1.5.0",
            "_view_name": "HTMLView",
            "description": "",
            "description_tooltip": null,
            "layout": "IPY_MODEL_23d99ec00d65467ba5d6cacc7df07fb0",
            "placeholder": "​",
            "style": "IPY_MODEL_df97fc6cc7ab4f3ebe80b82cd941d389",
            "value": " 100/100 [01:26&lt;00:00,  1.21it/s]"
          }
        },
        "0a1a2e6ea51348cba5866e84e3985c63": {
          "model_module": "@jupyter-widgets/base",
          "model_name": "LayoutModel",
          "model_module_version": "1.2.0",
          "state": {
            "_model_module": "@jupyter-widgets/base",
            "_model_module_version": "1.2.0",
            "_model_name": "LayoutModel",
            "_view_count": null,
            "_view_module": "@jupyter-widgets/base",
            "_view_module_version": "1.2.0",
            "_view_name": "LayoutView",
            "align_content": null,
            "align_items": null,
            "align_self": null,
            "border": null,
            "bottom": null,
            "display": null,
            "flex": null,
            "flex_flow": null,
            "grid_area": null,
            "grid_auto_columns": null,
            "grid_auto_flow": null,
            "grid_auto_rows": null,
            "grid_column": null,
            "grid_gap": null,
            "grid_row": null,
            "grid_template_areas": null,
            "grid_template_columns": null,
            "grid_template_rows": null,
            "height": null,
            "justify_content": null,
            "justify_items": null,
            "left": null,
            "margin": null,
            "max_height": null,
            "max_width": null,
            "min_height": null,
            "min_width": null,
            "object_fit": null,
            "object_position": null,
            "order": null,
            "overflow": null,
            "overflow_x": null,
            "overflow_y": null,
            "padding": null,
            "right": null,
            "top": null,
            "visibility": null,
            "width": null
          }
        },
        "f314c2a6f85949e9b820f2de1ebdfd0b": {
          "model_module": "@jupyter-widgets/base",
          "model_name": "LayoutModel",
          "model_module_version": "1.2.0",
          "state": {
            "_model_module": "@jupyter-widgets/base",
            "_model_module_version": "1.2.0",
            "_model_name": "LayoutModel",
            "_view_count": null,
            "_view_module": "@jupyter-widgets/base",
            "_view_module_version": "1.2.0",
            "_view_name": "LayoutView",
            "align_content": null,
            "align_items": null,
            "align_self": null,
            "border": null,
            "bottom": null,
            "display": null,
            "flex": null,
            "flex_flow": null,
            "grid_area": null,
            "grid_auto_columns": null,
            "grid_auto_flow": null,
            "grid_auto_rows": null,
            "grid_column": null,
            "grid_gap": null,
            "grid_row": null,
            "grid_template_areas": null,
            "grid_template_columns": null,
            "grid_template_rows": null,
            "height": null,
            "justify_content": null,
            "justify_items": null,
            "left": null,
            "margin": null,
            "max_height": null,
            "max_width": null,
            "min_height": null,
            "min_width": null,
            "object_fit": null,
            "object_position": null,
            "order": null,
            "overflow": null,
            "overflow_x": null,
            "overflow_y": null,
            "padding": null,
            "right": null,
            "top": null,
            "visibility": null,
            "width": null
          }
        },
        "6d40ec53f40847e9b88f512dcfbe81ee": {
          "model_module": "@jupyter-widgets/controls",
          "model_name": "DescriptionStyleModel",
          "model_module_version": "1.5.0",
          "state": {
            "_model_module": "@jupyter-widgets/controls",
            "_model_module_version": "1.5.0",
            "_model_name": "DescriptionStyleModel",
            "_view_count": null,
            "_view_module": "@jupyter-widgets/base",
            "_view_module_version": "1.2.0",
            "_view_name": "StyleView",
            "description_width": ""
          }
        },
        "9c5872f538b544b293c65da76f9dc794": {
          "model_module": "@jupyter-widgets/base",
          "model_name": "LayoutModel",
          "model_module_version": "1.2.0",
          "state": {
            "_model_module": "@jupyter-widgets/base",
            "_model_module_version": "1.2.0",
            "_model_name": "LayoutModel",
            "_view_count": null,
            "_view_module": "@jupyter-widgets/base",
            "_view_module_version": "1.2.0",
            "_view_name": "LayoutView",
            "align_content": null,
            "align_items": null,
            "align_self": null,
            "border": null,
            "bottom": null,
            "display": null,
            "flex": null,
            "flex_flow": null,
            "grid_area": null,
            "grid_auto_columns": null,
            "grid_auto_flow": null,
            "grid_auto_rows": null,
            "grid_column": null,
            "grid_gap": null,
            "grid_row": null,
            "grid_template_areas": null,
            "grid_template_columns": null,
            "grid_template_rows": null,
            "height": null,
            "justify_content": null,
            "justify_items": null,
            "left": null,
            "margin": null,
            "max_height": null,
            "max_width": null,
            "min_height": null,
            "min_width": null,
            "object_fit": null,
            "object_position": null,
            "order": null,
            "overflow": null,
            "overflow_x": null,
            "overflow_y": null,
            "padding": null,
            "right": null,
            "top": null,
            "visibility": null,
            "width": null
          }
        },
        "afb0e6a43955442ab4241ec6336e45e9": {
          "model_module": "@jupyter-widgets/controls",
          "model_name": "ProgressStyleModel",
          "model_module_version": "1.5.0",
          "state": {
            "_model_module": "@jupyter-widgets/controls",
            "_model_module_version": "1.5.0",
            "_model_name": "ProgressStyleModel",
            "_view_count": null,
            "_view_module": "@jupyter-widgets/base",
            "_view_module_version": "1.2.0",
            "_view_name": "StyleView",
            "bar_color": null,
            "description_width": ""
          }
        },
        "23d99ec00d65467ba5d6cacc7df07fb0": {
          "model_module": "@jupyter-widgets/base",
          "model_name": "LayoutModel",
          "model_module_version": "1.2.0",
          "state": {
            "_model_module": "@jupyter-widgets/base",
            "_model_module_version": "1.2.0",
            "_model_name": "LayoutModel",
            "_view_count": null,
            "_view_module": "@jupyter-widgets/base",
            "_view_module_version": "1.2.0",
            "_view_name": "LayoutView",
            "align_content": null,
            "align_items": null,
            "align_self": null,
            "border": null,
            "bottom": null,
            "display": null,
            "flex": null,
            "flex_flow": null,
            "grid_area": null,
            "grid_auto_columns": null,
            "grid_auto_flow": null,
            "grid_auto_rows": null,
            "grid_column": null,
            "grid_gap": null,
            "grid_row": null,
            "grid_template_areas": null,
            "grid_template_columns": null,
            "grid_template_rows": null,
            "height": null,
            "justify_content": null,
            "justify_items": null,
            "left": null,
            "margin": null,
            "max_height": null,
            "max_width": null,
            "min_height": null,
            "min_width": null,
            "object_fit": null,
            "object_position": null,
            "order": null,
            "overflow": null,
            "overflow_x": null,
            "overflow_y": null,
            "padding": null,
            "right": null,
            "top": null,
            "visibility": null,
            "width": null
          }
        },
        "df97fc6cc7ab4f3ebe80b82cd941d389": {
          "model_module": "@jupyter-widgets/controls",
          "model_name": "DescriptionStyleModel",
          "model_module_version": "1.5.0",
          "state": {
            "_model_module": "@jupyter-widgets/controls",
            "_model_module_version": "1.5.0",
            "_model_name": "DescriptionStyleModel",
            "_view_count": null,
            "_view_module": "@jupyter-widgets/base",
            "_view_module_version": "1.2.0",
            "_view_name": "StyleView",
            "description_width": ""
          }
        },
        "188ff54a374e4ec7bbc6e608c0db1822": {
          "model_module": "@jupyter-widgets/controls",
          "model_name": "HBoxModel",
          "model_module_version": "1.5.0",
          "state": {
            "_dom_classes": [],
            "_model_module": "@jupyter-widgets/controls",
            "_model_module_version": "1.5.0",
            "_model_name": "HBoxModel",
            "_view_count": null,
            "_view_module": "@jupyter-widgets/controls",
            "_view_module_version": "1.5.0",
            "_view_name": "HBoxView",
            "box_style": "",
            "children": [
              "IPY_MODEL_284ef992bb404844a6ab3d72b26e9aa3",
              "IPY_MODEL_746bb15572934404a83ad6002fe34087",
              "IPY_MODEL_436113a483d94e648ba7eab1d4be9aae"
            ],
            "layout": "IPY_MODEL_6afc1782f07943e487561c717367b46a"
          }
        },
        "284ef992bb404844a6ab3d72b26e9aa3": {
          "model_module": "@jupyter-widgets/controls",
          "model_name": "HTMLModel",
          "model_module_version": "1.5.0",
          "state": {
            "_dom_classes": [],
            "_model_module": "@jupyter-widgets/controls",
            "_model_module_version": "1.5.0",
            "_model_name": "HTMLModel",
            "_view_count": null,
            "_view_module": "@jupyter-widgets/controls",
            "_view_module_version": "1.5.0",
            "_view_name": "HTMLView",
            "description": "",
            "description_tooltip": null,
            "layout": "IPY_MODEL_3ae742b9e50d4de9bf123aa894928cf2",
            "placeholder": "​",
            "style": "IPY_MODEL_be985f7b5d294cccaa46a8ef799a232e",
            "value": "C&amp;W L_inf: 100%"
          }
        },
        "746bb15572934404a83ad6002fe34087": {
          "model_module": "@jupyter-widgets/controls",
          "model_name": "FloatProgressModel",
          "model_module_version": "1.5.0",
          "state": {
            "_dom_classes": [],
            "_model_module": "@jupyter-widgets/controls",
            "_model_module_version": "1.5.0",
            "_model_name": "FloatProgressModel",
            "_view_count": null,
            "_view_module": "@jupyter-widgets/controls",
            "_view_module_version": "1.5.0",
            "_view_name": "ProgressView",
            "bar_style": "success",
            "description": "",
            "description_tooltip": null,
            "layout": "IPY_MODEL_6c21f8bbe64e4500bdf8fe7cfa4032d8",
            "max": 100,
            "min": 0,
            "orientation": "horizontal",
            "style": "IPY_MODEL_272dc84111724de6b6e77953757b1da7",
            "value": 100
          }
        },
        "436113a483d94e648ba7eab1d4be9aae": {
          "model_module": "@jupyter-widgets/controls",
          "model_name": "HTMLModel",
          "model_module_version": "1.5.0",
          "state": {
            "_dom_classes": [],
            "_model_module": "@jupyter-widgets/controls",
            "_model_module_version": "1.5.0",
            "_model_name": "HTMLModel",
            "_view_count": null,
            "_view_module": "@jupyter-widgets/controls",
            "_view_module_version": "1.5.0",
            "_view_name": "HTMLView",
            "description": "",
            "description_tooltip": null,
            "layout": "IPY_MODEL_aca17c25e57f4ed5b75f7c96f3f50ba6",
            "placeholder": "​",
            "style": "IPY_MODEL_e2213aafbdb048f38da42f8f93367e3c",
            "value": " 100/100 [01:27&lt;00:00,  1.02s/it]"
          }
        },
        "6afc1782f07943e487561c717367b46a": {
          "model_module": "@jupyter-widgets/base",
          "model_name": "LayoutModel",
          "model_module_version": "1.2.0",
          "state": {
            "_model_module": "@jupyter-widgets/base",
            "_model_module_version": "1.2.0",
            "_model_name": "LayoutModel",
            "_view_count": null,
            "_view_module": "@jupyter-widgets/base",
            "_view_module_version": "1.2.0",
            "_view_name": "LayoutView",
            "align_content": null,
            "align_items": null,
            "align_self": null,
            "border": null,
            "bottom": null,
            "display": null,
            "flex": null,
            "flex_flow": null,
            "grid_area": null,
            "grid_auto_columns": null,
            "grid_auto_flow": null,
            "grid_auto_rows": null,
            "grid_column": null,
            "grid_gap": null,
            "grid_row": null,
            "grid_template_areas": null,
            "grid_template_columns": null,
            "grid_template_rows": null,
            "height": null,
            "justify_content": null,
            "justify_items": null,
            "left": null,
            "margin": null,
            "max_height": null,
            "max_width": null,
            "min_height": null,
            "min_width": null,
            "object_fit": null,
            "object_position": null,
            "order": null,
            "overflow": null,
            "overflow_x": null,
            "overflow_y": null,
            "padding": null,
            "right": null,
            "top": null,
            "visibility": null,
            "width": null
          }
        },
        "3ae742b9e50d4de9bf123aa894928cf2": {
          "model_module": "@jupyter-widgets/base",
          "model_name": "LayoutModel",
          "model_module_version": "1.2.0",
          "state": {
            "_model_module": "@jupyter-widgets/base",
            "_model_module_version": "1.2.0",
            "_model_name": "LayoutModel",
            "_view_count": null,
            "_view_module": "@jupyter-widgets/base",
            "_view_module_version": "1.2.0",
            "_view_name": "LayoutView",
            "align_content": null,
            "align_items": null,
            "align_self": null,
            "border": null,
            "bottom": null,
            "display": null,
            "flex": null,
            "flex_flow": null,
            "grid_area": null,
            "grid_auto_columns": null,
            "grid_auto_flow": null,
            "grid_auto_rows": null,
            "grid_column": null,
            "grid_gap": null,
            "grid_row": null,
            "grid_template_areas": null,
            "grid_template_columns": null,
            "grid_template_rows": null,
            "height": null,
            "justify_content": null,
            "justify_items": null,
            "left": null,
            "margin": null,
            "max_height": null,
            "max_width": null,
            "min_height": null,
            "min_width": null,
            "object_fit": null,
            "object_position": null,
            "order": null,
            "overflow": null,
            "overflow_x": null,
            "overflow_y": null,
            "padding": null,
            "right": null,
            "top": null,
            "visibility": null,
            "width": null
          }
        },
        "be985f7b5d294cccaa46a8ef799a232e": {
          "model_module": "@jupyter-widgets/controls",
          "model_name": "DescriptionStyleModel",
          "model_module_version": "1.5.0",
          "state": {
            "_model_module": "@jupyter-widgets/controls",
            "_model_module_version": "1.5.0",
            "_model_name": "DescriptionStyleModel",
            "_view_count": null,
            "_view_module": "@jupyter-widgets/base",
            "_view_module_version": "1.2.0",
            "_view_name": "StyleView",
            "description_width": ""
          }
        },
        "6c21f8bbe64e4500bdf8fe7cfa4032d8": {
          "model_module": "@jupyter-widgets/base",
          "model_name": "LayoutModel",
          "model_module_version": "1.2.0",
          "state": {
            "_model_module": "@jupyter-widgets/base",
            "_model_module_version": "1.2.0",
            "_model_name": "LayoutModel",
            "_view_count": null,
            "_view_module": "@jupyter-widgets/base",
            "_view_module_version": "1.2.0",
            "_view_name": "LayoutView",
            "align_content": null,
            "align_items": null,
            "align_self": null,
            "border": null,
            "bottom": null,
            "display": null,
            "flex": null,
            "flex_flow": null,
            "grid_area": null,
            "grid_auto_columns": null,
            "grid_auto_flow": null,
            "grid_auto_rows": null,
            "grid_column": null,
            "grid_gap": null,
            "grid_row": null,
            "grid_template_areas": null,
            "grid_template_columns": null,
            "grid_template_rows": null,
            "height": null,
            "justify_content": null,
            "justify_items": null,
            "left": null,
            "margin": null,
            "max_height": null,
            "max_width": null,
            "min_height": null,
            "min_width": null,
            "object_fit": null,
            "object_position": null,
            "order": null,
            "overflow": null,
            "overflow_x": null,
            "overflow_y": null,
            "padding": null,
            "right": null,
            "top": null,
            "visibility": null,
            "width": null
          }
        },
        "272dc84111724de6b6e77953757b1da7": {
          "model_module": "@jupyter-widgets/controls",
          "model_name": "ProgressStyleModel",
          "model_module_version": "1.5.0",
          "state": {
            "_model_module": "@jupyter-widgets/controls",
            "_model_module_version": "1.5.0",
            "_model_name": "ProgressStyleModel",
            "_view_count": null,
            "_view_module": "@jupyter-widgets/base",
            "_view_module_version": "1.2.0",
            "_view_name": "StyleView",
            "bar_color": null,
            "description_width": ""
          }
        },
        "aca17c25e57f4ed5b75f7c96f3f50ba6": {
          "model_module": "@jupyter-widgets/base",
          "model_name": "LayoutModel",
          "model_module_version": "1.2.0",
          "state": {
            "_model_module": "@jupyter-widgets/base",
            "_model_module_version": "1.2.0",
            "_model_name": "LayoutModel",
            "_view_count": null,
            "_view_module": "@jupyter-widgets/base",
            "_view_module_version": "1.2.0",
            "_view_name": "LayoutView",
            "align_content": null,
            "align_items": null,
            "align_self": null,
            "border": null,
            "bottom": null,
            "display": null,
            "flex": null,
            "flex_flow": null,
            "grid_area": null,
            "grid_auto_columns": null,
            "grid_auto_flow": null,
            "grid_auto_rows": null,
            "grid_column": null,
            "grid_gap": null,
            "grid_row": null,
            "grid_template_areas": null,
            "grid_template_columns": null,
            "grid_template_rows": null,
            "height": null,
            "justify_content": null,
            "justify_items": null,
            "left": null,
            "margin": null,
            "max_height": null,
            "max_width": null,
            "min_height": null,
            "min_width": null,
            "object_fit": null,
            "object_position": null,
            "order": null,
            "overflow": null,
            "overflow_x": null,
            "overflow_y": null,
            "padding": null,
            "right": null,
            "top": null,
            "visibility": null,
            "width": null
          }
        },
        "e2213aafbdb048f38da42f8f93367e3c": {
          "model_module": "@jupyter-widgets/controls",
          "model_name": "DescriptionStyleModel",
          "model_module_version": "1.5.0",
          "state": {
            "_model_module": "@jupyter-widgets/controls",
            "_model_module_version": "1.5.0",
            "_model_name": "DescriptionStyleModel",
            "_view_count": null,
            "_view_module": "@jupyter-widgets/base",
            "_view_module_version": "1.2.0",
            "_view_name": "StyleView",
            "description_width": ""
          }
        },
        "a9a376328b404c98bb3fa0a65290a82e": {
          "model_module": "@jupyter-widgets/controls",
          "model_name": "HBoxModel",
          "model_module_version": "1.5.0",
          "state": {
            "_dom_classes": [],
            "_model_module": "@jupyter-widgets/controls",
            "_model_module_version": "1.5.0",
            "_model_name": "HBoxModel",
            "_view_count": null,
            "_view_module": "@jupyter-widgets/controls",
            "_view_module_version": "1.5.0",
            "_view_name": "HBoxView",
            "box_style": "",
            "children": [
              "IPY_MODEL_e4f82d9243aa47c68cd3a2af2df2c17c",
              "IPY_MODEL_0649fb1c026840e69644d0c1c21959fa",
              "IPY_MODEL_c7fa1971c9274117a064c297acf2ac19"
            ],
            "layout": "IPY_MODEL_b11c81bbd32647389e7b2a94a47d5b53"
          }
        },
        "e4f82d9243aa47c68cd3a2af2df2c17c": {
          "model_module": "@jupyter-widgets/controls",
          "model_name": "HTMLModel",
          "model_module_version": "1.5.0",
          "state": {
            "_dom_classes": [],
            "_model_module": "@jupyter-widgets/controls",
            "_model_module_version": "1.5.0",
            "_model_name": "HTMLModel",
            "_view_count": null,
            "_view_module": "@jupyter-widgets/controls",
            "_view_module_version": "1.5.0",
            "_view_name": "HTMLView",
            "description": "",
            "description_tooltip": null,
            "layout": "IPY_MODEL_a3a54433df6f4150a45375aef7c1e5ba",
            "placeholder": "​",
            "style": "IPY_MODEL_0f23e64658064d1088f27b63fb0e3d39",
            "value": "ZOO: 100%"
          }
        },
        "0649fb1c026840e69644d0c1c21959fa": {
          "model_module": "@jupyter-widgets/controls",
          "model_name": "FloatProgressModel",
          "model_module_version": "1.5.0",
          "state": {
            "_dom_classes": [],
            "_model_module": "@jupyter-widgets/controls",
            "_model_module_version": "1.5.0",
            "_model_name": "FloatProgressModel",
            "_view_count": null,
            "_view_module": "@jupyter-widgets/controls",
            "_view_module_version": "1.5.0",
            "_view_name": "ProgressView",
            "bar_style": "success",
            "description": "",
            "description_tooltip": null,
            "layout": "IPY_MODEL_479d64d048234dfcaeb0a196620e35e8",
            "max": 20,
            "min": 0,
            "orientation": "horizontal",
            "style": "IPY_MODEL_4e9b1fb754c2446db87286a8b1bb0d17",
            "value": 20
          }
        },
        "c7fa1971c9274117a064c297acf2ac19": {
          "model_module": "@jupyter-widgets/controls",
          "model_name": "HTMLModel",
          "model_module_version": "1.5.0",
          "state": {
            "_dom_classes": [],
            "_model_module": "@jupyter-widgets/controls",
            "_model_module_version": "1.5.0",
            "_model_name": "HTMLModel",
            "_view_count": null,
            "_view_module": "@jupyter-widgets/controls",
            "_view_module_version": "1.5.0",
            "_view_name": "HTMLView",
            "description": "",
            "description_tooltip": null,
            "layout": "IPY_MODEL_b9cc20b1f0494212a4b493c56b5496e9",
            "placeholder": "​",
            "style": "IPY_MODEL_49ce976cf43d4bf695a22dd1b82acefb",
            "value": " 20/20 [00:40&lt;00:00,  2.10s/it]"
          }
        },
        "b11c81bbd32647389e7b2a94a47d5b53": {
          "model_module": "@jupyter-widgets/base",
          "model_name": "LayoutModel",
          "model_module_version": "1.2.0",
          "state": {
            "_model_module": "@jupyter-widgets/base",
            "_model_module_version": "1.2.0",
            "_model_name": "LayoutModel",
            "_view_count": null,
            "_view_module": "@jupyter-widgets/base",
            "_view_module_version": "1.2.0",
            "_view_name": "LayoutView",
            "align_content": null,
            "align_items": null,
            "align_self": null,
            "border": null,
            "bottom": null,
            "display": null,
            "flex": null,
            "flex_flow": null,
            "grid_area": null,
            "grid_auto_columns": null,
            "grid_auto_flow": null,
            "grid_auto_rows": null,
            "grid_column": null,
            "grid_gap": null,
            "grid_row": null,
            "grid_template_areas": null,
            "grid_template_columns": null,
            "grid_template_rows": null,
            "height": null,
            "justify_content": null,
            "justify_items": null,
            "left": null,
            "margin": null,
            "max_height": null,
            "max_width": null,
            "min_height": null,
            "min_width": null,
            "object_fit": null,
            "object_position": null,
            "order": null,
            "overflow": null,
            "overflow_x": null,
            "overflow_y": null,
            "padding": null,
            "right": null,
            "top": null,
            "visibility": null,
            "width": null
          }
        },
        "a3a54433df6f4150a45375aef7c1e5ba": {
          "model_module": "@jupyter-widgets/base",
          "model_name": "LayoutModel",
          "model_module_version": "1.2.0",
          "state": {
            "_model_module": "@jupyter-widgets/base",
            "_model_module_version": "1.2.0",
            "_model_name": "LayoutModel",
            "_view_count": null,
            "_view_module": "@jupyter-widgets/base",
            "_view_module_version": "1.2.0",
            "_view_name": "LayoutView",
            "align_content": null,
            "align_items": null,
            "align_self": null,
            "border": null,
            "bottom": null,
            "display": null,
            "flex": null,
            "flex_flow": null,
            "grid_area": null,
            "grid_auto_columns": null,
            "grid_auto_flow": null,
            "grid_auto_rows": null,
            "grid_column": null,
            "grid_gap": null,
            "grid_row": null,
            "grid_template_areas": null,
            "grid_template_columns": null,
            "grid_template_rows": null,
            "height": null,
            "justify_content": null,
            "justify_items": null,
            "left": null,
            "margin": null,
            "max_height": null,
            "max_width": null,
            "min_height": null,
            "min_width": null,
            "object_fit": null,
            "object_position": null,
            "order": null,
            "overflow": null,
            "overflow_x": null,
            "overflow_y": null,
            "padding": null,
            "right": null,
            "top": null,
            "visibility": null,
            "width": null
          }
        },
        "0f23e64658064d1088f27b63fb0e3d39": {
          "model_module": "@jupyter-widgets/controls",
          "model_name": "DescriptionStyleModel",
          "model_module_version": "1.5.0",
          "state": {
            "_model_module": "@jupyter-widgets/controls",
            "_model_module_version": "1.5.0",
            "_model_name": "DescriptionStyleModel",
            "_view_count": null,
            "_view_module": "@jupyter-widgets/base",
            "_view_module_version": "1.2.0",
            "_view_name": "StyleView",
            "description_width": ""
          }
        },
        "479d64d048234dfcaeb0a196620e35e8": {
          "model_module": "@jupyter-widgets/base",
          "model_name": "LayoutModel",
          "model_module_version": "1.2.0",
          "state": {
            "_model_module": "@jupyter-widgets/base",
            "_model_module_version": "1.2.0",
            "_model_name": "LayoutModel",
            "_view_count": null,
            "_view_module": "@jupyter-widgets/base",
            "_view_module_version": "1.2.0",
            "_view_name": "LayoutView",
            "align_content": null,
            "align_items": null,
            "align_self": null,
            "border": null,
            "bottom": null,
            "display": null,
            "flex": null,
            "flex_flow": null,
            "grid_area": null,
            "grid_auto_columns": null,
            "grid_auto_flow": null,
            "grid_auto_rows": null,
            "grid_column": null,
            "grid_gap": null,
            "grid_row": null,
            "grid_template_areas": null,
            "grid_template_columns": null,
            "grid_template_rows": null,
            "height": null,
            "justify_content": null,
            "justify_items": null,
            "left": null,
            "margin": null,
            "max_height": null,
            "max_width": null,
            "min_height": null,
            "min_width": null,
            "object_fit": null,
            "object_position": null,
            "order": null,
            "overflow": null,
            "overflow_x": null,
            "overflow_y": null,
            "padding": null,
            "right": null,
            "top": null,
            "visibility": null,
            "width": null
          }
        },
        "4e9b1fb754c2446db87286a8b1bb0d17": {
          "model_module": "@jupyter-widgets/controls",
          "model_name": "ProgressStyleModel",
          "model_module_version": "1.5.0",
          "state": {
            "_model_module": "@jupyter-widgets/controls",
            "_model_module_version": "1.5.0",
            "_model_name": "ProgressStyleModel",
            "_view_count": null,
            "_view_module": "@jupyter-widgets/base",
            "_view_module_version": "1.2.0",
            "_view_name": "StyleView",
            "bar_color": null,
            "description_width": ""
          }
        },
        "b9cc20b1f0494212a4b493c56b5496e9": {
          "model_module": "@jupyter-widgets/base",
          "model_name": "LayoutModel",
          "model_module_version": "1.2.0",
          "state": {
            "_model_module": "@jupyter-widgets/base",
            "_model_module_version": "1.2.0",
            "_model_name": "LayoutModel",
            "_view_count": null,
            "_view_module": "@jupyter-widgets/base",
            "_view_module_version": "1.2.0",
            "_view_name": "LayoutView",
            "align_content": null,
            "align_items": null,
            "align_self": null,
            "border": null,
            "bottom": null,
            "display": null,
            "flex": null,
            "flex_flow": null,
            "grid_area": null,
            "grid_auto_columns": null,
            "grid_auto_flow": null,
            "grid_auto_rows": null,
            "grid_column": null,
            "grid_gap": null,
            "grid_row": null,
            "grid_template_areas": null,
            "grid_template_columns": null,
            "grid_template_rows": null,
            "height": null,
            "justify_content": null,
            "justify_items": null,
            "left": null,
            "margin": null,
            "max_height": null,
            "max_width": null,
            "min_height": null,
            "min_width": null,
            "object_fit": null,
            "object_position": null,
            "order": null,
            "overflow": null,
            "overflow_x": null,
            "overflow_y": null,
            "padding": null,
            "right": null,
            "top": null,
            "visibility": null,
            "width": null
          }
        },
        "49ce976cf43d4bf695a22dd1b82acefb": {
          "model_module": "@jupyter-widgets/controls",
          "model_name": "DescriptionStyleModel",
          "model_module_version": "1.5.0",
          "state": {
            "_model_module": "@jupyter-widgets/controls",
            "_model_module_version": "1.5.0",
            "_model_name": "DescriptionStyleModel",
            "_view_count": null,
            "_view_module": "@jupyter-widgets/base",
            "_view_module_version": "1.2.0",
            "_view_name": "StyleView",
            "description_width": ""
          }
        }
      }
    }
  },
  "cells": [
    {
      "cell_type": "markdown",
      "source": [
        "# 0. Dependencies"
      ],
      "metadata": {
        "id": "ylHtZVktYka-"
      }
    },
    {
      "cell_type": "code",
      "execution_count": 1,
      "metadata": {
        "colab": {
          "base_uri": "https://localhost:8080/"
        },
        "id": "-sIJdGFlthIu",
        "outputId": "70a670a2-99be-4650-ea91-9f21616d3594"
      },
      "outputs": [
        {
          "output_type": "stream",
          "name": "stdout",
          "text": [
            "Mounted at /content/drive\n"
          ]
        }
      ],
      "source": [
        "from google.colab import drive\n",
        "drive.mount('/content/drive')"
      ]
    },
    {
      "cell_type": "code",
      "source": [
        "!pip install adversarial-robustness-toolbox"
      ],
      "metadata": {
        "colab": {
          "base_uri": "https://localhost:8080/"
        },
        "id": "q4RDOvbrzrLP",
        "outputId": "3c5c4ba4-ce5f-4d4e-9594-86fd839f365c"
      },
      "execution_count": 2,
      "outputs": [
        {
          "output_type": "stream",
          "name": "stdout",
          "text": [
            "Looking in indexes: https://pypi.org/simple, https://us-python.pkg.dev/colab-wheels/public/simple/\n",
            "Collecting adversarial-robustness-toolbox\n",
            "  Downloading adversarial_robustness_toolbox-1.14.1-py3-none-any.whl (1.5 MB)\n",
            "\u001b[2K     \u001b[90m━━━━━━━━━━━━━━━━━━━━━━━━━━━━━━━━━━━━━━━━\u001b[0m \u001b[32m1.5/1.5 MB\u001b[0m \u001b[31m70.9 MB/s\u001b[0m eta \u001b[36m0:00:00\u001b[0m\n",
            "\u001b[?25hRequirement already satisfied: numpy>=1.18.0 in /usr/local/lib/python3.10/dist-packages (from adversarial-robustness-toolbox) (1.22.4)\n",
            "Requirement already satisfied: scipy>=1.4.1 in /usr/local/lib/python3.10/dist-packages (from adversarial-robustness-toolbox) (1.10.1)\n",
            "Collecting scikit-learn<1.2.0,>=0.22.2 (from adversarial-robustness-toolbox)\n",
            "  Downloading scikit_learn-1.1.3-cp310-cp310-manylinux_2_17_x86_64.manylinux2014_x86_64.whl (30.5 MB)\n",
            "\u001b[2K     \u001b[90m━━━━━━━━━━━━━━━━━━━━━━━━━━━━━━━━━━━━━━━━\u001b[0m \u001b[32m30.5/30.5 MB\u001b[0m \u001b[31m55.3 MB/s\u001b[0m eta \u001b[36m0:00:00\u001b[0m\n",
            "\u001b[?25hRequirement already satisfied: six in /usr/local/lib/python3.10/dist-packages (from adversarial-robustness-toolbox) (1.16.0)\n",
            "Requirement already satisfied: setuptools in /usr/local/lib/python3.10/dist-packages (from adversarial-robustness-toolbox) (67.7.2)\n",
            "Requirement already satisfied: tqdm in /usr/local/lib/python3.10/dist-packages (from adversarial-robustness-toolbox) (4.65.0)\n",
            "Requirement already satisfied: joblib>=1.0.0 in /usr/local/lib/python3.10/dist-packages (from scikit-learn<1.2.0,>=0.22.2->adversarial-robustness-toolbox) (1.2.0)\n",
            "Requirement already satisfied: threadpoolctl>=2.0.0 in /usr/local/lib/python3.10/dist-packages (from scikit-learn<1.2.0,>=0.22.2->adversarial-robustness-toolbox) (3.1.0)\n",
            "Installing collected packages: scikit-learn, adversarial-robustness-toolbox\n",
            "  Attempting uninstall: scikit-learn\n",
            "    Found existing installation: scikit-learn 1.2.2\n",
            "    Uninstalling scikit-learn-1.2.2:\n",
            "      Successfully uninstalled scikit-learn-1.2.2\n",
            "Successfully installed adversarial-robustness-toolbox-1.14.1 scikit-learn-1.1.3\n"
          ]
        }
      ]
    },
    {
      "cell_type": "code",
      "source": [
        "!pip install catboost"
      ],
      "metadata": {
        "colab": {
          "base_uri": "https://localhost:8080/"
        },
        "id": "X_oZdOCsB7nt",
        "outputId": "adbe6ec1-f316-4fdd-dbd3-50eb8a81328b"
      },
      "execution_count": 86,
      "outputs": [
        {
          "output_type": "stream",
          "name": "stdout",
          "text": [
            "Looking in indexes: https://pypi.org/simple, https://us-python.pkg.dev/colab-wheels/public/simple/\n",
            "Collecting catboost\n",
            "  Downloading catboost-1.2-cp310-cp310-manylinux2014_x86_64.whl (98.6 MB)\n",
            "\u001b[2K     \u001b[90m━━━━━━━━━━━━━━━━━━━━━━━━━━━━━━━━━━━━━━━━\u001b[0m \u001b[32m98.6/98.6 MB\u001b[0m \u001b[31m8.9 MB/s\u001b[0m eta \u001b[36m0:00:00\u001b[0m\n",
            "\u001b[?25hRequirement already satisfied: graphviz in /usr/local/lib/python3.10/dist-packages (from catboost) (0.20.1)\n",
            "Requirement already satisfied: matplotlib in /usr/local/lib/python3.10/dist-packages (from catboost) (3.7.1)\n",
            "Requirement already satisfied: numpy>=1.16.0 in /usr/local/lib/python3.10/dist-packages (from catboost) (1.22.4)\n",
            "Requirement already satisfied: pandas>=0.24 in /usr/local/lib/python3.10/dist-packages (from catboost) (1.5.3)\n",
            "Requirement already satisfied: scipy in /usr/local/lib/python3.10/dist-packages (from catboost) (1.10.1)\n",
            "Requirement already satisfied: plotly in /usr/local/lib/python3.10/dist-packages (from catboost) (5.13.1)\n",
            "Requirement already satisfied: six in /usr/local/lib/python3.10/dist-packages (from catboost) (1.16.0)\n",
            "Requirement already satisfied: python-dateutil>=2.8.1 in /usr/local/lib/python3.10/dist-packages (from pandas>=0.24->catboost) (2.8.2)\n",
            "Requirement already satisfied: pytz>=2020.1 in /usr/local/lib/python3.10/dist-packages (from pandas>=0.24->catboost) (2022.7.1)\n",
            "Requirement already satisfied: contourpy>=1.0.1 in /usr/local/lib/python3.10/dist-packages (from matplotlib->catboost) (1.0.7)\n",
            "Requirement already satisfied: cycler>=0.10 in /usr/local/lib/python3.10/dist-packages (from matplotlib->catboost) (0.11.0)\n",
            "Requirement already satisfied: fonttools>=4.22.0 in /usr/local/lib/python3.10/dist-packages (from matplotlib->catboost) (4.39.3)\n",
            "Requirement already satisfied: kiwisolver>=1.0.1 in /usr/local/lib/python3.10/dist-packages (from matplotlib->catboost) (1.4.4)\n",
            "Requirement already satisfied: packaging>=20.0 in /usr/local/lib/python3.10/dist-packages (from matplotlib->catboost) (23.1)\n",
            "Requirement already satisfied: pillow>=6.2.0 in /usr/local/lib/python3.10/dist-packages (from matplotlib->catboost) (8.4.0)\n",
            "Requirement already satisfied: pyparsing>=2.3.1 in /usr/local/lib/python3.10/dist-packages (from matplotlib->catboost) (3.0.9)\n",
            "Requirement already satisfied: tenacity>=6.2.0 in /usr/local/lib/python3.10/dist-packages (from plotly->catboost) (8.2.2)\n",
            "Installing collected packages: catboost\n",
            "Successfully installed catboost-1.2\n"
          ]
        }
      ]
    },
    {
      "cell_type": "code",
      "source": [
        "import numpy as np\n",
        "import pandas as pd\n",
        "import matplotlib.pyplot as plt\n",
        "from sklearn.linear_model import LogisticRegression\n",
        "from sklearn.preprocessing import OrdinalEncoder\n",
        "from sklearn.preprocessing import MinMaxScaler\n",
        "import seaborn as sns\n",
        "import os\n",
        "from pathlib import Path\n",
        "\n",
        "from sklearn.tree import DecisionTreeClassifier\n",
        "from sklearn.ensemble import RandomForestClassifier\n",
        "from sklearn.neighbors import KNeighborsClassifier\n",
        "from sklearn.naive_bayes import GaussianNB\n",
        "from sklearn.svm import SVC\n",
        "\n",
        "import tensorflow as tf\n",
        "from tensorflow.keras import layers\n",
        "import keras\n",
        "import numpy as np\n",
        "import matplotlib.pyplot as plt\n",
        "import os\n",
        "from os import listdir\n",
        "import cv2\n",
        "import natsort\n",
        "import csv\n",
        "from sklearn.utils import shuffle\n",
        "from sklearn.model_selection import train_test_split\n",
        "from tensorflow.keras.utils import to_categorical\n",
        "from tensorflow.keras.applications.resnet50 import ResNet50\n",
        "from keras.models import Model\n",
        "from keras.layers import GlobalAveragePooling2D\n",
        "from keras.layers import Dropout\n",
        "from keras.layers import Dense\n",
        "from tensorflow.python.keras.models import Sequential\n",
        "from tensorflow.keras.models import load_model\n",
        "\n",
        "import random\n",
        "from art.attacks.evasion import BoundaryAttack\n",
        "from art.utils import to_categorical\n",
        "from art.attacks.evasion import ProjectedGradientDescent\n",
        "import imageio\n",
        "from tensorflow.keras.applications import vgg16\n",
        "from art.estimators.classification import KerasClassifier,TensorFlowV2Classifier, SklearnClassifier\n",
        "from art.estimators import KerasEstimator\n",
        "from art.attacks.evasion import FastGradientMethod, ProjectedGradientDescent,NewtonFool,DeepFool\n",
        "from art.attacks.evasion import SaliencyMapMethod\n",
        "\n",
        "from sklearn.metrics import accuracy_score, confusion_matrix\n",
        "import xgboost as xgb\n",
        "import lightgbm as lgb\n",
        "from catboost import CatBoostClassifier\n",
        "from art.attacks.evasion import CarliniL2Method, CarliniLInfMethod\n",
        "from art.attacks.evasion import ZooAttack\n",
        "\n",
        "# This line is important, without it the attacks in the ART toolbox won't work\n",
        "# And it needs to be run before training the models\n",
        "tf.compat.v1.disable_eager_execution()"
      ],
      "metadata": {
        "id": "zT_HoC1hYvaV"
      },
      "execution_count": 130,
      "outputs": []
    },
    {
      "cell_type": "code",
      "source": [
        "task1_path = '/content/drive/MyDrive/Colab_Notebooks/CS504/assg#4/task1'\n",
        "task2_path = '/content/drive/MyDrive/Colab_Notebooks/CS504/assg#4/task2'"
      ],
      "metadata": {
        "id": "pkQ2RnzYZdxk"
      },
      "execution_count": 78,
      "outputs": []
    },
    {
      "cell_type": "markdown",
      "source": [
        "# 1. Attacks on ML systems for Network Intrusion Detection"
      ],
      "metadata": {
        "id": "LsInRoxOZT8U"
      }
    },
    {
      "cell_type": "markdown",
      "source": [
        "## 1.01 Load the data"
      ],
      "metadata": {
        "id": "3BfyDH6QZW6o"
      }
    },
    {
      "cell_type": "code",
      "source": [
        "# Load the data into pandas dataframes\n",
        "train_df = pd.read_csv(os.path.join(task1_path, \"KDDTrain+.csv\"))\n",
        "test_df = pd.read_csv(os.path.join(task1_path, \"KDDTest+.csv\"))\n",
        "\n",
        "# Print the first 5 rows of the train data\n",
        "train_df.head()"
      ],
      "metadata": {
        "colab": {
          "base_uri": "https://localhost:8080/",
          "height": 317
        },
        "id": "qTt1j8ejZbdO",
        "outputId": "fb8b2ed3-d160-462a-ffb1-9b761af4e1f2"
      },
      "execution_count": 5,
      "outputs": [
        {
          "output_type": "execute_result",
          "data": {
            "text/plain": [
              "   duration protocol_type   service flag  src_bytes  dst_bytes  land  \\\n",
              "0         0           tcp  ftp_data   SF        491          0     0   \n",
              "1         0           udp     other   SF        146          0     0   \n",
              "2         0           tcp   private   S0          0          0     0   \n",
              "3         0           tcp      http   SF        232       8153     0   \n",
              "4         0           tcp      http   SF        199        420     0   \n",
              "\n",
              "   wrong_fragment  urgent  hot  ...  dst_host_diff_srv_rate  \\\n",
              "0               0       0    0  ...                    0.03   \n",
              "1               0       0    0  ...                    0.60   \n",
              "2               0       0    0  ...                    0.05   \n",
              "3               0       0    0  ...                    0.00   \n",
              "4               0       0    0  ...                    0.00   \n",
              "\n",
              "   dst_host_same_src_port_rate  dst_host_srv_diff_host_rate  \\\n",
              "0                         0.17                         0.00   \n",
              "1                         0.88                         0.00   \n",
              "2                         0.00                         0.00   \n",
              "3                         0.03                         0.04   \n",
              "4                         0.00                         0.00   \n",
              "\n",
              "   dst_host_serror_rate  dst_host_srv_serror_rate  dst_host_rerror_rate  \\\n",
              "0                  0.00                      0.00                  0.05   \n",
              "1                  0.00                      0.00                  0.00   \n",
              "2                  1.00                      1.00                  0.00   \n",
              "3                  0.03                      0.01                  0.00   \n",
              "4                  0.00                      0.00                  0.00   \n",
              "\n",
              "   dst_host_srv_rerror_rate   attack  attack score  label  \n",
              "0                      0.00   normal            20      0  \n",
              "1                      0.00   normal            15      0  \n",
              "2                      0.00  neptune            19      1  \n",
              "3                      0.01   normal            21      0  \n",
              "4                      0.00   normal            21      0  \n",
              "\n",
              "[5 rows x 44 columns]"
            ],
            "text/html": [
              "\n",
              "  <div id=\"df-290c3857-10c7-4c69-a6a8-7982fb96893e\">\n",
              "    <div class=\"colab-df-container\">\n",
              "      <div>\n",
              "<style scoped>\n",
              "    .dataframe tbody tr th:only-of-type {\n",
              "        vertical-align: middle;\n",
              "    }\n",
              "\n",
              "    .dataframe tbody tr th {\n",
              "        vertical-align: top;\n",
              "    }\n",
              "\n",
              "    .dataframe thead th {\n",
              "        text-align: right;\n",
              "    }\n",
              "</style>\n",
              "<table border=\"1\" class=\"dataframe\">\n",
              "  <thead>\n",
              "    <tr style=\"text-align: right;\">\n",
              "      <th></th>\n",
              "      <th>duration</th>\n",
              "      <th>protocol_type</th>\n",
              "      <th>service</th>\n",
              "      <th>flag</th>\n",
              "      <th>src_bytes</th>\n",
              "      <th>dst_bytes</th>\n",
              "      <th>land</th>\n",
              "      <th>wrong_fragment</th>\n",
              "      <th>urgent</th>\n",
              "      <th>hot</th>\n",
              "      <th>...</th>\n",
              "      <th>dst_host_diff_srv_rate</th>\n",
              "      <th>dst_host_same_src_port_rate</th>\n",
              "      <th>dst_host_srv_diff_host_rate</th>\n",
              "      <th>dst_host_serror_rate</th>\n",
              "      <th>dst_host_srv_serror_rate</th>\n",
              "      <th>dst_host_rerror_rate</th>\n",
              "      <th>dst_host_srv_rerror_rate</th>\n",
              "      <th>attack</th>\n",
              "      <th>attack score</th>\n",
              "      <th>label</th>\n",
              "    </tr>\n",
              "  </thead>\n",
              "  <tbody>\n",
              "    <tr>\n",
              "      <th>0</th>\n",
              "      <td>0</td>\n",
              "      <td>tcp</td>\n",
              "      <td>ftp_data</td>\n",
              "      <td>SF</td>\n",
              "      <td>491</td>\n",
              "      <td>0</td>\n",
              "      <td>0</td>\n",
              "      <td>0</td>\n",
              "      <td>0</td>\n",
              "      <td>0</td>\n",
              "      <td>...</td>\n",
              "      <td>0.03</td>\n",
              "      <td>0.17</td>\n",
              "      <td>0.00</td>\n",
              "      <td>0.00</td>\n",
              "      <td>0.00</td>\n",
              "      <td>0.05</td>\n",
              "      <td>0.00</td>\n",
              "      <td>normal</td>\n",
              "      <td>20</td>\n",
              "      <td>0</td>\n",
              "    </tr>\n",
              "    <tr>\n",
              "      <th>1</th>\n",
              "      <td>0</td>\n",
              "      <td>udp</td>\n",
              "      <td>other</td>\n",
              "      <td>SF</td>\n",
              "      <td>146</td>\n",
              "      <td>0</td>\n",
              "      <td>0</td>\n",
              "      <td>0</td>\n",
              "      <td>0</td>\n",
              "      <td>0</td>\n",
              "      <td>...</td>\n",
              "      <td>0.60</td>\n",
              "      <td>0.88</td>\n",
              "      <td>0.00</td>\n",
              "      <td>0.00</td>\n",
              "      <td>0.00</td>\n",
              "      <td>0.00</td>\n",
              "      <td>0.00</td>\n",
              "      <td>normal</td>\n",
              "      <td>15</td>\n",
              "      <td>0</td>\n",
              "    </tr>\n",
              "    <tr>\n",
              "      <th>2</th>\n",
              "      <td>0</td>\n",
              "      <td>tcp</td>\n",
              "      <td>private</td>\n",
              "      <td>S0</td>\n",
              "      <td>0</td>\n",
              "      <td>0</td>\n",
              "      <td>0</td>\n",
              "      <td>0</td>\n",
              "      <td>0</td>\n",
              "      <td>0</td>\n",
              "      <td>...</td>\n",
              "      <td>0.05</td>\n",
              "      <td>0.00</td>\n",
              "      <td>0.00</td>\n",
              "      <td>1.00</td>\n",
              "      <td>1.00</td>\n",
              "      <td>0.00</td>\n",
              "      <td>0.00</td>\n",
              "      <td>neptune</td>\n",
              "      <td>19</td>\n",
              "      <td>1</td>\n",
              "    </tr>\n",
              "    <tr>\n",
              "      <th>3</th>\n",
              "      <td>0</td>\n",
              "      <td>tcp</td>\n",
              "      <td>http</td>\n",
              "      <td>SF</td>\n",
              "      <td>232</td>\n",
              "      <td>8153</td>\n",
              "      <td>0</td>\n",
              "      <td>0</td>\n",
              "      <td>0</td>\n",
              "      <td>0</td>\n",
              "      <td>...</td>\n",
              "      <td>0.00</td>\n",
              "      <td>0.03</td>\n",
              "      <td>0.04</td>\n",
              "      <td>0.03</td>\n",
              "      <td>0.01</td>\n",
              "      <td>0.00</td>\n",
              "      <td>0.01</td>\n",
              "      <td>normal</td>\n",
              "      <td>21</td>\n",
              "      <td>0</td>\n",
              "    </tr>\n",
              "    <tr>\n",
              "      <th>4</th>\n",
              "      <td>0</td>\n",
              "      <td>tcp</td>\n",
              "      <td>http</td>\n",
              "      <td>SF</td>\n",
              "      <td>199</td>\n",
              "      <td>420</td>\n",
              "      <td>0</td>\n",
              "      <td>0</td>\n",
              "      <td>0</td>\n",
              "      <td>0</td>\n",
              "      <td>...</td>\n",
              "      <td>0.00</td>\n",
              "      <td>0.00</td>\n",
              "      <td>0.00</td>\n",
              "      <td>0.00</td>\n",
              "      <td>0.00</td>\n",
              "      <td>0.00</td>\n",
              "      <td>0.00</td>\n",
              "      <td>normal</td>\n",
              "      <td>21</td>\n",
              "      <td>0</td>\n",
              "    </tr>\n",
              "  </tbody>\n",
              "</table>\n",
              "<p>5 rows × 44 columns</p>\n",
              "</div>\n",
              "      <button class=\"colab-df-convert\" onclick=\"convertToInteractive('df-290c3857-10c7-4c69-a6a8-7982fb96893e')\"\n",
              "              title=\"Convert this dataframe to an interactive table.\"\n",
              "              style=\"display:none;\">\n",
              "        \n",
              "  <svg xmlns=\"http://www.w3.org/2000/svg\" height=\"24px\"viewBox=\"0 0 24 24\"\n",
              "       width=\"24px\">\n",
              "    <path d=\"M0 0h24v24H0V0z\" fill=\"none\"/>\n",
              "    <path d=\"M18.56 5.44l.94 2.06.94-2.06 2.06-.94-2.06-.94-.94-2.06-.94 2.06-2.06.94zm-11 1L8.5 8.5l.94-2.06 2.06-.94-2.06-.94L8.5 2.5l-.94 2.06-2.06.94zm10 10l.94 2.06.94-2.06 2.06-.94-2.06-.94-.94-2.06-.94 2.06-2.06.94z\"/><path d=\"M17.41 7.96l-1.37-1.37c-.4-.4-.92-.59-1.43-.59-.52 0-1.04.2-1.43.59L10.3 9.45l-7.72 7.72c-.78.78-.78 2.05 0 2.83L4 21.41c.39.39.9.59 1.41.59.51 0 1.02-.2 1.41-.59l7.78-7.78 2.81-2.81c.8-.78.8-2.07 0-2.86zM5.41 20L4 18.59l7.72-7.72 1.47 1.35L5.41 20z\"/>\n",
              "  </svg>\n",
              "      </button>\n",
              "      \n",
              "  <style>\n",
              "    .colab-df-container {\n",
              "      display:flex;\n",
              "      flex-wrap:wrap;\n",
              "      gap: 12px;\n",
              "    }\n",
              "\n",
              "    .colab-df-convert {\n",
              "      background-color: #E8F0FE;\n",
              "      border: none;\n",
              "      border-radius: 50%;\n",
              "      cursor: pointer;\n",
              "      display: none;\n",
              "      fill: #1967D2;\n",
              "      height: 32px;\n",
              "      padding: 0 0 0 0;\n",
              "      width: 32px;\n",
              "    }\n",
              "\n",
              "    .colab-df-convert:hover {\n",
              "      background-color: #E2EBFA;\n",
              "      box-shadow: 0px 1px 2px rgba(60, 64, 67, 0.3), 0px 1px 3px 1px rgba(60, 64, 67, 0.15);\n",
              "      fill: #174EA6;\n",
              "    }\n",
              "\n",
              "    [theme=dark] .colab-df-convert {\n",
              "      background-color: #3B4455;\n",
              "      fill: #D2E3FC;\n",
              "    }\n",
              "\n",
              "    [theme=dark] .colab-df-convert:hover {\n",
              "      background-color: #434B5C;\n",
              "      box-shadow: 0px 1px 3px 1px rgba(0, 0, 0, 0.15);\n",
              "      filter: drop-shadow(0px 1px 2px rgba(0, 0, 0, 0.3));\n",
              "      fill: #FFFFFF;\n",
              "    }\n",
              "  </style>\n",
              "\n",
              "      <script>\n",
              "        const buttonEl =\n",
              "          document.querySelector('#df-290c3857-10c7-4c69-a6a8-7982fb96893e button.colab-df-convert');\n",
              "        buttonEl.style.display =\n",
              "          google.colab.kernel.accessAllowed ? 'block' : 'none';\n",
              "\n",
              "        async function convertToInteractive(key) {\n",
              "          const element = document.querySelector('#df-290c3857-10c7-4c69-a6a8-7982fb96893e');\n",
              "          const dataTable =\n",
              "            await google.colab.kernel.invokeFunction('convertToInteractive',\n",
              "                                                     [key], {});\n",
              "          if (!dataTable) return;\n",
              "\n",
              "          const docLinkHtml = 'Like what you see? Visit the ' +\n",
              "            '<a target=\"_blank\" href=https://colab.research.google.com/notebooks/data_table.ipynb>data table notebook</a>'\n",
              "            + ' to learn more about interactive tables.';\n",
              "          element.innerHTML = '';\n",
              "          dataTable['output_type'] = 'display_data';\n",
              "          await google.colab.output.renderOutput(dataTable, element);\n",
              "          const docLink = document.createElement('div');\n",
              "          docLink.innerHTML = docLinkHtml;\n",
              "          element.appendChild(docLink);\n",
              "        }\n",
              "      </script>\n",
              "    </div>\n",
              "  </div>\n",
              "  "
            ]
          },
          "metadata": {},
          "execution_count": 5
        }
      ]
    },
    {
      "cell_type": "code",
      "source": [
        "print(\"Shape of the training data\", train_df.shape)\n",
        "print(\"Number of data points\", train_df.shape[0])\n",
        "print(\"Number of features\",train_df.shape[1])"
      ],
      "metadata": {
        "colab": {
          "base_uri": "https://localhost:8080/"
        },
        "id": "Ifkf3pciZ6ZK",
        "outputId": "3de69803-7b96-4779-8ec7-275ff386cd5a"
      },
      "execution_count": 6,
      "outputs": [
        {
          "output_type": "stream",
          "name": "stdout",
          "text": [
            "Shape of the training data (125973, 44)\n",
            "Number of data points 125973\n",
            "Number of features 44\n"
          ]
        }
      ]
    },
    {
      "cell_type": "code",
      "source": [
        "print(\"Shape of the test data\", test_df.shape)\n",
        "print(\"Number of data points\", test_df.shape[0])\n",
        "print(\"Number of features\",test_df.shape[1])"
      ],
      "metadata": {
        "colab": {
          "base_uri": "https://localhost:8080/"
        },
        "id": "n2Kwg4tAZ7oH",
        "outputId": "f1755488-bf72-4072-ba37-f42cd4dd6ee7"
      },
      "execution_count": 7,
      "outputs": [
        {
          "output_type": "stream",
          "name": "stdout",
          "text": [
            "Shape of the test data (22544, 44)\n",
            "Number of data points 22544\n",
            "Number of features 44\n"
          ]
        }
      ]
    },
    {
      "cell_type": "markdown",
      "source": [
        "### Convert categorical columns into numerical values"
      ],
      "metadata": {
        "id": "3kBeRNNVkRue"
      }
    },
    {
      "cell_type": "code",
      "source": [
        "# Convert the columns with categorical values into numerical values\n",
        "categs_feats = train_df[['protocol_type', 'service', 'flag', 'attack']]\n",
        "encoder = OrdinalEncoder()\n",
        "categs_encoded = encoder.fit_transform(categs_feats)"
      ],
      "metadata": {
        "id": "qDKsC1AYkTHb"
      },
      "execution_count": 10,
      "outputs": []
    },
    {
      "cell_type": "code",
      "source": [
        "# Replace those columns\n",
        "train_df[['protocol_type', 'service', 'flag', 'attack']] = pd.DataFrame(categs_encoded, columns=categs_feats.columns, index=categs_feats.index)\n",
        "train_df.head()"
      ],
      "metadata": {
        "colab": {
          "base_uri": "https://localhost:8080/",
          "height": 317
        },
        "id": "L6EK0wsYkoxR",
        "outputId": "428542f5-5aed-423d-a40b-4cc447d08121"
      },
      "execution_count": 11,
      "outputs": [
        {
          "output_type": "execute_result",
          "data": {
            "text/plain": [
              "   duration  protocol_type  service  flag  src_bytes  dst_bytes  land  \\\n",
              "0         0            1.0     20.0   9.0        491          0     0   \n",
              "1         0            2.0     44.0   9.0        146          0     0   \n",
              "2         0            1.0     49.0   5.0          0          0     0   \n",
              "3         0            1.0     24.0   9.0        232       8153     0   \n",
              "4         0            1.0     24.0   9.0        199        420     0   \n",
              "\n",
              "   wrong_fragment  urgent  hot  ...  dst_host_diff_srv_rate  \\\n",
              "0               0       0    0  ...                    0.03   \n",
              "1               0       0    0  ...                    0.60   \n",
              "2               0       0    0  ...                    0.05   \n",
              "3               0       0    0  ...                    0.00   \n",
              "4               0       0    0  ...                    0.00   \n",
              "\n",
              "   dst_host_same_src_port_rate  dst_host_srv_diff_host_rate  \\\n",
              "0                         0.17                         0.00   \n",
              "1                         0.88                         0.00   \n",
              "2                         0.00                         0.00   \n",
              "3                         0.03                         0.04   \n",
              "4                         0.00                         0.00   \n",
              "\n",
              "   dst_host_serror_rate  dst_host_srv_serror_rate  dst_host_rerror_rate  \\\n",
              "0                  0.00                      0.00                  0.05   \n",
              "1                  0.00                      0.00                  0.00   \n",
              "2                  1.00                      1.00                  0.00   \n",
              "3                  0.03                      0.01                  0.00   \n",
              "4                  0.00                      0.00                  0.00   \n",
              "\n",
              "   dst_host_srv_rerror_rate  attack  attack score  label  \n",
              "0                      0.00    11.0            20      0  \n",
              "1                      0.00    11.0            15      0  \n",
              "2                      0.00     9.0            19      1  \n",
              "3                      0.01    11.0            21      0  \n",
              "4                      0.00    11.0            21      0  \n",
              "\n",
              "[5 rows x 44 columns]"
            ],
            "text/html": [
              "\n",
              "  <div id=\"df-764429f8-aa90-4d74-a9e8-458388d8a560\">\n",
              "    <div class=\"colab-df-container\">\n",
              "      <div>\n",
              "<style scoped>\n",
              "    .dataframe tbody tr th:only-of-type {\n",
              "        vertical-align: middle;\n",
              "    }\n",
              "\n",
              "    .dataframe tbody tr th {\n",
              "        vertical-align: top;\n",
              "    }\n",
              "\n",
              "    .dataframe thead th {\n",
              "        text-align: right;\n",
              "    }\n",
              "</style>\n",
              "<table border=\"1\" class=\"dataframe\">\n",
              "  <thead>\n",
              "    <tr style=\"text-align: right;\">\n",
              "      <th></th>\n",
              "      <th>duration</th>\n",
              "      <th>protocol_type</th>\n",
              "      <th>service</th>\n",
              "      <th>flag</th>\n",
              "      <th>src_bytes</th>\n",
              "      <th>dst_bytes</th>\n",
              "      <th>land</th>\n",
              "      <th>wrong_fragment</th>\n",
              "      <th>urgent</th>\n",
              "      <th>hot</th>\n",
              "      <th>...</th>\n",
              "      <th>dst_host_diff_srv_rate</th>\n",
              "      <th>dst_host_same_src_port_rate</th>\n",
              "      <th>dst_host_srv_diff_host_rate</th>\n",
              "      <th>dst_host_serror_rate</th>\n",
              "      <th>dst_host_srv_serror_rate</th>\n",
              "      <th>dst_host_rerror_rate</th>\n",
              "      <th>dst_host_srv_rerror_rate</th>\n",
              "      <th>attack</th>\n",
              "      <th>attack score</th>\n",
              "      <th>label</th>\n",
              "    </tr>\n",
              "  </thead>\n",
              "  <tbody>\n",
              "    <tr>\n",
              "      <th>0</th>\n",
              "      <td>0</td>\n",
              "      <td>1.0</td>\n",
              "      <td>20.0</td>\n",
              "      <td>9.0</td>\n",
              "      <td>491</td>\n",
              "      <td>0</td>\n",
              "      <td>0</td>\n",
              "      <td>0</td>\n",
              "      <td>0</td>\n",
              "      <td>0</td>\n",
              "      <td>...</td>\n",
              "      <td>0.03</td>\n",
              "      <td>0.17</td>\n",
              "      <td>0.00</td>\n",
              "      <td>0.00</td>\n",
              "      <td>0.00</td>\n",
              "      <td>0.05</td>\n",
              "      <td>0.00</td>\n",
              "      <td>11.0</td>\n",
              "      <td>20</td>\n",
              "      <td>0</td>\n",
              "    </tr>\n",
              "    <tr>\n",
              "      <th>1</th>\n",
              "      <td>0</td>\n",
              "      <td>2.0</td>\n",
              "      <td>44.0</td>\n",
              "      <td>9.0</td>\n",
              "      <td>146</td>\n",
              "      <td>0</td>\n",
              "      <td>0</td>\n",
              "      <td>0</td>\n",
              "      <td>0</td>\n",
              "      <td>0</td>\n",
              "      <td>...</td>\n",
              "      <td>0.60</td>\n",
              "      <td>0.88</td>\n",
              "      <td>0.00</td>\n",
              "      <td>0.00</td>\n",
              "      <td>0.00</td>\n",
              "      <td>0.00</td>\n",
              "      <td>0.00</td>\n",
              "      <td>11.0</td>\n",
              "      <td>15</td>\n",
              "      <td>0</td>\n",
              "    </tr>\n",
              "    <tr>\n",
              "      <th>2</th>\n",
              "      <td>0</td>\n",
              "      <td>1.0</td>\n",
              "      <td>49.0</td>\n",
              "      <td>5.0</td>\n",
              "      <td>0</td>\n",
              "      <td>0</td>\n",
              "      <td>0</td>\n",
              "      <td>0</td>\n",
              "      <td>0</td>\n",
              "      <td>0</td>\n",
              "      <td>...</td>\n",
              "      <td>0.05</td>\n",
              "      <td>0.00</td>\n",
              "      <td>0.00</td>\n",
              "      <td>1.00</td>\n",
              "      <td>1.00</td>\n",
              "      <td>0.00</td>\n",
              "      <td>0.00</td>\n",
              "      <td>9.0</td>\n",
              "      <td>19</td>\n",
              "      <td>1</td>\n",
              "    </tr>\n",
              "    <tr>\n",
              "      <th>3</th>\n",
              "      <td>0</td>\n",
              "      <td>1.0</td>\n",
              "      <td>24.0</td>\n",
              "      <td>9.0</td>\n",
              "      <td>232</td>\n",
              "      <td>8153</td>\n",
              "      <td>0</td>\n",
              "      <td>0</td>\n",
              "      <td>0</td>\n",
              "      <td>0</td>\n",
              "      <td>...</td>\n",
              "      <td>0.00</td>\n",
              "      <td>0.03</td>\n",
              "      <td>0.04</td>\n",
              "      <td>0.03</td>\n",
              "      <td>0.01</td>\n",
              "      <td>0.00</td>\n",
              "      <td>0.01</td>\n",
              "      <td>11.0</td>\n",
              "      <td>21</td>\n",
              "      <td>0</td>\n",
              "    </tr>\n",
              "    <tr>\n",
              "      <th>4</th>\n",
              "      <td>0</td>\n",
              "      <td>1.0</td>\n",
              "      <td>24.0</td>\n",
              "      <td>9.0</td>\n",
              "      <td>199</td>\n",
              "      <td>420</td>\n",
              "      <td>0</td>\n",
              "      <td>0</td>\n",
              "      <td>0</td>\n",
              "      <td>0</td>\n",
              "      <td>...</td>\n",
              "      <td>0.00</td>\n",
              "      <td>0.00</td>\n",
              "      <td>0.00</td>\n",
              "      <td>0.00</td>\n",
              "      <td>0.00</td>\n",
              "      <td>0.00</td>\n",
              "      <td>0.00</td>\n",
              "      <td>11.0</td>\n",
              "      <td>21</td>\n",
              "      <td>0</td>\n",
              "    </tr>\n",
              "  </tbody>\n",
              "</table>\n",
              "<p>5 rows × 44 columns</p>\n",
              "</div>\n",
              "      <button class=\"colab-df-convert\" onclick=\"convertToInteractive('df-764429f8-aa90-4d74-a9e8-458388d8a560')\"\n",
              "              title=\"Convert this dataframe to an interactive table.\"\n",
              "              style=\"display:none;\">\n",
              "        \n",
              "  <svg xmlns=\"http://www.w3.org/2000/svg\" height=\"24px\"viewBox=\"0 0 24 24\"\n",
              "       width=\"24px\">\n",
              "    <path d=\"M0 0h24v24H0V0z\" fill=\"none\"/>\n",
              "    <path d=\"M18.56 5.44l.94 2.06.94-2.06 2.06-.94-2.06-.94-.94-2.06-.94 2.06-2.06.94zm-11 1L8.5 8.5l.94-2.06 2.06-.94-2.06-.94L8.5 2.5l-.94 2.06-2.06.94zm10 10l.94 2.06.94-2.06 2.06-.94-2.06-.94-.94-2.06-.94 2.06-2.06.94z\"/><path d=\"M17.41 7.96l-1.37-1.37c-.4-.4-.92-.59-1.43-.59-.52 0-1.04.2-1.43.59L10.3 9.45l-7.72 7.72c-.78.78-.78 2.05 0 2.83L4 21.41c.39.39.9.59 1.41.59.51 0 1.02-.2 1.41-.59l7.78-7.78 2.81-2.81c.8-.78.8-2.07 0-2.86zM5.41 20L4 18.59l7.72-7.72 1.47 1.35L5.41 20z\"/>\n",
              "  </svg>\n",
              "      </button>\n",
              "      \n",
              "  <style>\n",
              "    .colab-df-container {\n",
              "      display:flex;\n",
              "      flex-wrap:wrap;\n",
              "      gap: 12px;\n",
              "    }\n",
              "\n",
              "    .colab-df-convert {\n",
              "      background-color: #E8F0FE;\n",
              "      border: none;\n",
              "      border-radius: 50%;\n",
              "      cursor: pointer;\n",
              "      display: none;\n",
              "      fill: #1967D2;\n",
              "      height: 32px;\n",
              "      padding: 0 0 0 0;\n",
              "      width: 32px;\n",
              "    }\n",
              "\n",
              "    .colab-df-convert:hover {\n",
              "      background-color: #E2EBFA;\n",
              "      box-shadow: 0px 1px 2px rgba(60, 64, 67, 0.3), 0px 1px 3px 1px rgba(60, 64, 67, 0.15);\n",
              "      fill: #174EA6;\n",
              "    }\n",
              "\n",
              "    [theme=dark] .colab-df-convert {\n",
              "      background-color: #3B4455;\n",
              "      fill: #D2E3FC;\n",
              "    }\n",
              "\n",
              "    [theme=dark] .colab-df-convert:hover {\n",
              "      background-color: #434B5C;\n",
              "      box-shadow: 0px 1px 3px 1px rgba(0, 0, 0, 0.15);\n",
              "      filter: drop-shadow(0px 1px 2px rgba(0, 0, 0, 0.3));\n",
              "      fill: #FFFFFF;\n",
              "    }\n",
              "  </style>\n",
              "\n",
              "      <script>\n",
              "        const buttonEl =\n",
              "          document.querySelector('#df-764429f8-aa90-4d74-a9e8-458388d8a560 button.colab-df-convert');\n",
              "        buttonEl.style.display =\n",
              "          google.colab.kernel.accessAllowed ? 'block' : 'none';\n",
              "\n",
              "        async function convertToInteractive(key) {\n",
              "          const element = document.querySelector('#df-764429f8-aa90-4d74-a9e8-458388d8a560');\n",
              "          const dataTable =\n",
              "            await google.colab.kernel.invokeFunction('convertToInteractive',\n",
              "                                                     [key], {});\n",
              "          if (!dataTable) return;\n",
              "\n",
              "          const docLinkHtml = 'Like what you see? Visit the ' +\n",
              "            '<a target=\"_blank\" href=https://colab.research.google.com/notebooks/data_table.ipynb>data table notebook</a>'\n",
              "            + ' to learn more about interactive tables.';\n",
              "          element.innerHTML = '';\n",
              "          dataTable['output_type'] = 'display_data';\n",
              "          await google.colab.output.renderOutput(dataTable, element);\n",
              "          const docLink = document.createElement('div');\n",
              "          docLink.innerHTML = docLinkHtml;\n",
              "          element.appendChild(docLink);\n",
              "        }\n",
              "      </script>\n",
              "    </div>\n",
              "  </div>\n",
              "  "
            ]
          },
          "metadata": {},
          "execution_count": 11
        }
      ]
    },
    {
      "cell_type": "code",
      "source": [
        "# Create a training dataset\n",
        "X_train = train_df.drop(['attack', 'attack score', 'label'], axis=1)\n",
        "y_train = train_df['label']"
      ],
      "metadata": {
        "id": "4H5JSJRSk3DK"
      },
      "execution_count": 12,
      "outputs": []
    },
    {
      "cell_type": "code",
      "source": [
        "# Repeat the same for the test dataset\n",
        "categs_feats = test_df[['protocol_type', 'service', 'flag', 'attack']]\n",
        "encoder = OrdinalEncoder()\n",
        "categs_encoded = encoder.fit_transform(categs_feats)"
      ],
      "metadata": {
        "id": "5F_xTF9vk52_"
      },
      "execution_count": 13,
      "outputs": []
    },
    {
      "cell_type": "code",
      "source": [
        "test_df[['protocol_type', 'service', 'flag', 'attack']] = pd.DataFrame(categs_encoded, columns=categs_feats.columns, index=categs_feats.index)\n",
        "test_df.head()"
      ],
      "metadata": {
        "colab": {
          "base_uri": "https://localhost:8080/",
          "height": 317
        },
        "id": "blVq1tkOk9yX",
        "outputId": "e7b8b771-4e90-41c4-c1b0-716b98b6ffc3"
      },
      "execution_count": 14,
      "outputs": [
        {
          "output_type": "execute_result",
          "data": {
            "text/plain": [
              "   duration  protocol_type  service  flag  src_bytes  dst_bytes  land  \\\n",
              "0         0            1.0     45.0   1.0          0          0     0   \n",
              "1         0            1.0     45.0   1.0          0          0     0   \n",
              "2         2            1.0     19.0   9.0      12983          0     0   \n",
              "3         0            0.0     13.0   9.0         20          0     0   \n",
              "4         1            1.0     55.0   2.0          0         15     0   \n",
              "\n",
              "   wrong_fragment  urgent  hot  ...  dst_host_diff_srv_rate  \\\n",
              "0               0       0    0  ...                    0.06   \n",
              "1               0       0    0  ...                    0.06   \n",
              "2               0       0    0  ...                    0.04   \n",
              "3               0       0    0  ...                    0.00   \n",
              "4               0       0    0  ...                    0.17   \n",
              "\n",
              "   dst_host_same_src_port_rate  dst_host_srv_diff_host_rate  \\\n",
              "0                         0.00                         0.00   \n",
              "1                         0.00                         0.00   \n",
              "2                         0.61                         0.02   \n",
              "3                         1.00                         0.28   \n",
              "4                         0.03                         0.02   \n",
              "\n",
              "   dst_host_serror_rate  dst_host_srv_serror_rate  dst_host_rerror_rate  \\\n",
              "0                   0.0                       0.0                  1.00   \n",
              "1                   0.0                       0.0                  1.00   \n",
              "2                   0.0                       0.0                  0.00   \n",
              "3                   0.0                       0.0                  0.00   \n",
              "4                   0.0                       0.0                  0.83   \n",
              "\n",
              "   dst_host_srv_rerror_rate  attack  attack score  label  \n",
              "0                      1.00    14.0            21      1  \n",
              "1                      1.00    14.0            21      1  \n",
              "2                      0.00    16.0            21      0  \n",
              "3                      0.00    24.0            15      1  \n",
              "4                      0.71    11.0            11      1  \n",
              "\n",
              "[5 rows x 44 columns]"
            ],
            "text/html": [
              "\n",
              "  <div id=\"df-2271f293-a19b-4583-b2f3-121d246fccb6\">\n",
              "    <div class=\"colab-df-container\">\n",
              "      <div>\n",
              "<style scoped>\n",
              "    .dataframe tbody tr th:only-of-type {\n",
              "        vertical-align: middle;\n",
              "    }\n",
              "\n",
              "    .dataframe tbody tr th {\n",
              "        vertical-align: top;\n",
              "    }\n",
              "\n",
              "    .dataframe thead th {\n",
              "        text-align: right;\n",
              "    }\n",
              "</style>\n",
              "<table border=\"1\" class=\"dataframe\">\n",
              "  <thead>\n",
              "    <tr style=\"text-align: right;\">\n",
              "      <th></th>\n",
              "      <th>duration</th>\n",
              "      <th>protocol_type</th>\n",
              "      <th>service</th>\n",
              "      <th>flag</th>\n",
              "      <th>src_bytes</th>\n",
              "      <th>dst_bytes</th>\n",
              "      <th>land</th>\n",
              "      <th>wrong_fragment</th>\n",
              "      <th>urgent</th>\n",
              "      <th>hot</th>\n",
              "      <th>...</th>\n",
              "      <th>dst_host_diff_srv_rate</th>\n",
              "      <th>dst_host_same_src_port_rate</th>\n",
              "      <th>dst_host_srv_diff_host_rate</th>\n",
              "      <th>dst_host_serror_rate</th>\n",
              "      <th>dst_host_srv_serror_rate</th>\n",
              "      <th>dst_host_rerror_rate</th>\n",
              "      <th>dst_host_srv_rerror_rate</th>\n",
              "      <th>attack</th>\n",
              "      <th>attack score</th>\n",
              "      <th>label</th>\n",
              "    </tr>\n",
              "  </thead>\n",
              "  <tbody>\n",
              "    <tr>\n",
              "      <th>0</th>\n",
              "      <td>0</td>\n",
              "      <td>1.0</td>\n",
              "      <td>45.0</td>\n",
              "      <td>1.0</td>\n",
              "      <td>0</td>\n",
              "      <td>0</td>\n",
              "      <td>0</td>\n",
              "      <td>0</td>\n",
              "      <td>0</td>\n",
              "      <td>0</td>\n",
              "      <td>...</td>\n",
              "      <td>0.06</td>\n",
              "      <td>0.00</td>\n",
              "      <td>0.00</td>\n",
              "      <td>0.0</td>\n",
              "      <td>0.0</td>\n",
              "      <td>1.00</td>\n",
              "      <td>1.00</td>\n",
              "      <td>14.0</td>\n",
              "      <td>21</td>\n",
              "      <td>1</td>\n",
              "    </tr>\n",
              "    <tr>\n",
              "      <th>1</th>\n",
              "      <td>0</td>\n",
              "      <td>1.0</td>\n",
              "      <td>45.0</td>\n",
              "      <td>1.0</td>\n",
              "      <td>0</td>\n",
              "      <td>0</td>\n",
              "      <td>0</td>\n",
              "      <td>0</td>\n",
              "      <td>0</td>\n",
              "      <td>0</td>\n",
              "      <td>...</td>\n",
              "      <td>0.06</td>\n",
              "      <td>0.00</td>\n",
              "      <td>0.00</td>\n",
              "      <td>0.0</td>\n",
              "      <td>0.0</td>\n",
              "      <td>1.00</td>\n",
              "      <td>1.00</td>\n",
              "      <td>14.0</td>\n",
              "      <td>21</td>\n",
              "      <td>1</td>\n",
              "    </tr>\n",
              "    <tr>\n",
              "      <th>2</th>\n",
              "      <td>2</td>\n",
              "      <td>1.0</td>\n",
              "      <td>19.0</td>\n",
              "      <td>9.0</td>\n",
              "      <td>12983</td>\n",
              "      <td>0</td>\n",
              "      <td>0</td>\n",
              "      <td>0</td>\n",
              "      <td>0</td>\n",
              "      <td>0</td>\n",
              "      <td>...</td>\n",
              "      <td>0.04</td>\n",
              "      <td>0.61</td>\n",
              "      <td>0.02</td>\n",
              "      <td>0.0</td>\n",
              "      <td>0.0</td>\n",
              "      <td>0.00</td>\n",
              "      <td>0.00</td>\n",
              "      <td>16.0</td>\n",
              "      <td>21</td>\n",
              "      <td>0</td>\n",
              "    </tr>\n",
              "    <tr>\n",
              "      <th>3</th>\n",
              "      <td>0</td>\n",
              "      <td>0.0</td>\n",
              "      <td>13.0</td>\n",
              "      <td>9.0</td>\n",
              "      <td>20</td>\n",
              "      <td>0</td>\n",
              "      <td>0</td>\n",
              "      <td>0</td>\n",
              "      <td>0</td>\n",
              "      <td>0</td>\n",
              "      <td>...</td>\n",
              "      <td>0.00</td>\n",
              "      <td>1.00</td>\n",
              "      <td>0.28</td>\n",
              "      <td>0.0</td>\n",
              "      <td>0.0</td>\n",
              "      <td>0.00</td>\n",
              "      <td>0.00</td>\n",
              "      <td>24.0</td>\n",
              "      <td>15</td>\n",
              "      <td>1</td>\n",
              "    </tr>\n",
              "    <tr>\n",
              "      <th>4</th>\n",
              "      <td>1</td>\n",
              "      <td>1.0</td>\n",
              "      <td>55.0</td>\n",
              "      <td>2.0</td>\n",
              "      <td>0</td>\n",
              "      <td>15</td>\n",
              "      <td>0</td>\n",
              "      <td>0</td>\n",
              "      <td>0</td>\n",
              "      <td>0</td>\n",
              "      <td>...</td>\n",
              "      <td>0.17</td>\n",
              "      <td>0.03</td>\n",
              "      <td>0.02</td>\n",
              "      <td>0.0</td>\n",
              "      <td>0.0</td>\n",
              "      <td>0.83</td>\n",
              "      <td>0.71</td>\n",
              "      <td>11.0</td>\n",
              "      <td>11</td>\n",
              "      <td>1</td>\n",
              "    </tr>\n",
              "  </tbody>\n",
              "</table>\n",
              "<p>5 rows × 44 columns</p>\n",
              "</div>\n",
              "      <button class=\"colab-df-convert\" onclick=\"convertToInteractive('df-2271f293-a19b-4583-b2f3-121d246fccb6')\"\n",
              "              title=\"Convert this dataframe to an interactive table.\"\n",
              "              style=\"display:none;\">\n",
              "        \n",
              "  <svg xmlns=\"http://www.w3.org/2000/svg\" height=\"24px\"viewBox=\"0 0 24 24\"\n",
              "       width=\"24px\">\n",
              "    <path d=\"M0 0h24v24H0V0z\" fill=\"none\"/>\n",
              "    <path d=\"M18.56 5.44l.94 2.06.94-2.06 2.06-.94-2.06-.94-.94-2.06-.94 2.06-2.06.94zm-11 1L8.5 8.5l.94-2.06 2.06-.94-2.06-.94L8.5 2.5l-.94 2.06-2.06.94zm10 10l.94 2.06.94-2.06 2.06-.94-2.06-.94-.94-2.06-.94 2.06-2.06.94z\"/><path d=\"M17.41 7.96l-1.37-1.37c-.4-.4-.92-.59-1.43-.59-.52 0-1.04.2-1.43.59L10.3 9.45l-7.72 7.72c-.78.78-.78 2.05 0 2.83L4 21.41c.39.39.9.59 1.41.59.51 0 1.02-.2 1.41-.59l7.78-7.78 2.81-2.81c.8-.78.8-2.07 0-2.86zM5.41 20L4 18.59l7.72-7.72 1.47 1.35L5.41 20z\"/>\n",
              "  </svg>\n",
              "      </button>\n",
              "      \n",
              "  <style>\n",
              "    .colab-df-container {\n",
              "      display:flex;\n",
              "      flex-wrap:wrap;\n",
              "      gap: 12px;\n",
              "    }\n",
              "\n",
              "    .colab-df-convert {\n",
              "      background-color: #E8F0FE;\n",
              "      border: none;\n",
              "      border-radius: 50%;\n",
              "      cursor: pointer;\n",
              "      display: none;\n",
              "      fill: #1967D2;\n",
              "      height: 32px;\n",
              "      padding: 0 0 0 0;\n",
              "      width: 32px;\n",
              "    }\n",
              "\n",
              "    .colab-df-convert:hover {\n",
              "      background-color: #E2EBFA;\n",
              "      box-shadow: 0px 1px 2px rgba(60, 64, 67, 0.3), 0px 1px 3px 1px rgba(60, 64, 67, 0.15);\n",
              "      fill: #174EA6;\n",
              "    }\n",
              "\n",
              "    [theme=dark] .colab-df-convert {\n",
              "      background-color: #3B4455;\n",
              "      fill: #D2E3FC;\n",
              "    }\n",
              "\n",
              "    [theme=dark] .colab-df-convert:hover {\n",
              "      background-color: #434B5C;\n",
              "      box-shadow: 0px 1px 3px 1px rgba(0, 0, 0, 0.15);\n",
              "      filter: drop-shadow(0px 1px 2px rgba(0, 0, 0, 0.3));\n",
              "      fill: #FFFFFF;\n",
              "    }\n",
              "  </style>\n",
              "\n",
              "      <script>\n",
              "        const buttonEl =\n",
              "          document.querySelector('#df-2271f293-a19b-4583-b2f3-121d246fccb6 button.colab-df-convert');\n",
              "        buttonEl.style.display =\n",
              "          google.colab.kernel.accessAllowed ? 'block' : 'none';\n",
              "\n",
              "        async function convertToInteractive(key) {\n",
              "          const element = document.querySelector('#df-2271f293-a19b-4583-b2f3-121d246fccb6');\n",
              "          const dataTable =\n",
              "            await google.colab.kernel.invokeFunction('convertToInteractive',\n",
              "                                                     [key], {});\n",
              "          if (!dataTable) return;\n",
              "\n",
              "          const docLinkHtml = 'Like what you see? Visit the ' +\n",
              "            '<a target=\"_blank\" href=https://colab.research.google.com/notebooks/data_table.ipynb>data table notebook</a>'\n",
              "            + ' to learn more about interactive tables.';\n",
              "          element.innerHTML = '';\n",
              "          dataTable['output_type'] = 'display_data';\n",
              "          await google.colab.output.renderOutput(dataTable, element);\n",
              "          const docLink = document.createElement('div');\n",
              "          docLink.innerHTML = docLinkHtml;\n",
              "          element.appendChild(docLink);\n",
              "        }\n",
              "      </script>\n",
              "    </div>\n",
              "  </div>\n",
              "  "
            ]
          },
          "metadata": {},
          "execution_count": 14
        }
      ]
    },
    {
      "cell_type": "code",
      "source": [
        "# Create a test dataset\n",
        "X_test = test_df.drop(['attack', 'attack score', 'label'], axis=1)\n",
        "y_test = test_df['label']"
      ],
      "metadata": {
        "id": "ApZqty9LlCkm"
      },
      "execution_count": 15,
      "outputs": []
    },
    {
      "cell_type": "markdown",
      "source": [
        "### Normalize the data values in each column to the range [0,1]"
      ],
      "metadata": {
        "id": "BAV5adP3lFyX"
      }
    },
    {
      "cell_type": "code",
      "source": [
        "# Standardize features by scaling each feature to range [0, 1]\n",
        "scaler = MinMaxScaler()\n",
        "X_train = scaler.fit_transform(X_train)\n",
        "X_test = scaler.transform(X_test)"
      ],
      "metadata": {
        "id": "1zKTWLgelG6q"
      },
      "execution_count": 16,
      "outputs": []
    },
    {
      "cell_type": "code",
      "source": [
        "# Print the data shapes\n",
        "# Note: the variables are now numpy arrays, and not pandas dataframes \n",
        "print('Data type:', type(X_train))\n",
        "\n",
        "# Display the shapes of train and test datasets\n",
        "print('\\nTrain shape: {}'.format(X_train.shape))\n",
        "print('Test shape: {}'.format(X_test.shape))\n",
        "\n",
        "# Display the range to make sure they are in the [0, 1] range\n",
        "print('\\nMax value', np.max(X_train))\n",
        "print('Min value', np.min(X_train))\n",
        "print('Average value', np.mean(X_train))"
      ],
      "metadata": {
        "colab": {
          "base_uri": "https://localhost:8080/"
        },
        "id": "ZUhfVf8ZlLOp",
        "outputId": "a7867fff-1d51-4827-a66c-74f6ac8913d4"
      },
      "execution_count": 17,
      "outputs": [
        {
          "output_type": "stream",
          "name": "stdout",
          "text": [
            "Data type: <class 'numpy.ndarray'>\n",
            "\n",
            "Train shape: (125973, 41)\n",
            "Test shape: (22544, 41)\n",
            "\n",
            "Max value 1.0\n",
            "Min value 0.0\n",
            "Average value 0.16355979490070746\n"
          ]
        }
      ]
    },
    {
      "cell_type": "markdown",
      "source": [
        "### Save the prepared data"
      ],
      "metadata": {
        "id": "HZQuMg6fmXJ2"
      }
    },
    {
      "cell_type": "code",
      "source": [
        "task1_data_path = os.path.join(task1_path, 'data')\n",
        "Path(task1_data_path).mkdir(parents=True, exist_ok=True)\n",
        "\n",
        "np.save(os.path.join(task1_data_path, 'X_train.npy'), X_train)\n",
        "np.save(os.path.join(task1_data_path, 'y_train.npy'), y_train)\n",
        "\n",
        "np.save(os.path.join(task1_data_path, 'X_test.npy'), X_test)\n",
        "np.save(os.path.join(task1_data_path, 'y_test.npy'), y_test)"
      ],
      "metadata": {
        "id": "xC1F61TDloU5"
      },
      "execution_count": 19,
      "outputs": []
    },
    {
      "cell_type": "markdown",
      "source": [
        "## 1.1 Train the conventional ML models"
      ],
      "metadata": {
        "id": "fgGgnwDqe2ii"
      }
    },
    {
      "cell_type": "markdown",
      "source": [
        "Train the following conventional ML models to classify the network connections into normal and attack classes: Decision Trees, Random Forest, k-Nearest Neighbors, naïve Bayes, and Support Vector Machines. It is not expected to finetune these models, but feel free to perform some finetuning if you wish to. An example of classification with Logistic Regression is provided in the Data Loader. Report the classification accuracies on the test dataset by the different models."
      ],
      "metadata": {
        "id": "G52AyfFhe6lp"
      }
    },
    {
      "cell_type": "code",
      "source": [
        "task1_data_path = os.path.join(task1_path, 'data')\n",
        "X_train = np.load(os.path.join(task1_data_path, 'X_train.npy'))\n",
        "y_train = np.load(os.path.join(task1_data_path, 'y_train.npy'))\n",
        "X_test = np.load(os.path.join(task1_data_path, 'X_test.npy'))\n",
        "y_test = np.load(os.path.join(task1_data_path, 'y_test.npy'))"
      ],
      "metadata": {
        "id": "382-GnpooT7m"
      },
      "execution_count": null,
      "outputs": []
    },
    {
      "cell_type": "code",
      "source": [
        "# Decision Trees\n",
        "print('Decision Trees Model')\n",
        "dt_model = DecisionTreeClassifier()\n",
        "dt_model.fit(X_train, y_train)\n",
        "print('Test Accuracy:', dt_model.score(X_test, y_test))\n",
        "\n",
        "# Random Forest\n",
        "print('Random Forest Model')\n",
        "rf_model = RandomForestClassifier()\n",
        "rf_model.fit(X_train, y_train)\n",
        "print('Test Accuracy:', rf_model.score(X_test, y_test))\n",
        "\n",
        "# k-Nearest Neighbors\n",
        "print('k-Nearest Neighbors Model')\n",
        "knn_model = KNeighborsClassifier()\n",
        "knn_model.fit(X_train, y_train)\n",
        "print('Test Accuracy:', knn_model.score(X_test, y_test))\n",
        "\n",
        "# naïve Bayes\n",
        "print('naïve Bayes Model')\n",
        "nb_model = GaussianNB()\n",
        "nb_model.fit(X_train, y_train)\n",
        "print('Test Accuracy:', nb_model.score(X_test, y_test))\n",
        "\n",
        "# Support Vector Machines\n",
        "print('Support Vector Machines Model')\n",
        "svm_model = SVC()\n",
        "svm_model.fit(X_train, y_train)\n",
        "print('Test Accuracy:', svm_model.score(X_test, y_test))"
      ],
      "metadata": {
        "colab": {
          "base_uri": "https://localhost:8080/"
        },
        "id": "LC4RXWrWe9LD",
        "outputId": "a6bbe00c-76f1-41d3-a9aa-645caece3262"
      },
      "execution_count": 25,
      "outputs": [
        {
          "output_type": "stream",
          "name": "stdout",
          "text": [
            "Decision Trees Model\n",
            "Test Accuracy: 0.8014105748757985\n",
            "Random Forest Model\n",
            "Test Accuracy: 0.7660131298793471\n",
            "k-Nearest Neighbors Model\n",
            "Test Accuracy: 0.7744410929737402\n",
            "naïve Bayes Model\n",
            "Test Accuracy: 0.7708481192334989\n",
            "Support Vector Machines Model\n",
            "Test Accuracy: 0.7788768630234209\n"
          ]
        }
      ]
    },
    {
      "cell_type": "markdown",
      "source": [
        "## 1.2 Train a deep-learning model"
      ],
      "metadata": {
        "id": "K62sKCQ4ptfc"
      }
    },
    {
      "cell_type": "markdown",
      "source": [
        "Train a deep-learning model for classification of the network connections into normal and attack classes. You can consider a network with several fully-connected layers and dropout layers, or you can consider other types of layers if you wish. Report the classification accuracy on the test dataset, and display the learning curves. For full marks, it is expected to obtain test accuracy greater than 77%."
      ],
      "metadata": {
        "id": "CbYQKY1DpzLw"
      }
    },
    {
      "cell_type": "code",
      "source": [
        "y_train_onehot = keras.utils.to_categorical(y_train, 2)\n",
        "y_test_onehot = keras.utils.to_categorical(y_test, 2)"
      ],
      "metadata": {
        "id": "GD6ddR9l33z3"
      },
      "execution_count": 56,
      "outputs": []
    },
    {
      "cell_type": "code",
      "source": [
        "# Define the model architecture\n",
        "model = tf.keras.Sequential([\n",
        "    layers.Dense(64, activation='relu', input_shape=(X_train.shape[1],)),\n",
        "    layers.Dense(32, activation='relu'),\n",
        "    layers.Dense(2, activation='sigmoid')\n",
        "])\n",
        "\n",
        "# Compile the model\n",
        "model.compile(optimizer='adam', loss='binary_crossentropy', metrics=['accuracy'])\n",
        "\n",
        "# Train the model\n",
        "history = model.fit(X_train, y_train_onehot, epochs=5, batch_size=32, validation_split=0.2)\n",
        "\n",
        "# Evaluate the model on the test set\n",
        "test_loss, test_accuracy = model.evaluate(X_test, y_test_onehot)\n",
        "print('Test Accuracy:', test_accuracy)"
      ],
      "metadata": {
        "colab": {
          "base_uri": "https://localhost:8080/"
        },
        "id": "aQROJ6-jvi8p",
        "outputId": "8c7b1029-a057-433a-b7f6-acb36b06788d"
      },
      "execution_count": 57,
      "outputs": [
        {
          "output_type": "stream",
          "name": "stdout",
          "text": [
            "Train on 100778 samples, validate on 25195 samples\n",
            "Epoch 1/5\n",
            "100352/100778 [============================>.] - ETA: 0s - loss: 0.0730 - accuracy: 0.9737"
          ]
        },
        {
          "output_type": "stream",
          "name": "stderr",
          "text": [
            "/usr/local/lib/python3.10/dist-packages/keras/engine/training_v1.py:2335: UserWarning: `Model.state_updates` will be removed in a future version. This property should not be used in TensorFlow 2.0, as `updates` are applied automatically.\n",
            "  updates = self.state_updates\n"
          ]
        },
        {
          "output_type": "stream",
          "name": "stdout",
          "text": [
            "\b\b\b\b\b\b\b\b\b\b\b\b\b\b\b\b\b\b\b\b\b\b\b\b\b\b\b\b\b\b\b\b\b\b\b\b\b\b\b\b\b\b\b\b\b\b\b\b\b\b\b\b\b\b\b\b\b\b\b\b\b\b\b\b\b\b\b\b\b\b\b\b\b\b\b\b\b\b\b\b\b\b\b\b\b\b\b\b\b\b\r100778/100778 [==============================] - 7s 66us/sample - loss: 0.0729 - accuracy: 0.9737 - val_loss: 0.0402 - val_accuracy: 0.9868\n",
            "Epoch 2/5\n",
            "100778/100778 [==============================] - 6s 61us/sample - loss: 0.0343 - accuracy: 0.9876 - val_loss: 0.0280 - val_accuracy: 0.9908\n",
            "Epoch 3/5\n",
            "100778/100778 [==============================] - 7s 65us/sample - loss: 0.0263 - accuracy: 0.9906 - val_loss: 0.0369 - val_accuracy: 0.9863\n",
            "Epoch 4/5\n",
            "100778/100778 [==============================] - 6s 64us/sample - loss: 0.0220 - accuracy: 0.9922 - val_loss: 0.0200 - val_accuracy: 0.9938\n",
            "Epoch 5/5\n",
            "100778/100778 [==============================] - 7s 65us/sample - loss: 0.0197 - accuracy: 0.9929 - val_loss: 0.0188 - val_accuracy: 0.9943\n",
            "Test Accuracy: 0.796997\n"
          ]
        }
      ]
    },
    {
      "cell_type": "code",
      "source": [
        "model.summary()"
      ],
      "metadata": {
        "colab": {
          "base_uri": "https://localhost:8080/"
        },
        "id": "F4fT2FWo1MOC",
        "outputId": "931266d2-44b8-492d-e2e8-ba0385bac82f"
      },
      "execution_count": 58,
      "outputs": [
        {
          "output_type": "stream",
          "name": "stdout",
          "text": [
            "Model: \"sequential_1\"\n",
            "_________________________________________________________________\n",
            " Layer (type)                Output Shape              Param #   \n",
            "=================================================================\n",
            " dense_3 (Dense)             (None, 64)                2688      \n",
            "                                                                 \n",
            " dense_4 (Dense)             (None, 32)                2080      \n",
            "                                                                 \n",
            " dense_5 (Dense)             (None, 2)                 66        \n",
            "                                                                 \n",
            "=================================================================\n",
            "Total params: 4,834\n",
            "Trainable params: 4,834\n",
            "Non-trainable params: 0\n",
            "_________________________________________________________________\n"
          ]
        }
      ]
    },
    {
      "cell_type": "code",
      "source": [
        "def plot_acc_loss(HISTORY):\n",
        "    # Plot the loss and accuracy\n",
        "    train_loss = HISTORY['loss']\n",
        "    val_loss = HISTORY['val_loss']\n",
        "    acc = HISTORY['accuracy'] \n",
        "    val_acc = HISTORY['val_accuracy']\n",
        "\n",
        "    epochsn = np.arange(1, len(train_loss)+1,1)\n",
        "    plt.plot(epochsn,train_loss, 'b', label='Training Loss')\n",
        "    plt.plot(epochsn,val_loss, 'r', label='Validation Loss')\n",
        "    plt.grid(color='gray', linestyle='--')\n",
        "    plt.legend()\n",
        "    plt.title('LOSS')\n",
        "    plt.xlabel('Epochs')\n",
        "    plt.ylabel('Loss')\n",
        "\n",
        "    # fig_name1 = \"task1_loss.png\"\n",
        "    # fig_saving_path = os.path.join(PROJECT_ROOT_DIR, figure_dir)\n",
        "    # if not os.path.exists(fig_saving_path):\n",
        "    #    os.makedirs(fig_saving_path)\n",
        "\n",
        "    # plt.savefig(os.path.join(fig_saving_path, fig_name1))\n",
        "\n",
        "    axes = plt.gca()\n",
        "\n",
        "    plt.figure()\n",
        "    plt.plot(epochsn, acc, 'b', label='Training Accuracy')\n",
        "    plt.plot(epochsn, val_acc, 'r', label='Validation Accuracy')\n",
        "    plt.grid(color='gray', linestyle='--')\n",
        "    plt.legend()            \n",
        "    plt.title('ACCURACY')\n",
        "    plt.xlabel('Epochs')\n",
        "    plt.ylabel('Accuracy')\n",
        "\n",
        "    #fig_name2 = \"task1_accuracy.png\"\n",
        "    #plt.savefig(os.path.join(fig_saving_path, fig_name2))\n",
        "\n",
        "    plt.show()"
      ],
      "metadata": {
        "id": "DGz3w40KxVyf"
      },
      "execution_count": 59,
      "outputs": []
    },
    {
      "cell_type": "code",
      "source": [
        "plot_acc_loss(history.history)"
      ],
      "metadata": {
        "colab": {
          "base_uri": "https://localhost:8080/",
          "height": 927
        },
        "id": "OlJzw6oDxXYm",
        "outputId": "f80b4bb6-da2b-495c-9806-0d69484d192d"
      },
      "execution_count": 60,
      "outputs": [
        {
          "output_type": "display_data",
          "data": {
            "text/plain": [
              "<Figure size 640x480 with 1 Axes>"
            ],
            "image/png": "[encoded data removed]"
          },
          "metadata": {}
        },
        {
          "output_type": "display_data",
          "data": {
            "text/plain": [
              "<Figure size 640x480 with 1 Axes>"
            ],
            "image/png": "[encoded data removed]"
          },
          "metadata": {}
        }
      ]
    },
    {
      "cell_type": "code",
      "source": [
        "p1_model_path = os.path.join(task1_path, 'model')\n",
        "print(p1_model_path)\n",
        "Path(p1_model_path).mkdir(parents=True, exist_ok=True)"
      ],
      "metadata": {
        "colab": {
          "base_uri": "https://localhost:8080/"
        },
        "id": "dK6768tu1WNy",
        "outputId": "874a9d85-cd00-4682-83da-a3f46a5d890a"
      },
      "execution_count": 61,
      "outputs": [
        {
          "output_type": "stream",
          "name": "stdout",
          "text": [
            "/content/drive/MyDrive/Colab_Notebooks/CS504/assg#4/task1/model\n"
          ]
        }
      ]
    },
    {
      "cell_type": "code",
      "source": [
        "p1_model_path = os.path.join(task1_path, 'model')\n",
        "#save the model\n",
        "model.save(os.path.join(p1_model_path, \"t1_model.h5\"))\n",
        "\n",
        "#save our history so we dont lose it.\n",
        "np.save(os.path.join(p1_model_path, \"t1_model_history.npy\"), history.history)"
      ],
      "metadata": {
        "id": "XdWN6CCd1oFd"
      },
      "execution_count": 62,
      "outputs": []
    },
    {
      "cell_type": "markdown",
      "source": [
        "## 1.3 Implement a non-targeted white-box FGSM evasion attack"
      ],
      "metadata": {
        "id": "4mkd7-QpxlX0"
      }
    },
    {
      "cell_type": "markdown",
      "source": [
        "Implement a non-targeted white-box FGSM evasion attack against the deep learning model from Step 2. For creating the adversarial samples, use a random set of 1,000 records from the test dataset. Apply the following perturbation magnitudes: 𝜖= [0.01, 0.025, 0.05, 0.1, 0.2, 0.3]."
      ],
      "metadata": {
        "id": "LXe3DZR9xmo5"
      }
    },
    {
      "cell_type": "code",
      "source": [
        "# load the model\n",
        "loaded_model = load_model(os.path.join(task1_path, 'model', \"t1_model.h5\"))"
      ],
      "metadata": {
        "id": "QBNL33al2dru"
      },
      "execution_count": 63,
      "outputs": []
    },
    {
      "cell_type": "code",
      "source": [
        "print(loaded_model.summary())"
      ],
      "metadata": {
        "colab": {
          "base_uri": "https://localhost:8080/"
        },
        "id": "r3MCVtSc7h2o",
        "outputId": "ae86ba4d-15f8-42ed-e3d5-646fbb7f5def"
      },
      "execution_count": 64,
      "outputs": [
        {
          "output_type": "stream",
          "name": "stdout",
          "text": [
            "Model: \"sequential_1\"\n",
            "_________________________________________________________________\n",
            " Layer (type)                Output Shape              Param #   \n",
            "=================================================================\n",
            " dense_3 (Dense)             (None, 64)                2688      \n",
            "                                                                 \n",
            " dense_4 (Dense)             (None, 32)                2080      \n",
            "                                                                 \n",
            " dense_5 (Dense)             (None, 2)                 66        \n",
            "                                                                 \n",
            "=================================================================\n",
            "Total params: 4,834\n",
            "Trainable params: 4,834\n",
            "Non-trainable params: 0\n",
            "_________________________________________________________________\n",
            "None\n"
          ]
        }
      ]
    },
    {
      "cell_type": "code",
      "source": [
        "task1_data_path = os.path.join(task1_path, 'data')\n",
        "X_train = np.load(os.path.join(task1_data_path, 'X_train.npy'))\n",
        "y_train = np.load(os.path.join(task1_data_path, 'y_train.npy'))\n",
        "X_test = np.load(os.path.join(task1_data_path, 'X_test.npy'))\n",
        "y_test = np.load(os.path.join(task1_data_path, 'y_test.npy'))"
      ],
      "metadata": {
        "id": "jnM5SNil6vaV"
      },
      "execution_count": 65,
      "outputs": []
    },
    {
      "cell_type": "code",
      "source": [
        "# Create a wrapper for the Keras model\n",
        "classifier = KerasClassifier(model=loaded_model, clip_values=(0, 1))"
      ],
      "metadata": {
        "id": "-4Mz5Tfj7VRA"
      },
      "execution_count": 66,
      "outputs": []
    },
    {
      "cell_type": "code",
      "source": [
        "y_train_onehot = keras.utils.to_categorical(y_train, 2)\n",
        "y_test_onehot = keras.utils.to_categorical(y_test, 2)"
      ],
      "metadata": {
        "id": "FvQuJBFa4c23"
      },
      "execution_count": 67,
      "outputs": []
    },
    {
      "cell_type": "code",
      "source": [
        "# Choose a random set of 1000 records from X_test\n",
        "# Select a random set of 1,000 records\n",
        "np.random.seed(42)\n",
        "indices = np.random.choice(X_test.shape[0], size=1000, replace=False)\n",
        "X_test_subset = X_test[indices]\n",
        "y_test_onehot_subset = y_test_onehot[indices]"
      ],
      "metadata": {
        "id": "YjlULLMjxagZ"
      },
      "execution_count": 68,
      "outputs": []
    },
    {
      "cell_type": "code",
      "source": [
        "perturbations = [0.01, 0.025, 0.05, 0.1, 0.2, 0.3]\n",
        "\n",
        "for eps in perturbations:\n",
        "    # Instantiate the FGSM attack\n",
        "    fgsm_attack = FastGradientMethod(estimator=classifier, eps=eps)\n",
        "\n",
        "    # Generate adversarial samples\n",
        "    X_test_adv = fgsm_attack.generate(x=X_test_subset)\n",
        "\n",
        "    # Evaluate the model on the adversarial samples\n",
        "    loss, accuracy = loaded_model.evaluate(X_test_adv, y_test_onehot_subset)\n",
        "    print(f'Perturbation magnitude: {eps}, Test Accuracy: {accuracy}')\n"
      ],
      "metadata": {
        "colab": {
          "base_uri": "https://localhost:8080/"
        },
        "id": "aU5sqFe86liN",
        "outputId": "7f5aeea3-4dc6-4a9f-e7ed-7ec09dca9ff5"
      },
      "execution_count": 69,
      "outputs": [
        {
          "output_type": "stream",
          "name": "stderr",
          "text": [
            "/usr/local/lib/python3.10/dist-packages/keras/engine/training_v1.py:2359: UserWarning: `Model.state_updates` will be removed in a future version. This property should not be used in TensorFlow 2.0, as `updates` are applied automatically.\n",
            "  updates=self.state_updates,\n"
          ]
        },
        {
          "output_type": "stream",
          "name": "stdout",
          "text": [
            "Perturbation magnitude: 0.01, Test Accuracy: 0.7369999885559082\n",
            "Perturbation magnitude: 0.025, Test Accuracy: 0.609000027179718\n",
            "Perturbation magnitude: 0.05, Test Accuracy: 0.4884999990463257\n",
            "Perturbation magnitude: 0.1, Test Accuracy: 0.43950000405311584\n",
            "Perturbation magnitude: 0.2, Test Accuracy: 0.23999999463558197\n",
            "Perturbation magnitude: 0.3, Test Accuracy: 0.21899999678134918\n"
          ]
        }
      ]
    },
    {
      "cell_type": "markdown",
      "source": [
        "## 1.4 Implement a non-targeted white-box JSMA"
      ],
      "metadata": {
        "id": "jMoWe3UlnQRd"
      }
    },
    {
      "cell_type": "markdown",
      "source": [
        "Implement a non-targeted white-box JSMA (Jacobian Saliency Mapp Attack) against the deep learning model from Task 2. In the ART library, JSMA is implemented using SaliencyMapMethod.\n",
        "\n",
        "For creating the adversarial samples, use the same random set of 1,000 records from Step 3. Apply three JSMA attacks with different values of the parameters for the function in the ART library. Discuss the results and compare the performance to the FGSM attack from Step 3."
      ],
      "metadata": {
        "id": "AS6hiVjrniS8"
      }
    },
    {
      "cell_type": "code",
      "source": [
        "# Set the attack parameters\n",
        "theta_list = [0.1, 0.2, 0.3]\n",
        "gamma_list = [0.5, 0.7, 0.9]"
      ],
      "metadata": {
        "id": "r67HINgAtPDB"
      },
      "execution_count": 15,
      "outputs": []
    },
    {
      "cell_type": "code",
      "source": [
        "# Create a wrapper for the Keras model\n",
        "classifier = KerasClassifier(model=loaded_model, clip_values=(0, 1))"
      ],
      "metadata": {
        "id": "KCXIoOYttgs8"
      },
      "execution_count": 41,
      "outputs": []
    },
    {
      "cell_type": "code",
      "source": [
        "y_train_onehot = keras.utils.to_categorical(y_train, 2)\n",
        "y_test_onehot = keras.utils.to_categorical(y_test, 2)"
      ],
      "metadata": {
        "id": "o3fyrUbQ4tdT"
      },
      "execution_count": 70,
      "outputs": []
    },
    {
      "cell_type": "code",
      "source": [
        "# Choose a random set of 1000 records from X_test\n",
        "# Select a random set of 1,000 records\n",
        "np.random.seed(42)\n",
        "indices = np.random.choice(X_test.shape[0], size=1000, replace=False)\n",
        "X_test_subset = X_test[indices]\n",
        "y_test_onehot_subset = y_test_onehot[indices]"
      ],
      "metadata": {
        "id": "HZm-19FHtp8H"
      },
      "execution_count": 71,
      "outputs": []
    },
    {
      "cell_type": "code",
      "source": [
        "for theta, gamma in zip(theta_list, gamma_list):\n",
        "    print(f\"Running JSMA attack with theta={theta}, gamma={gamma}\")\n",
        "\n",
        "    # Create the JSMA attack instance\n",
        "    jsma = SaliencyMapMethod(classifier, theta=theta, gamma=gamma)\n",
        "\n",
        "    # Generate the adversarial samples\n",
        "    X_adv = jsma.generate(X_test_subset)\n",
        "\n",
        "    # Evaluate the classifier on the adversarial samples\n",
        "    preds = np.argmax(classifier.predict(X_adv), axis=1)\n",
        "    acc = np.sum(preds == np.argmax(y_test_onehot_subset, axis=1)) / len(y_test_onehot_subset)\n",
        "    print(f\"Classifier accuracy on adversarial samples: {acc * 100:.2f}%\\n\")\n"
      ],
      "metadata": {
        "colab": {
          "base_uri": "https://localhost:8080/",
          "height": 269,
          "referenced_widgets": [
            "0fffe00fc51e49f4a15b85adb0f0bd7b",
            "f1627435e9e54d31aceabde7f891111e",
            "56183f403af04e9b81292560ccf54068",
            "4b96633219a3469d944d8e0837f2565f",
            "e0f286fabd6243dbbca495756c760995",
            "96f96ca64e0249aeb33abb28bc43f7a9",
            "142a0fc418974f1c9ac75afe22e334c9",
            "79e8aa1228e04a1cb4668d4af2ac9d87",
            "85831b34a6524553acea89f16f2abeef",
            "2b3e424723564d0d93c30d8cfa0d336f",
            "25df8957d46c47f4a88c334009ada67f",
            "6584771ddf8742909b47c41ffc3a3d73",
            "55f0757780d9436dae94e64d86c07eac",
            "5c3ee6eef5b54a5fac51c21dee7858e9",
            "829dd885cc10458c96b171e52fd7d930",
            "00678c1138a0497cbfa1f1c8328b2212",
            "c0e71f2bbb3a4ad483a61ba0868f49d9",
            "785b5b95a67d49e8ae83b31c2d61f485",
            "de15830f571d46cf99e6708393cfbf27",
            "76c0820d9c2f4e958c05d279a945d55d",
            "6e7895f4589142fc980eb761b8c94497",
            "bec8e807c811491ba94fe60ffa1d52be",
            "c6b4d418396845d2b9fa74de2848bb94",
            "ebedcde28e3a4e849313dd370d25e1f0",
            "4b99ba6b013e4576a5402fce2d8ef6a5",
            "7d4094ddf1d24c68a3866cbae7bd62a0",
            "068b52cd897d475786cbc399e6da88a6",
            "253c34cb067e460fa000d4a046e9a516",
            "5154d8c1fb8d442889f2a73aabc9f489",
            "ddea41f38ac5493eb222378bfbb71e6f",
            "67e59e236fc24420adf349da696109d4",
            "acf20c8b199947dba8afd42608350338",
            "92ed6d12a72146648f41137236afa279"
          ]
        },
        "id": "jjhsA8uStcC9",
        "outputId": "7ad42dc2-2550-4e85-d634-b10eb8ceb6d2"
      },
      "execution_count": 73,
      "outputs": [
        {
          "output_type": "stream",
          "name": "stdout",
          "text": [
            "Running JSMA attack with theta=0.1, gamma=0.5\n"
          ]
        },
        {
          "output_type": "display_data",
          "data": {
            "text/plain": [
              "JSMA:   0%|          | 0/1000 [00:00<?, ?it/s]"
            ],
            "application/vnd.jupyter.widget-view+json": {
              "version_major": 2,
              "version_minor": 0,
              "model_id": "0fffe00fc51e49f4a15b85adb0f0bd7b"
            }
          },
          "metadata": {}
        },
        {
          "output_type": "stream",
          "name": "stdout",
          "text": [
            "Classifier accuracy on adversarial samples: 21.80%\n",
            "\n",
            "Running JSMA attack with theta=0.2, gamma=0.7\n"
          ]
        },
        {
          "output_type": "display_data",
          "data": {
            "text/plain": [
              "JSMA:   0%|          | 0/1000 [00:00<?, ?it/s]"
            ],
            "application/vnd.jupyter.widget-view+json": {
              "version_major": 2,
              "version_minor": 0,
              "model_id": "6584771ddf8742909b47c41ffc3a3d73"
            }
          },
          "metadata": {}
        },
        {
          "output_type": "stream",
          "name": "stdout",
          "text": [
            "Classifier accuracy on adversarial samples: 21.80%\n",
            "\n",
            "Running JSMA attack with theta=0.3, gamma=0.9\n"
          ]
        },
        {
          "output_type": "display_data",
          "data": {
            "text/plain": [
              "JSMA:   0%|          | 0/1000 [00:00<?, ?it/s]"
            ],
            "application/vnd.jupyter.widget-view+json": {
              "version_major": 2,
              "version_minor": 0,
              "model_id": "c6b4d418396845d2b9fa74de2848bb94"
            }
          },
          "metadata": {}
        },
        {
          "output_type": "stream",
          "name": "stdout",
          "text": [
            "Classifier accuracy on adversarial samples: 21.80%\n",
            "\n"
          ]
        }
      ]
    },
    {
      "cell_type": "markdown",
      "source": [
        "The FGSM attack's effectiveness increases with perturbation magnitude, with test accuracy dropping from 73.7% at 𝜖=0.01 to 22% at 𝜖=0.3. In comparison, the JSMA attack consistently results in around 21.8% test accuracy on adversarial samples, regardless of theta and gamma parameters, indicating its precision and effectiveness. Although FGSM is less effective at lower perturbation magnitudes, it becomes more comparable to JSMA as the perturbation magnitude increases. Both attacks effectively craft adversarial samples that cause misclassifications, with the choice between them depending on the specific scenario and desired level of precision and control."
      ],
      "metadata": {
        "id": "USki5-im6Pz4"
      }
    },
    {
      "cell_type": "markdown",
      "source": [
        "## 1.5 Implement a non-targeted white-box FGSM"
      ],
      "metadata": {
        "id": "bOvU7YRt1htp"
      }
    },
    {
      "cell_type": "markdown",
      "source": [
        "Implement a non-targeted white-box FGSM against the Logistic Regression model from Step 1. The following notebook in the ART toolbox provides an example of implementing attacks against Logistic Regression. For creating the adversarial samples, use the same random set of 1,000 records from Step 3. Apply the following perturbation magnitudes: 𝜖= [0.01, 0.025, 0.05, 0.1, 0.2, 0.3]. Discuss the results and compare the performance to the attacks against the deep learning model from Steps 3 and 4."
      ],
      "metadata": {
        "id": "BByuobzl1kaK"
      }
    },
    {
      "cell_type": "code",
      "source": [
        "print('Logistic Regression Model')\n",
        "lr_model = LogisticRegression()\n",
        "lr_model.fit(X_train, y_train)\n",
        "\n",
        "print('Test Accuracy:', lr_model.score(X_test, y_test))"
      ],
      "metadata": {
        "colab": {
          "base_uri": "https://localhost:8080/"
        },
        "id": "nd7FYJXp6SMe",
        "outputId": "2599c64e-c79b-4236-dcf4-c6acb324c6ca"
      },
      "execution_count": 75,
      "outputs": [
        {
          "output_type": "stream",
          "name": "stdout",
          "text": [
            "Logistic Regression Model\n",
            "Test Accuracy: 0.754125266146203\n"
          ]
        },
        {
          "output_type": "stream",
          "name": "stderr",
          "text": [
            "/usr/local/lib/python3.10/dist-packages/sklearn/linear_model/_logistic.py:444: ConvergenceWarning: lbfgs failed to converge (status=1):\n",
            "STOP: TOTAL NO. of ITERATIONS REACHED LIMIT.\n",
            "\n",
            "Increase the number of iterations (max_iter) or scale the data as shown in:\n",
            "    https://scikit-learn.org/stable/modules/preprocessing.html\n",
            "Please also refer to the documentation for alternative solver options:\n",
            "    https://scikit-learn.org/stable/modules/linear_model.html#logistic-regression\n",
            "  n_iter_i = _check_optimize_result(\n"
          ]
        }
      ]
    },
    {
      "cell_type": "code",
      "source": [
        "# Wrap the Logistic Regression model with ART's SklearnClassifier\n",
        "lr_art_model = SklearnClassifier(lr_model)\n",
        "\n",
        "# Perturbation magnitudes\n",
        "epsilons = [0.01, 0.025, 0.05, 0.1, 0.2, 0.3]\n",
        "\n",
        "# Apply FGSM attack with different perturbation magnitudes\n",
        "for epsilon in epsilons:\n",
        "    fgsm = FastGradientMethod(estimator=lr_art_model, eps=epsilon)\n",
        "    X_adv = fgsm.generate(X_test_subset)\n",
        "    y_pred_adv = lr_model.predict(X_adv)\n",
        "    acc = np.sum(y_pred_adv == y_test[indices]) / len(y_pred_adv)\n",
        "    print(f\"Perturbation magnitude: {epsilon}, Test Accuracy: {acc}\")"
      ],
      "metadata": {
        "colab": {
          "base_uri": "https://localhost:8080/"
        },
        "id": "FZmbppAi6xtC",
        "outputId": "81058746-123f-4a98-e18f-ec948cc35d22"
      },
      "execution_count": 77,
      "outputs": [
        {
          "output_type": "stream",
          "name": "stdout",
          "text": [
            "Perturbation magnitude: 0.01, Test Accuracy: 0.756\n",
            "Perturbation magnitude: 0.025, Test Accuracy: 0.764\n",
            "Perturbation magnitude: 0.05, Test Accuracy: 0.54\n",
            "Perturbation magnitude: 0.1, Test Accuracy: 0.246\n",
            "Perturbation magnitude: 0.2, Test Accuracy: 0.245\n",
            "Perturbation magnitude: 0.3, Test Accuracy: 0.245\n"
          ]
        }
      ]
    },
    {
      "cell_type": "markdown",
      "source": [
        "The results of the FGSM attack against the Logistic Regression model show that the model's performance degrades as the perturbation magnitude increases. At low perturbation magnitudes (0.01 and 0.025), the model's accuracy is still relatively high (0.756 and 0.764, respectively). However, as the perturbation magnitude increases, the model's performance drops significantly. At 0.05, the accuracy drops to 0.54, and for magnitudes 0.1, 0.2, and 0.3, the accuracy is around 0.245.\n",
        "\n",
        "When comparing these results to the deep learning model, we can observe that the Logistic Regression model is generally more robust against low perturbation magnitudes. The deep learning model's accuracy drops more quickly as the perturbation magnitude increases. However, at higher perturbation magnitudes, both models show similar degradation in performance, with accuracies around 0.24-0.25 for the deep learning model and 0.245 for the Logistic Regression model.\n",
        "\n",
        "It is worth noting that the attacks against the deep learning model also included the JSMA attack, which consistently resulted in a low classifier accuracy of 21.80%. This highlights the vulnerability of deep learning models to more targeted and sophisticated attacks like JSMA. Overall, the Logistic Regression model appears to be more robust to FGSM attacks at lower perturbation magnitudes but still succumbs to significant performance degradation at higher perturbation levels, similar to the deep learning model."
      ],
      "metadata": {
        "id": "vPxM-XaO8Z5G"
      }
    },
    {
      "cell_type": "markdown",
      "source": [
        "# 2. Attacks on ML systems for Malware Detection"
      ],
      "metadata": {
        "id": "5Q0CunWj8bqi"
      }
    },
    {
      "cell_type": "markdown",
      "source": [
        "## 2.1 Load the data"
      ],
      "metadata": {
        "id": "mPi3h_2f8eqt"
      }
    },
    {
      "cell_type": "markdown",
      "source": [
        "Load the dataset using the Pandas library. If you need to refresh your knowledge regarding Pandas, you can review these two notebooks: Data Manipulation with Pandas and Data Exploration and Preprocessing, but also you can find tons of resources about Pandas on the web.\n",
        "Print basic information about the columns and rows in the dataset to ensure that the data is loaded correctly.\n",
        "Perform basic data exploration, e.g., to check whether there are missing values in the dataset. If there are, remove the records with the missing values."
      ],
      "metadata": {
        "id": "btVbMhhg9t8D"
      }
    },
    {
      "cell_type": "code",
      "source": [
        "# Load the data into pandas dataframes\n",
        "df = pd.read_csv(os.path.join(task2_path, \"malware_dataset.csv\"))\n",
        "\n",
        "# Print the first 5 rows of the train data\n",
        "df.head()"
      ],
      "metadata": {
        "colab": {
          "base_uri": "https://localhost:8080/",
          "height": 299
        },
        "id": "6RuTaS1S9wjC",
        "outputId": "f56945c4-e22d-44ef-a0e5-d5dc1ca18fc3"
      },
      "execution_count": 79,
      "outputs": [
        {
          "output_type": "execute_result",
          "data": {
            "text/plain": [
              "   SizeOfOptionalHeader  Characteristics  MajorLinkerVersion  \\\n",
              "0                   224             8450                 8.0   \n",
              "1                   224              258                 9.0   \n",
              "2                   224             8450                 8.0   \n",
              "3                   224             8450                10.0   \n",
              "4                   224             8226                48.0   \n",
              "\n",
              "   MinorLinkerVersion  SizeOfCode  SizeOfInitializedData  \\\n",
              "0                 0.0       16896                   8192   \n",
              "1                 0.0       84480                  25600   \n",
              "2                 0.0        4608                   3584   \n",
              "3                 0.0      108544                  15872   \n",
              "4                 0.0      513024                   2048   \n",
              "\n",
              "   SizeOfUninitializedData  AddressOfEntryPoint  BaseOfCode  BaseOfData  ...  \\\n",
              "0                        0                16947        4096       24576  ...   \n",
              "1                        0                10973        4096       90112  ...   \n",
              "2                        0                 6452        4096       12288  ...   \n",
              "3                        0               105021        4096      114688  ...   \n",
              "4                        0               520922        8192      524288  ...   \n",
              "\n",
              "   ResourcesNb  ResourcesMeanEntropy  ResourcesMinEntropy  \\\n",
              "0            1              3.492126             3.492126   \n",
              "1            1              3.486827             3.486827   \n",
              "2            1              3.517270             3.517270   \n",
              "3            2              3.270559             3.034188   \n",
              "4            1              3.420977             3.420977   \n",
              "\n",
              "   ResourcesMaxEntropy  ResourcesMeanSize  ResourcesMinSize  ResourcesMaxSize  \\\n",
              "0             3.492126              864.0             864.0               864   \n",
              "1             3.486827              892.0             892.0               892   \n",
              "2             3.517270              952.0             952.0               952   \n",
              "3             3.506931             1032.0             972.0              1092   \n",
              "4             3.420977              954.0             954.0               954   \n",
              "\n",
              "   LoadConfigurationSize  VersionInformationSize  legitimate  \n",
              "0                     72                       0           1  \n",
              "1                     72                       0           1  \n",
              "2                     72                       0           1  \n",
              "3                     72                       0           1  \n",
              "4                      0                       0           1  \n",
              "\n",
              "[5 rows x 54 columns]"
            ],
            "text/html": [
              "\n",
              "  <div id=\"df-403bbcd5-082b-4bcf-9032-8295478324c0\">\n",
              "    <div class=\"colab-df-container\">\n",
              "      <div>\n",
              "<style scoped>\n",
              "    .dataframe tbody tr th:only-of-type {\n",
              "        vertical-align: middle;\n",
              "    }\n",
              "\n",
              "    .dataframe tbody tr th {\n",
              "        vertical-align: top;\n",
              "    }\n",
              "\n",
              "    .dataframe thead th {\n",
              "        text-align: right;\n",
              "    }\n",
              "</style>\n",
              "<table border=\"1\" class=\"dataframe\">\n",
              "  <thead>\n",
              "    <tr style=\"text-align: right;\">\n",
              "      <th></th>\n",
              "      <th>SizeOfOptionalHeader</th>\n",
              "      <th>Characteristics</th>\n",
              "      <th>MajorLinkerVersion</th>\n",
              "      <th>MinorLinkerVersion</th>\n",
              "      <th>SizeOfCode</th>\n",
              "      <th>SizeOfInitializedData</th>\n",
              "      <th>SizeOfUninitializedData</th>\n",
              "      <th>AddressOfEntryPoint</th>\n",
              "      <th>BaseOfCode</th>\n",
              "      <th>BaseOfData</th>\n",
              "      <th>...</th>\n",
              "      <th>ResourcesNb</th>\n",
              "      <th>ResourcesMeanEntropy</th>\n",
              "      <th>ResourcesMinEntropy</th>\n",
              "      <th>ResourcesMaxEntropy</th>\n",
              "      <th>ResourcesMeanSize</th>\n",
              "      <th>ResourcesMinSize</th>\n",
              "      <th>ResourcesMaxSize</th>\n",
              "      <th>LoadConfigurationSize</th>\n",
              "      <th>VersionInformationSize</th>\n",
              "      <th>legitimate</th>\n",
              "    </tr>\n",
              "  </thead>\n",
              "  <tbody>\n",
              "    <tr>\n",
              "      <th>0</th>\n",
              "      <td>224</td>\n",
              "      <td>8450</td>\n",
              "      <td>8.0</td>\n",
              "      <td>0.0</td>\n",
              "      <td>16896</td>\n",
              "      <td>8192</td>\n",
              "      <td>0</td>\n",
              "      <td>16947</td>\n",
              "      <td>4096</td>\n",
              "      <td>24576</td>\n",
              "      <td>...</td>\n",
              "      <td>1</td>\n",
              "      <td>3.492126</td>\n",
              "      <td>3.492126</td>\n",
              "      <td>3.492126</td>\n",
              "      <td>864.0</td>\n",
              "      <td>864.0</td>\n",
              "      <td>864</td>\n",
              "      <td>72</td>\n",
              "      <td>0</td>\n",
              "      <td>1</td>\n",
              "    </tr>\n",
              "    <tr>\n",
              "      <th>1</th>\n",
              "      <td>224</td>\n",
              "      <td>258</td>\n",
              "      <td>9.0</td>\n",
              "      <td>0.0</td>\n",
              "      <td>84480</td>\n",
              "      <td>25600</td>\n",
              "      <td>0</td>\n",
              "      <td>10973</td>\n",
              "      <td>4096</td>\n",
              "      <td>90112</td>\n",
              "      <td>...</td>\n",
              "      <td>1</td>\n",
              "      <td>3.486827</td>\n",
              "      <td>3.486827</td>\n",
              "      <td>3.486827</td>\n",
              "      <td>892.0</td>\n",
              "      <td>892.0</td>\n",
              "      <td>892</td>\n",
              "      <td>72</td>\n",
              "      <td>0</td>\n",
              "      <td>1</td>\n",
              "    </tr>\n",
              "    <tr>\n",
              "      <th>2</th>\n",
              "      <td>224</td>\n",
              "      <td>8450</td>\n",
              "      <td>8.0</td>\n",
              "      <td>0.0</td>\n",
              "      <td>4608</td>\n",
              "      <td>3584</td>\n",
              "      <td>0</td>\n",
              "      <td>6452</td>\n",
              "      <td>4096</td>\n",
              "      <td>12288</td>\n",
              "      <td>...</td>\n",
              "      <td>1</td>\n",
              "      <td>3.517270</td>\n",
              "      <td>3.517270</td>\n",
              "      <td>3.517270</td>\n",
              "      <td>952.0</td>\n",
              "      <td>952.0</td>\n",
              "      <td>952</td>\n",
              "      <td>72</td>\n",
              "      <td>0</td>\n",
              "      <td>1</td>\n",
              "    </tr>\n",
              "    <tr>\n",
              "      <th>3</th>\n",
              "      <td>224</td>\n",
              "      <td>8450</td>\n",
              "      <td>10.0</td>\n",
              "      <td>0.0</td>\n",
              "      <td>108544</td>\n",
              "      <td>15872</td>\n",
              "      <td>0</td>\n",
              "      <td>105021</td>\n",
              "      <td>4096</td>\n",
              "      <td>114688</td>\n",
              "      <td>...</td>\n",
              "      <td>2</td>\n",
              "      <td>3.270559</td>\n",
              "      <td>3.034188</td>\n",
              "      <td>3.506931</td>\n",
              "      <td>1032.0</td>\n",
              "      <td>972.0</td>\n",
              "      <td>1092</td>\n",
              "      <td>72</td>\n",
              "      <td>0</td>\n",
              "      <td>1</td>\n",
              "    </tr>\n",
              "    <tr>\n",
              "      <th>4</th>\n",
              "      <td>224</td>\n",
              "      <td>8226</td>\n",
              "      <td>48.0</td>\n",
              "      <td>0.0</td>\n",
              "      <td>513024</td>\n",
              "      <td>2048</td>\n",
              "      <td>0</td>\n",
              "      <td>520922</td>\n",
              "      <td>8192</td>\n",
              "      <td>524288</td>\n",
              "      <td>...</td>\n",
              "      <td>1</td>\n",
              "      <td>3.420977</td>\n",
              "      <td>3.420977</td>\n",
              "      <td>3.420977</td>\n",
              "      <td>954.0</td>\n",
              "      <td>954.0</td>\n",
              "      <td>954</td>\n",
              "      <td>0</td>\n",
              "      <td>0</td>\n",
              "      <td>1</td>\n",
              "    </tr>\n",
              "  </tbody>\n",
              "</table>\n",
              "<p>5 rows × 54 columns</p>\n",
              "</div>\n",
              "      <button class=\"colab-df-convert\" onclick=\"convertToInteractive('df-403bbcd5-082b-4bcf-9032-8295478324c0')\"\n",
              "              title=\"Convert this dataframe to an interactive table.\"\n",
              "              style=\"display:none;\">\n",
              "        \n",
              "  <svg xmlns=\"http://www.w3.org/2000/svg\" height=\"24px\"viewBox=\"0 0 24 24\"\n",
              "       width=\"24px\">\n",
              "    <path d=\"M0 0h24v24H0V0z\" fill=\"none\"/>\n",
              "    <path d=\"M18.56 5.44l.94 2.06.94-2.06 2.06-.94-2.06-.94-.94-2.06-.94 2.06-2.06.94zm-11 1L8.5 8.5l.94-2.06 2.06-.94-2.06-.94L8.5 2.5l-.94 2.06-2.06.94zm10 10l.94 2.06.94-2.06 2.06-.94-2.06-.94-.94-2.06-.94 2.06-2.06.94z\"/><path d=\"M17.41 7.96l-1.37-1.37c-.4-.4-.92-.59-1.43-.59-.52 0-1.04.2-1.43.59L10.3 9.45l-7.72 7.72c-.78.78-.78 2.05 0 2.83L4 21.41c.39.39.9.59 1.41.59.51 0 1.02-.2 1.41-.59l7.78-7.78 2.81-2.81c.8-.78.8-2.07 0-2.86zM5.41 20L4 18.59l7.72-7.72 1.47 1.35L5.41 20z\"/>\n",
              "  </svg>\n",
              "      </button>\n",
              "      \n",
              "  <style>\n",
              "    .colab-df-container {\n",
              "      display:flex;\n",
              "      flex-wrap:wrap;\n",
              "      gap: 12px;\n",
              "    }\n",
              "\n",
              "    .colab-df-convert {\n",
              "      background-color: #E8F0FE;\n",
              "      border: none;\n",
              "      border-radius: 50%;\n",
              "      cursor: pointer;\n",
              "      display: none;\n",
              "      fill: #1967D2;\n",
              "      height: 32px;\n",
              "      padding: 0 0 0 0;\n",
              "      width: 32px;\n",
              "    }\n",
              "\n",
              "    .colab-df-convert:hover {\n",
              "      background-color: #E2EBFA;\n",
              "      box-shadow: 0px 1px 2px rgba(60, 64, 67, 0.3), 0px 1px 3px 1px rgba(60, 64, 67, 0.15);\n",
              "      fill: #174EA6;\n",
              "    }\n",
              "\n",
              "    [theme=dark] .colab-df-convert {\n",
              "      background-color: #3B4455;\n",
              "      fill: #D2E3FC;\n",
              "    }\n",
              "\n",
              "    [theme=dark] .colab-df-convert:hover {\n",
              "      background-color: #434B5C;\n",
              "      box-shadow: 0px 1px 3px 1px rgba(0, 0, 0, 0.15);\n",
              "      filter: drop-shadow(0px 1px 2px rgba(0, 0, 0, 0.3));\n",
              "      fill: #FFFFFF;\n",
              "    }\n",
              "  </style>\n",
              "\n",
              "      <script>\n",
              "        const buttonEl =\n",
              "          document.querySelector('#df-403bbcd5-082b-4bcf-9032-8295478324c0 button.colab-df-convert');\n",
              "        buttonEl.style.display =\n",
              "          google.colab.kernel.accessAllowed ? 'block' : 'none';\n",
              "\n",
              "        async function convertToInteractive(key) {\n",
              "          const element = document.querySelector('#df-403bbcd5-082b-4bcf-9032-8295478324c0');\n",
              "          const dataTable =\n",
              "            await google.colab.kernel.invokeFunction('convertToInteractive',\n",
              "                                                     [key], {});\n",
              "          if (!dataTable) return;\n",
              "\n",
              "          const docLinkHtml = 'Like what you see? Visit the ' +\n",
              "            '<a target=\"_blank\" href=https://colab.research.google.com/notebooks/data_table.ipynb>data table notebook</a>'\n",
              "            + ' to learn more about interactive tables.';\n",
              "          element.innerHTML = '';\n",
              "          dataTable['output_type'] = 'display_data';\n",
              "          await google.colab.output.renderOutput(dataTable, element);\n",
              "          const docLink = document.createElement('div');\n",
              "          docLink.innerHTML = docLinkHtml;\n",
              "          element.appendChild(docLink);\n",
              "        }\n",
              "      </script>\n",
              "    </div>\n",
              "  </div>\n",
              "  "
            ]
          },
          "metadata": {},
          "execution_count": 79
        }
      ]
    },
    {
      "cell_type": "code",
      "source": [
        "# Check for missing values\n",
        "missing_values = df.isna().sum().sum()\n",
        "print(f\"Number of missing values in the dataset: {missing_values}\")\n",
        "\n",
        "# Drop records with missing values\n",
        "df_clean = df.dropna()\n",
        "print(\"Records with missing values have been removed.\")"
      ],
      "metadata": {
        "colab": {
          "base_uri": "https://localhost:8080/"
        },
        "id": "Je2f2pGt-RPk",
        "outputId": "fa3dc005-51c7-4189-ae39-1aa9603daccb"
      },
      "execution_count": 80,
      "outputs": [
        {
          "output_type": "stream",
          "name": "stdout",
          "text": [
            "Number of missing values in the dataset: 23\n",
            "Records with missing values have been removed.\n"
          ]
        }
      ]
    },
    {
      "cell_type": "code",
      "source": [
        "output_file_name = 'cleaned_malware_dataset.csv'  # Replace with the desired output file path\n",
        "output_file_path = os.path.join(task2_path, output_file_name)\n",
        "df_clean.to_csv(output_file_path, index=False)\n",
        "print(f\"Cleaned dataset has been saved to: {output_file_path}\")"
      ],
      "metadata": {
        "colab": {
          "base_uri": "https://localhost:8080/"
        },
        "id": "KVqWolHU-Taz",
        "outputId": "581171ba-add7-4652-b1ae-79e9f8914a41"
      },
      "execution_count": 81,
      "outputs": [
        {
          "output_type": "stream",
          "name": "stdout",
          "text": [
            "Cleaned dataset has been saved to: /content/drive/MyDrive/Colab_Notebooks/CS504/assg#4/task2/cleaned_malware_dataset.csv\n"
          ]
        }
      ]
    },
    {
      "cell_type": "markdown",
      "source": [
        "## 2.2 Data preparation"
      ],
      "metadata": {
        "id": "NM52Shtt-jL-"
      }
    },
    {
      "cell_type": "markdown",
      "source": [
        "Use the last column “legitimate” as labels for training a classifier. The assigned values in the column are 0 for benign files, and 1 for malware files. Use the remaining 53 columns as features for training a classification model.\n",
        "Split the data into a training dataset (80%) and test dataset (20%).\n",
        "Scale the data into the range [0, 1], e.g., by using the Scalar functions in scikit-learn."
      ],
      "metadata": {
        "id": "MeekJ1lX-qXU"
      }
    },
    {
      "cell_type": "code",
      "source": [
        "cleaned_csv_path = os.path.join(task2_path, 'cleaned_malware_dataset.csv')"
      ],
      "metadata": {
        "id": "nhRcQKtfAmH3"
      },
      "execution_count": 82,
      "outputs": []
    },
    {
      "cell_type": "code",
      "source": [
        "# Read the CSV data into a DataFrame\n",
        "data = pd.read_csv(cleaned_csv_path)  # Replace with the path to your CSV file\n",
        "\n",
        "# Split the DataFrame into features and labels\n",
        "X = data.iloc[:, :-1]  # All columns except the last one\n",
        "y = data.iloc[:, -1]   # The last column (legitimate)\n",
        "\n",
        "# Split the data into a training dataset (80%) and test dataset (20%)\n",
        "X_train, X_test, y_train, y_test = train_test_split(X, y, test_size=0.2, random_state=42)\n",
        "\n",
        "# Scale the data into the range [0, 1] using MinMaxScaler\n",
        "scaler = MinMaxScaler()\n",
        "X_train = scaler.fit_transform(X_train)\n",
        "X_test = scaler.transform(X_test)"
      ],
      "metadata": {
        "id": "PbHSrKa3-t0H"
      },
      "execution_count": 134,
      "outputs": []
    },
    {
      "cell_type": "code",
      "source": [
        "# Print the data shapes\n",
        "# Note: the variables are now numpy arrays, and not pandas dataframes \n",
        "print('Data type:', type(X_train))\n",
        "\n",
        "# Display the shapes of train and test datasets\n",
        "print('\\nTrain shape: {}'.format(X_train.shape))\n",
        "print('Test shape: {}'.format(X_test.shape))\n",
        "\n",
        "# Display the range to make sure they are in the [0, 1] range\n",
        "print('\\nMax value', np.max(X_train))\n",
        "print('Min value', np.min(X_train))\n",
        "print('Average value', np.mean(X_train))"
      ],
      "metadata": {
        "colab": {
          "base_uri": "https://localhost:8080/"
        },
        "id": "SI-A-vfxA2aE",
        "outputId": "4a39ff30-7a4e-4188-89aa-230c0b479562"
      },
      "execution_count": 85,
      "outputs": [
        {
          "output_type": "stream",
          "name": "stdout",
          "text": [
            "Data type: <class 'numpy.ndarray'>\n",
            "\n",
            "Train shape: (173062, 53)\n",
            "Test shape: (43266, 53)\n",
            "\n",
            "Max value 1.0\n",
            "Min value 0.0\n",
            "Average value 0.0835228248817353\n"
          ]
        }
      ]
    },
    {
      "cell_type": "markdown",
      "source": [
        "## 2.3 Train the following ensemble models"
      ],
      "metadata": {
        "id": "yz8AYPMABRzu"
      }
    },
    {
      "cell_type": "markdown",
      "source": [
        "Train the following ensemble models for classification of the records: Random Forest, XGBoost, LightGBM, and CatBoost. You can import Random Forest from scikit-learn, and you need to install the other models (e.g., by using pip install). For each model, report the classification accuracy on the test dataset, and display the confusion matrix. For full marks, it is expected to obtain test accuracy greater than 98%. You should be able to achieve it without any finetuning."
      ],
      "metadata": {
        "id": "p3SRIQUIBUmj"
      }
    },
    {
      "cell_type": "code",
      "source": [
        "# Random Forest\n",
        "rf_model = RandomForestClassifier(random_state=42)\n",
        "rf_model.fit(X_train, y_train)\n",
        "rf_y_pred = rf_model.predict(X_test)\n",
        "rf_accuracy = accuracy_score(y_test, rf_y_pred)\n",
        "rf_cm = confusion_matrix(y_test, rf_y_pred)\n",
        "\n",
        "# XGBoost\n",
        "xgb_model = xgb.XGBClassifier(random_state=42)\n",
        "xgb_model.fit(X_train, y_train)\n",
        "xgb_y_pred = xgb_model.predict(X_test)\n",
        "xgb_accuracy = accuracy_score(y_test, xgb_y_pred)\n",
        "xgb_cm = confusion_matrix(y_test, xgb_y_pred)\n",
        "\n",
        "# LightGBM\n",
        "lgb_model = lgb.LGBMClassifier(random_state=42)\n",
        "lgb_model.fit(X_train, y_train)\n",
        "lgb_y_pred = lgb_model.predict(X_test)\n",
        "lgb_accuracy = accuracy_score(y_test, lgb_y_pred)\n",
        "lgb_cm = confusion_matrix(y_test, lgb_y_pred)\n",
        "\n",
        "# CatBoost\n",
        "cat_model = CatBoostClassifier(random_state=42, verbose=0)\n",
        "cat_model.fit(X_train, y_train)\n",
        "cat_y_pred = cat_model.predict(X_test)\n",
        "cat_accuracy = accuracy_score(y_test, cat_y_pred)\n",
        "cat_cm = confusion_matrix(y_test, cat_y_pred)\n",
        "\n",
        "# Print results\n",
        "print(\"Random Forest\")\n",
        "print(\"Accuracy:\", rf_accuracy)\n",
        "print(\"Confusion Matrix:\\n\", rf_cm)\n",
        "\n",
        "print(\"\\nXGBoost\")\n",
        "print(\"Accuracy:\", xgb_accuracy)\n",
        "print(\"Confusion Matrix:\\n\", xgb_cm)\n",
        "\n",
        "print(\"\\nLightGBM\")\n",
        "print(\"Accuracy:\", lgb_accuracy)\n",
        "print(\"Confusion Matrix:\\n\", lgb_cm)\n",
        "\n",
        "print(\"\\nCatBoost\")\n",
        "print(\"Accuracy:\", cat_accuracy)\n",
        "print(\"Confusion Matrix:\\n\", cat_cm)"
      ],
      "metadata": {
        "colab": {
          "base_uri": "https://localhost:8080/"
        },
        "id": "qtDHt8GFBXQe",
        "outputId": "8cc133fd-589e-4b45-c017-81172aa52c5c"
      },
      "execution_count": 88,
      "outputs": [
        {
          "output_type": "stream",
          "name": "stdout",
          "text": [
            "Random Forest\n",
            "Accuracy: 0.9891138538344196\n",
            "Confusion Matrix:\n",
            " [[27870   245]\n",
            " [  226 14925]]\n",
            "\n",
            "XGBoost\n",
            "Accuracy: 0.9889289511394629\n",
            "Confusion Matrix:\n",
            " [[27836   279]\n",
            " [  200 14951]]\n",
            "\n",
            "LightGBM\n",
            "Accuracy: 0.9854389127721537\n",
            "Confusion Matrix:\n",
            " [[27797   318]\n",
            " [  312 14839]]\n",
            "\n",
            "CatBoost\n",
            "Accuracy: 0.9891369666712893\n",
            "Confusion Matrix:\n",
            " [[27849   266]\n",
            " [  204 14947]]\n"
          ]
        }
      ]
    },
    {
      "cell_type": "markdown",
      "source": [
        "## 2.4 Train a deep-learning model"
      ],
      "metadata": {
        "id": "H_AVT-gQCN7e"
      }
    },
    {
      "cell_type": "markdown",
      "source": [
        "Train a deep-learning model for classification of the records into benign and malicious PE files. You can use several fully-connected layers and dropout layers, or you can consider other types of layers if you wish. Report the classification accuracy on the test dataset, plot the learning curves, and display the confusion matrix. For full marks, it is expected to obtain test accuracy greater than 97%.\n",
        "Discuss the results, and compare the performance of the deep learning model and the ensemble models from Step 3.\n",
        "Were you able to exceed the accuracy of the conventional and ensemble ML models by the deep learning models in Parts 1 and 2 of this assignment? If not, elaborate why and whether you could have done anything else to improve the performance of the deep learning models."
      ],
      "metadata": {
        "id": "3W4jh3i7CQ8f"
      }
    },
    {
      "cell_type": "code",
      "source": [
        "y_train_onehot = keras.utils.to_categorical(y_train, 2)\n",
        "y_test_onehot = keras.utils.to_categorical(y_test, 2)"
      ],
      "metadata": {
        "id": "Gosh_vViC6eW"
      },
      "execution_count": 89,
      "outputs": []
    },
    {
      "cell_type": "code",
      "source": [
        "# Define the model architecture\n",
        "model = tf.keras.Sequential([\n",
        "    layers.Dense(64, activation='relu', input_shape=(X_train.shape[1],)),\n",
        "    layers.Dense(32, activation='relu'),\n",
        "    layers.Dense(2, activation='sigmoid')\n",
        "])\n",
        "\n",
        "# Compile the model\n",
        "model.compile(optimizer='adam', loss='binary_crossentropy', metrics=['accuracy'])\n",
        "\n",
        "# Train the model\n",
        "history = model.fit(X_train, y_train_onehot, epochs=20, batch_size=32, validation_split=0.2)\n",
        "\n",
        "# Evaluate the model on the test set\n",
        "test_loss, test_accuracy = model.evaluate(X_test, y_test_onehot)\n",
        "print('Test Accuracy:', round(test_accuracy, 2))"
      ],
      "metadata": {
        "colab": {
          "base_uri": "https://localhost:8080/"
        },
        "outputId": "30bd3286-591b-4264-ab46-ac3747948a50",
        "id": "PAcYscE5DA5A"
      },
      "execution_count": 100,
      "outputs": [
        {
          "output_type": "stream",
          "name": "stdout",
          "text": [
            "Train on 138449 samples, validate on 34613 samples\n",
            "Epoch 1/20\n",
            "138449/138449 [==============================] - 9s 64us/sample - loss: 0.1780 - accuracy: 0.9340 - val_loss: 0.1352 - val_accuracy: 0.9502\n",
            "Epoch 2/20\n",
            "138449/138449 [==============================] - 9s 66us/sample - loss: 0.1349 - accuracy: 0.9518 - val_loss: 0.1208 - val_accuracy: 0.9574\n",
            "Epoch 3/20\n",
            "138449/138449 [==============================] - 9s 66us/sample - loss: 0.1255 - accuracy: 0.9545 - val_loss: 0.1126 - val_accuracy: 0.9593\n",
            "Epoch 4/20\n",
            "138449/138449 [==============================] - 9s 63us/sample - loss: 0.1200 - accuracy: 0.9565 - val_loss: 0.1102 - val_accuracy: 0.9606\n",
            "Epoch 5/20\n",
            "138449/138449 [==============================] - 9s 66us/sample - loss: 0.1160 - accuracy: 0.9576 - val_loss: 0.1287 - val_accuracy: 0.9530\n",
            "Epoch 6/20\n",
            "138449/138449 [==============================] - 10s 70us/sample - loss: 0.1117 - accuracy: 0.9595 - val_loss: 0.1032 - val_accuracy: 0.9631\n",
            "Epoch 7/20\n",
            "138449/138449 [==============================] - 9s 64us/sample - loss: 0.1087 - accuracy: 0.9609 - val_loss: 0.1048 - val_accuracy: 0.9634\n",
            "Epoch 8/20\n",
            "138449/138449 [==============================] - 9s 67us/sample - loss: 0.1060 - accuracy: 0.9619 - val_loss: 0.0995 - val_accuracy: 0.9652\n",
            "Epoch 9/20\n",
            "138449/138449 [==============================] - 9s 66us/sample - loss: 0.1036 - accuracy: 0.9626 - val_loss: 0.0967 - val_accuracy: 0.9655\n",
            "Epoch 10/20\n",
            "138449/138449 [==============================] - 9s 63us/sample - loss: 0.1015 - accuracy: 0.9638 - val_loss: 0.0970 - val_accuracy: 0.9652\n",
            "Epoch 11/20\n",
            "138449/138449 [==============================] - 9s 66us/sample - loss: 0.0999 - accuracy: 0.9644 - val_loss: 0.1143 - val_accuracy: 0.9577\n",
            "Epoch 12/20\n",
            "138449/138449 [==============================] - 9s 66us/sample - loss: 0.0981 - accuracy: 0.9646 - val_loss: 0.0935 - val_accuracy: 0.9663\n",
            "Epoch 13/20\n",
            "138449/138449 [==============================] - 9s 63us/sample - loss: 0.0968 - accuracy: 0.9655 - val_loss: 0.0948 - val_accuracy: 0.9662\n",
            "Epoch 14/20\n",
            "138449/138449 [==============================] - 9s 66us/sample - loss: 0.0958 - accuracy: 0.9659 - val_loss: 0.0966 - val_accuracy: 0.9645\n",
            "Epoch 15/20\n",
            "138449/138449 [==============================] - 9s 66us/sample - loss: 0.0943 - accuracy: 0.9668 - val_loss: 0.0936 - val_accuracy: 0.9670\n",
            "Epoch 16/20\n",
            "138449/138449 [==============================] - 9s 65us/sample - loss: 0.0935 - accuracy: 0.9666 - val_loss: 0.0892 - val_accuracy: 0.9690\n",
            "Epoch 17/20\n",
            "138449/138449 [==============================] - 9s 66us/sample - loss: 0.0924 - accuracy: 0.9668 - val_loss: 0.0900 - val_accuracy: 0.9685\n",
            "Epoch 18/20\n",
            "138449/138449 [==============================] - 9s 66us/sample - loss: 0.0909 - accuracy: 0.9672 - val_loss: 0.0934 - val_accuracy: 0.9657\n",
            "Epoch 19/20\n",
            "138449/138449 [==============================] - 9s 64us/sample - loss: 0.0902 - accuracy: 0.9673 - val_loss: 0.0888 - val_accuracy: 0.9684\n",
            "Epoch 20/20\n",
            "138449/138449 [==============================] - 9s 67us/sample - loss: 0.0891 - accuracy: 0.9680 - val_loss: 0.0928 - val_accuracy: 0.9672\n",
            "Test Accuracy: 0.97\n"
          ]
        }
      ]
    },
    {
      "cell_type": "code",
      "source": [
        "def plot_acc_loss(HISTORY):\n",
        "    # Plot the loss and accuracy\n",
        "    train_loss = HISTORY['loss']\n",
        "    val_loss = HISTORY['val_loss']\n",
        "    acc = HISTORY['accuracy'] \n",
        "    val_acc = HISTORY['val_accuracy']\n",
        "\n",
        "    epochsn = np.arange(1, len(train_loss)+1,1)\n",
        "    plt.plot(epochsn,train_loss, 'b', label='Training Loss')\n",
        "    plt.plot(epochsn,val_loss, 'r', label='Validation Loss')\n",
        "    plt.grid(color='gray', linestyle='--')\n",
        "    plt.legend()\n",
        "    plt.title('LOSS')\n",
        "    plt.xlabel('Epochs')\n",
        "    plt.ylabel('Loss')\n",
        "\n",
        "    # fig_name1 = \"task1_loss.png\"\n",
        "    # fig_saving_path = os.path.join(PROJECT_ROOT_DIR, figure_dir)\n",
        "    # if not os.path.exists(fig_saving_path):\n",
        "    #    os.makedirs(fig_saving_path)\n",
        "\n",
        "    # plt.savefig(os.path.join(fig_saving_path, fig_name1))\n",
        "\n",
        "    axes = plt.gca()\n",
        "\n",
        "    plt.figure()\n",
        "    plt.plot(epochsn, acc, 'b', label='Training Accuracy')\n",
        "    plt.plot(epochsn, val_acc, 'r', label='Validation Accuracy')\n",
        "    plt.grid(color='gray', linestyle='--')\n",
        "    plt.legend()            \n",
        "    plt.title('ACCURACY')\n",
        "    plt.xlabel('Epochs')\n",
        "    plt.ylabel('Accuracy')\n",
        "\n",
        "    #fig_name2 = \"task1_accuracy.png\"\n",
        "    #plt.savefig(os.path.join(fig_saving_path, fig_name2))\n",
        "\n",
        "    plt.show()"
      ],
      "metadata": {
        "id": "qLll5tZXDA5B"
      },
      "execution_count": 101,
      "outputs": []
    },
    {
      "cell_type": "code",
      "source": [
        "plot_acc_loss(history.history)"
      ],
      "metadata": {
        "colab": {
          "base_uri": "https://localhost:8080/",
          "height": 927
        },
        "outputId": "b402b99a-dcf0-44b2-f51c-5e375205b8d6",
        "id": "V-Mu2ugvDA5B"
      },
      "execution_count": 102,
      "outputs": [
        {
          "output_type": "display_data",
          "data": {
            "text/plain": [
              "<Figure size 640x480 with 1 Axes>"
            ],
            "image/png": "[encoded data removed]"
          },
          "metadata": {}
        },
        {
          "output_type": "display_data",
          "data": {
            "text/plain": [
              "<Figure size 640x480 with 1 Axes>"
            ],
            "image/png": "[encoded data removed]"
          },
          "metadata": {}
        }
      ]
    },
    {
      "cell_type": "code",
      "source": [
        "y_pred = model.predict(X_test)\n",
        "print(confusion_matrix(y_test, cat_y_pred))"
      ],
      "metadata": {
        "colab": {
          "base_uri": "https://localhost:8080/"
        },
        "id": "EIk-IadRDpZs",
        "outputId": "d0ba763e-03b3-4785-c823-0b2f4f8094e1"
      },
      "execution_count": 103,
      "outputs": [
        {
          "output_type": "stream",
          "name": "stderr",
          "text": [
            "/usr/local/lib/python3.10/dist-packages/keras/engine/training_v1.py:2359: UserWarning: `Model.state_updates` will be removed in a future version. This property should not be used in TensorFlow 2.0, as `updates` are applied automatically.\n",
            "  updates=self.state_updates,\n"
          ]
        },
        {
          "output_type": "stream",
          "name": "stdout",
          "text": [
            "[[27849   266]\n",
            " [  204 14947]]\n"
          ]
        }
      ]
    },
    {
      "cell_type": "code",
      "source": [
        "p2_model_path = os.path.join(task2_path, 'model')\n",
        "print(p2_model_path)\n",
        "Path(p2_model_path).mkdir(parents=True, exist_ok=True)"
      ],
      "metadata": {
        "colab": {
          "base_uri": "https://localhost:8080/"
        },
        "outputId": "4ad11eeb-e4b3-411d-aa98-514690040cb6",
        "id": "dTAIlteoDA5B"
      },
      "execution_count": 104,
      "outputs": [
        {
          "output_type": "stream",
          "name": "stdout",
          "text": [
            "/content/drive/MyDrive/Colab_Notebooks/CS504/assg#4/task2/model\n"
          ]
        }
      ]
    },
    {
      "cell_type": "code",
      "source": [
        "p2_model_path = os.path.join(task2_path, 'model')\n",
        "#save the model\n",
        "model.save(os.path.join(p2_model_path, \"t2_model.h5\"))\n",
        "\n",
        "#save our history so we dont lose it.\n",
        "np.save(os.path.join(p2_model_path, \"t2_model_history.npy\"), history.history)"
      ],
      "metadata": {
        "id": "6dYON_7_DA5B"
      },
      "execution_count": 105,
      "outputs": []
    },
    {
      "cell_type": "markdown",
      "source": [
        "The deep learning model has an accuracy of 0.97, which is slightly lower than the Random Forest, XGBoost, and CatBoost ensemble models. The confusion matrix for the deep learning model is very similar to the CatBoost model, with a comparable number of false positives and false negatives. LightGBM has a slightly lower accuracy than the other models.\n",
        "\n",
        "In general, the ensemble models (Random Forest, XGBoost, and CatBoost) perform better in terms of classification accuracy compared to the deep learning model. One reason for this could be that ensemble models are often more robust and less prone to overfitting, especially when dealing with tabular data. On the other hand, deep learning models may require more data and fine-tuning to achieve optimal performance. It's also worth noting that deep learning models may take longer to train and require more computational resources compared to the ensemble models.\n",
        "\n",
        "In summary, while the deep learning model performs well in classifying the records, the ensemble models (Random Forest, XGBoost, and CatBoost) show slightly better performance in terms of classification accuracy."
      ],
      "metadata": {
        "id": "fItmP1CnE34j"
      }
    },
    {
      "cell_type": "markdown",
      "source": [
        "In the experiments, ensemble models like Random Forest, XGBoost, and CatBoost outperformed the deep learning model. This could be due to the fact that the dataset is structured and possibly not large enough. Traditional machine learning models often excel with this type of data as they're more adept at capturing linear relationships and interactions between different features. Deep learning models, on the other hand, usually require large amounts of unstructured data to perform well, as they learn to extract useful features directly from the data.\n",
        "\n",
        "Improving the deep learning model's performance could potentially be achieved by using more sophisticated network architectures, extensive hyperparameter tuning, and advanced regularization techniques to prevent overfitting. Furthermore, if it's feasible to gather more data, this could also enhance the deep learning model's performance. However, it's crucial to note that deep learning models might not always surpass conventional machine learning models on all tasks, especially those involving structured data and smaller datasets."
      ],
      "metadata": {
        "id": "wq6V06dVMdoq"
      }
    },
    {
      "cell_type": "markdown",
      "source": [
        "## 2.5 Implement a white-box FGSM evasion attack"
      ],
      "metadata": {
        "id": "umCPe9MXE43x"
      }
    },
    {
      "cell_type": "markdown",
      "source": [
        "Implement a white-box FGSM evasion attack against the deep learning model from Step 4. For creating the adversarial samples, use a random set of 1,000 records from the test dataset. Apply the following perturbation magnitudes: 𝜖= [0.01, 0.025, 0.05, 0.1, 0.2, 0.3].\n",
        "Report the classification accuracy and the average perturbation for the different levels of perturbation."
      ],
      "metadata": {
        "id": "4Xjnh4EkE70q"
      }
    },
    {
      "cell_type": "code",
      "source": [
        "p2_model_path = os.path.join(task2_path, 'model')\n",
        "loaded_model = load_model(os.path.join(p2_model_path, \"t2_model.h5\"))"
      ],
      "metadata": {
        "id": "u_ZVM5QVE-Ek"
      },
      "execution_count": 135,
      "outputs": []
    },
    {
      "cell_type": "code",
      "source": [
        "y_test_onehot = keras.utils.to_categorical(y_test, 2)"
      ],
      "metadata": {
        "id": "_3VvVY-xRuh_"
      },
      "execution_count": 136,
      "outputs": []
    },
    {
      "cell_type": "code",
      "source": [
        "# Randomly select 1000 records from the test dataset\n",
        "np.random.seed(42)\n",
        "indices = np.random.choice(X_test.shape[0], size=1000, replace=False)\n",
        "X_test_subset = X_test[indices]\n",
        "y_test_subset = y_test_onehot[indices]"
      ],
      "metadata": {
        "id": "KDBwrn8nQjXM"
      },
      "execution_count": 137,
      "outputs": []
    },
    {
      "cell_type": "code",
      "source": [
        "# Wrap the model with ART's KerasClassifier\n",
        "classifier = KerasClassifier(model=loaded_model, clip_values=(0, 1))\n",
        "\n",
        "# Define the FGSM attack\n",
        "epsilons = [0.01, 0.025, 0.05, 0.1, 0.2, 0.3]\n",
        "\n",
        "for eps in epsilons:\n",
        "    attacker = FastGradientMethod(estimator=classifier, eps=eps)\n",
        "    X_test_adv = attacker.generate(x=X_test_subset)\n",
        "\n",
        "    # Evaluate the performance of the model on adversarial test examples\n",
        "    predictions = classifier.predict(X_test_adv)\n",
        "    accuracy = np.sum(np.argmax(predictions, axis=1) == np.argmax(y_test_subset, axis=1)) / len(y_test_subset)\n",
        "    avg_perturbation = np.mean(np.abs((X_test_adv - X_test_subset)))\n",
        "\n",
        "    print(f'Perturbation magnitude: {eps}, Test Accuracy: {accuracy}, Average Perturbation: {avg_perturbation}')"
      ],
      "metadata": {
        "colab": {
          "base_uri": "https://localhost:8080/"
        },
        "id": "SDrr8RZSQYzx",
        "outputId": "b56cf23c-5f83-43d2-ab93-f235dc6ea993"
      },
      "execution_count": 143,
      "outputs": [
        {
          "output_type": "stream",
          "name": "stdout",
          "text": [
            "Perturbation magnitude: 0.01, Test Accuracy: 0.054, Average Perturbation: 0.006000117586288093\n",
            "Perturbation magnitude: 0.025, Test Accuracy: 0.041, Average Perturbation: 0.014768172831974628\n",
            "Perturbation magnitude: 0.05, Test Accuracy: 0.04, Average Perturbation: 0.029035140907544842\n",
            "Perturbation magnitude: 0.1, Test Accuracy: 0.04, Average Perturbation: 0.05710362428553399\n",
            "Perturbation magnitude: 0.2, Test Accuracy: 0.04, Average Perturbation: 0.11229938795562655\n",
            "Perturbation magnitude: 0.3, Test Accuracy: 0.039, Average Perturbation: 0.16598167897141314\n"
          ]
        }
      ]
    },
    {
      "cell_type": "markdown",
      "source": [
        "## 2.6 Implement a white-box Carlini & Wagner ℓ2 and ℓ∞ attacks"
      ],
      "metadata": {
        "id": "DgWl_CMRE-xn"
      }
    },
    {
      "cell_type": "markdown",
      "source": [
        "Implement a white-box Carlini & Wagner ℓ2 and ℓ∞ attacks against the deep learning model from Step 5. For creating the attacks, use a random set of 100 records from the test dataset.\n",
        "Report the classification accuracy and the average perturbation."
      ],
      "metadata": {
        "id": "ShhCZyg4FCkZ"
      }
    },
    {
      "cell_type": "code",
      "source": [
        "# Select a subset of the test set\n",
        "np.random.seed(42)\n",
        "indices = np.random.choice(X_test.shape[0], size=100, replace=False)\n",
        "X_test_subset = X_test[indices]\n",
        "y_test_subset = y_test_onehot[indices]\n",
        "\n",
        "# Wrap the model with ART's KerasClassifier\n",
        "classifier = KerasClassifier(model=loaded_model, clip_values=(0, 1))\n",
        "\n",
        "# Carlini & Wagner L2 attack\n",
        "attacker_l2 = CarliniL2Method(classifier=classifier)\n",
        "X_test_adv_l2 = attacker_l2.generate(x=X_test_subset)\n",
        "\n",
        "# Evaluate the model on the adversarial test examples\n",
        "predictions_l2 = classifier.predict(X_test_adv_l2)\n",
        "accuracy_l2 = np.sum(np.argmax(predictions_l2, axis=1) == np.argmax(y_test_subset, axis=1)) / len(y_test_subset)\n",
        "avg_perturbation_l2 = np.mean(np.abs((X_test_adv_l2 - X_test_subset)))\n",
        "\n",
        "print(f'Carlini & Wagner L2 Attack: Test Accuracy: {accuracy_l2}, Average Perturbation: {avg_perturbation_l2}')\n",
        "\n",
        "# Carlini & Wagner LInf attack\n",
        "attacker_linf = CarliniLInfMethod(classifier=classifier)\n",
        "X_test_adv_linf = attacker_linf.generate(x=X_test_subset)\n",
        "\n",
        "# Evaluate the model on the adversarial test examples\n",
        "predictions_linf = classifier.predict(X_test_adv_linf)\n",
        "accuracy_linf = np.sum(np.argmax(predictions_linf, axis=1) == np.argmax(y_test_subset, axis=1)) / len(y_test_subset)\n",
        "avg_perturbation_linf = np.mean(np.abs((X_test_adv_linf - X_test_subset)))\n",
        "\n",
        "print(f'Carlini & Wagner LInf Attack: Test Accuracy: {accuracy_linf}, Average Perturbation: {avg_perturbation_linf}')"
      ],
      "metadata": {
        "colab": {
          "base_uri": "https://localhost:8080/",
          "height": 116,
          "referenced_widgets": [
            "0ab31ed088bb47e79553dd80243d5a51",
            "45c90948329b4c47978c6704d8fd9b4d",
            "a4384fdbf297438bb346fdc139685300",
            "f2904a804c084a92bedd0eb801813231",
            "0a1a2e6ea51348cba5866e84e3985c63",
            "f314c2a6f85949e9b820f2de1ebdfd0b",
            "6d40ec53f40847e9b88f512dcfbe81ee",
            "9c5872f538b544b293c65da76f9dc794",
            "afb0e6a43955442ab4241ec6336e45e9",
            "23d99ec00d65467ba5d6cacc7df07fb0",
            "df97fc6cc7ab4f3ebe80b82cd941d389",
            "188ff54a374e4ec7bbc6e608c0db1822",
            "284ef992bb404844a6ab3d72b26e9aa3",
            "746bb15572934404a83ad6002fe34087",
            "436113a483d94e648ba7eab1d4be9aae",
            "6afc1782f07943e487561c717367b46a",
            "3ae742b9e50d4de9bf123aa894928cf2",
            "be985f7b5d294cccaa46a8ef799a232e",
            "6c21f8bbe64e4500bdf8fe7cfa4032d8",
            "272dc84111724de6b6e77953757b1da7",
            "aca17c25e57f4ed5b75f7c96f3f50ba6",
            "e2213aafbdb048f38da42f8f93367e3c"
          ]
        },
        "id": "GHeXyZRTFEQG",
        "outputId": "46924319-64ae-4a1c-e8cb-fe3d47920304"
      },
      "execution_count": 129,
      "outputs": [
        {
          "output_type": "display_data",
          "data": {
            "text/plain": [
              "C&W L_2:   0%|          | 0/100 [00:00<?, ?it/s]"
            ],
            "application/vnd.jupyter.widget-view+json": {
              "version_major": 2,
              "version_minor": 0,
              "model_id": "0ab31ed088bb47e79553dd80243d5a51"
            }
          },
          "metadata": {}
        },
        {
          "output_type": "stream",
          "name": "stdout",
          "text": [
            "Carlini & Wagner L2 Attack: Test Accuracy: 0.21, Average Perturbation: 0.004718122751188972\n"
          ]
        },
        {
          "output_type": "display_data",
          "data": {
            "text/plain": [
              "C&W L_inf:   0%|          | 0/100 [00:00<?, ?it/s]"
            ],
            "application/vnd.jupyter.widget-view+json": {
              "version_major": 2,
              "version_minor": 0,
              "model_id": "188ff54a374e4ec7bbc6e608c0db1822"
            }
          },
          "metadata": {}
        },
        {
          "output_type": "stream",
          "name": "stdout",
          "text": [
            "Carlini & Wagner LInf Attack: Test Accuracy: 0.71, Average Perturbation: 0.0012353318868522684\n"
          ]
        }
      ]
    },
    {
      "cell_type": "markdown",
      "source": [
        "## 2.7 Implement the Zoo evasion attack "
      ],
      "metadata": {
        "id": "qWbzYbzVFEgK"
      }
    },
    {
      "cell_type": "markdown",
      "source": [
        "Implement the Zoo evasion attack against the Random Forest model. The following notebook in the ART library provides an example of how to implement the attack with a Random Forest model. For creating the attack, use a random set of 20 records from the test dataset.\n",
        "Report the classification accuracy. Elaborate on the difference between the results of the FGSM and C&W attacks."
      ],
      "metadata": {
        "id": "PkgQt6TUFJQu"
      }
    },
    {
      "cell_type": "code",
      "source": [
        "# Select a subset of the test set\n",
        "np.random.seed(42)\n",
        "indices = np.random.choice(X_test.shape[0], size=20, replace=False)\n",
        "X_test_subset = X_test[indices]\n",
        "y_test_subset = y_test[:, np.newaxis][indices]\n",
        "\n",
        "# Wrap the model with ART's SklearnClassifier\n",
        "classifier = SklearnClassifier(model=rf_model)\n",
        "\n",
        "# Define the Zoo attack\n",
        "attacker = ZooAttack(classifier=classifier, confidence=0.0, targeted=False, learning_rate=1e-1, max_iter=100, \n",
        "                     binary_search_steps=10, initial_const=1e-3, abort_early=True, use_resize=False, \n",
        "                     use_importance=False, nb_parallel=1, batch_size=1, variable_h=0.2)\n",
        "\n",
        "X_test_adv = attacker.generate(x=X_test_subset)\n",
        "\n",
        "# Evaluate the model on the adversarial test examples\n",
        "predictions = classifier.predict(X_test_adv)\n",
        "accuracy = np.sum(predictions == y_test_subset) / len(y_test_subset)\n",
        "\n",
        "print(f'Zoo Attack: Test Accuracy: {accuracy}')"
      ],
      "metadata": {
        "colab": {
          "base_uri": "https://localhost:8080/",
          "height": 156,
          "referenced_widgets": [
            "a9a376328b404c98bb3fa0a65290a82e",
            "e4f82d9243aa47c68cd3a2af2df2c17c",
            "0649fb1c026840e69644d0c1c21959fa",
            "c7fa1971c9274117a064c297acf2ac19",
            "b11c81bbd32647389e7b2a94a47d5b53",
            "a3a54433df6f4150a45375aef7c1e5ba",
            "0f23e64658064d1088f27b63fb0e3d39",
            "479d64d048234dfcaeb0a196620e35e8",
            "4e9b1fb754c2446db87286a8b1bb0d17",
            "b9cc20b1f0494212a4b493c56b5496e9",
            "49ce976cf43d4bf695a22dd1b82acefb"
          ]
        },
        "id": "iwUvBD4rT_9z",
        "outputId": "59ee0cc2-c6bb-4d0f-8c57-1d1893b73cdc"
      },
      "execution_count": 133,
      "outputs": [
        {
          "output_type": "stream",
          "name": "stderr",
          "text": [
            "<ipython-input-133-81eb8ec24cca>:5: FutureWarning: Support for multi-dimensional indexing (e.g. `obj[:, None]`) is deprecated and will be removed in a future version.  Convert to a numpy array before indexing instead.\n",
            "  y_test_subset = y_test[:, np.newaxis][indices]\n",
            "/usr/local/lib/python3.10/dist-packages/sklearn/utils/deprecation.py:103: FutureWarning: Attribute `n_features_` was deprecated in version 1.0 and will be removed in 1.2. Use `n_features_in_` instead.\n",
            "  warnings.warn(msg, category=FutureWarning)\n"
          ]
        },
        {
          "output_type": "display_data",
          "data": {
            "text/plain": [
              "ZOO:   0%|          | 0/20 [00:00<?, ?it/s]"
            ],
            "application/vnd.jupyter.widget-view+json": {
              "version_major": 2,
              "version_minor": 0,
              "model_id": "a9a376328b404c98bb3fa0a65290a82e"
            }
          },
          "metadata": {}
        },
        {
          "output_type": "stream",
          "name": "stdout",
          "text": [
            "Zoo Attack: Test Accuracy: 0.0\n"
          ]
        }
      ]
    },
    {
      "cell_type": "markdown",
      "source": [
        "The Fast Gradient Sign Method (FGSM) introduced notable perturbations to the input data, causing a significant drop in the model's accuracy. This underscores the model's vulnerability to such adversarial attacks.\n",
        "\n",
        "The Carlini & Wagner (C&W) attacks, however, were subtler. They induced smaller perturbations while maintaining a relatively higher accuracy than FGSM. This suggests that the C&W attacks managed to deceive the model more efficiently, using less noticeable changes to the input data.\n",
        "\n",
        "The Zeroth Order Optimization (ZOO) attack was highly effective against the Random Forest model, despite its black-box nature. It resulted in a test accuracy of 0.0, indicating a complete deception of the model. This underlines the potency of ZOO attacks, even when gradient information is absent, emphasizing the need to consider such attacks when evaluating the robustness of all machine learning models."
      ],
      "metadata": {
        "id": "68v2jHdfYrRe"
      }
    }
  ]
}